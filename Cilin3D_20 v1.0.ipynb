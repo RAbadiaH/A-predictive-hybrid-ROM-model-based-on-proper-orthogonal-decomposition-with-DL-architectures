{
 "cells": [
  {
   "cell_type": "markdown",
   "metadata": {
    "colab_type": "text",
    "id": "hK4uiIf0c7uS"
   },
   "source": [
    "# 1 Load packages and functions"
   ]
  },
  {
   "cell_type": "code",
   "execution_count": 8,
   "metadata": {
    "colab": {},
    "colab_type": "code",
    "id": "blMmfoH-c7ub"
   },
   "outputs": [],
   "source": [
    "import numpy as np\n",
    "import pandas as pd\n",
    "import collections\n",
    "import os\n",
    "import matplotlib.pyplot as plt\n",
    "import datetime, time\n",
    "import scipy\n",
    "\n",
    "\n",
    "import sklearn\n",
    "from sklearn.preprocessing import MultiLabelBinarizer\n",
    "from sklearn.preprocessing import LabelBinarizer\n",
    "from sklearn.preprocessing import LabelEncoder\n",
    "from sklearn.metrics import accuracy_score, precision_score, recall_score\n",
    "from sklearn.metrics import f1_score, confusion_matrix\n",
    "from sklearn.metrics import precision_recall_fscore_support\n",
    "from sklearn.preprocessing import StandardScaler\n",
    "from sklearn.preprocessing import MinMaxScaler\n",
    "import pandas.core.algorithms as algos\n",
    "from pandas import Series\n",
    "from sklearn.preprocessing import OneHotEncoder\n",
    "from sklearn.metrics import roc_auc_score, mean_squared_error, mean_absolute_error, median_absolute_error, r2_score"
   ]
  },
  {
   "cell_type": "code",
   "execution_count": 9,
   "metadata": {
    "colab": {
     "base_uri": "https://localhost:8080/",
     "height": 64
    },
    "colab_type": "code",
    "executionInfo": {
     "elapsed": 7150,
     "status": "ok",
     "timestamp": 1584715973157,
     "user": {
      "displayName": "Manuel López Martín",
      "photoUrl": "https://lh3.googleusercontent.com/a-/AOh14Gjkbx9ZcgNrx28G-E9vmuDH73kYDfRwYT7t4SrOSQytLxtAwwl3I1K9yrMCXDmpZDNRYJMtwAh1zUlDFBeKxUr27pGfkbEuB8jW7lZ493uXzPvtAaC789hDEYxeLTuYOFvHe-CvV2lEUxJ-VQLYi-j3sjekrCtwd-fTarbdYre3bTLHf9qgyLR3sZDRdiYD5IIGnePAsdQ9BIuGb6m4UTckK_xLzJgUTGemEM4_uRpl_eTir9imsyDARB5cNolutC5oZ0iMtKKJbCSYpV3aOTZ28OfpEdOfCEXKGAfl8VA5Pi5V-p60C5ZwEu856OwlJv7ZoHH2ZhQKmEYkYHTn7EyTdCrJ5Wg7VE_RH5I7zuIbBOsOgXRaR38zr9XRYFuL_zj2DYkQ4u95CqyClNNV6uRBFCj9FPpbqwjUT_2weo_47cJP73uX3TByD16ShG8kOrPjIxMg8KatQnF6UjA4iySodg_LXbsWXBNja5pnBt4EEep476uXgMytX0nLvN-7i4DeJINnM2Td0y7F5Bf9sVkAC5mRULjppb8fao84LSFAxoHLIXl4BvMY6tKT6ywy54zbmr99YPuUqXt2GZ0TsSBOPXlYUXz_jAsloMrqeSgxGDnsm1tBrvbECnnBELENi9r9PUE6lTJ5Fn3pXDYIJ2RJcGT9sebJo-QjsOlAl8nIbydH8wH_EqPmWIncWhFSfpv0mue8KLsNEE5QV6d5zV4CNioVdf34uezwiG4zeLzlJ0VZmf5ByQXWD1FoiZKC7vOBZw=s64",
      "userId": "11336038813033628796"
     },
     "user_tz": -60
    },
    "id": "f4QVCeWlc7uo",
    "outputId": "fb575e83-6615-471f-ab85-86859d6ac5e4"
   },
   "outputs": [],
   "source": [
    "import tensorflow as tf\n",
    "from tensorflow import keras\n",
    "from tensorflow.keras import layers\n",
    "from tensorflow.keras.layers import Embedding, dot\n",
    "\n",
    "from tensorflow.keras.models import Sequential\n",
    "from tensorflow.keras.layers import Embedding, Dense, Dropout, Reshape, BatchNormalization, TimeDistributed, \\\n",
    "                         Lambda, Activation, LSTM, Flatten, Convolution1D, GRU, MaxPooling1D, concatenate\n",
    "from tensorflow.keras.regularizers import l2\n",
    "from tensorflow.keras.callbacks import Callback, ModelCheckpoint, EarlyStopping\n",
    "from tensorflow.keras import initializers\n",
    "from tensorflow.keras import backend as K\n",
    "from tensorflow.keras.optimizers import SGD\n",
    "\n",
    "from tensorflow.keras.models import Model\n",
    "from tensorflow.keras.layers import LSTM\n",
    "from tensorflow.keras.layers import Input\n",
    "from tensorflow.keras.backend import abs\n",
    "\n",
    "from tensorflow.keras.layers import Dense, Dropout, Flatten, dot, Permute, Concatenate\n",
    "from tensorflow.keras.layers import Conv2D, MaxPooling2D, Conv3D, MaxPooling3D\n",
    "\n",
    "from tensorflow.keras.layers import add"
   ]
  },
  {
   "cell_type": "code",
   "execution_count": 10,
   "metadata": {
    "colab": {},
    "colab_type": "code",
    "id": "pLvCm1Woc7uv"
   },
   "outputs": [],
   "source": [
    "pd.set_option('display.max_columns',100)\n",
    "pd.set_option('display.max_rows',100)"
   ]
  },
  {
   "cell_type": "code",
   "execution_count": 11,
   "metadata": {
    "colab": {},
    "colab_type": "code",
    "id": "iqZk78iCm6ve"
   },
   "outputs": [],
   "source": [
    "def mean_absolute_percentage_error(y_true, y_pred): \n",
    "    epsilon = 1e-10 \n",
    "    y_true, y_pred = np.array(y_true), np.array(y_pred)\n",
    "    return np.mean(np.abs((y_true - y_pred) / np.maximum(epsilon,np.abs(y_true)))) * 100"
   ]
  },
  {
   "cell_type": "code",
   "execution_count": 12,
   "metadata": {
    "colab": {},
    "colab_type": "code",
    "id": "EoCbAC1KnlJ-"
   },
   "outputs": [],
   "source": [
    "def smape(A, F):\n",
    "    return ((100.0/len(A)) * np.sum(2 * np.abs(F - A) / (np.abs(A) + np.abs(F))+ np.finfo(float).eps))"
   ]
  },
  {
   "cell_type": "code",
   "execution_count": 39,
   "metadata": {
    "colab": {},
    "colab_type": "code",
    "id": "q4j3CKe7TzJT"
   },
   "outputs": [],
   "source": [
    "# Relative root mean square error\n",
    "def RRMSE (real, predicted):\n",
    "  a = np.linalg.norm((real-predicted), ord='fro')\n",
    "  b = np.linalg.norm(real, ord='fro')\n",
    "  return(a/b)"
   ]
  },
  {
   "cell_type": "markdown",
   "metadata": {},
   "source": [
    "# 2 Load dataset"
   ]
  },
  {
   "cell_type": "code",
   "execution_count": 15,
   "metadata": {
    "colab": {},
    "colab_type": "code",
    "id": "OTXDwgtlc7vG"
   },
   "outputs": [],
   "source": [
    "######################################################\n",
    "### Load dataset\n",
    "######################################################\n",
    "#import dill\n",
    "#filename_save = open('Cilin3D_AML_20.pkl','rb')\n",
    "#tensor = dill.load(filename_save)\n",
    "######################################################"
   ]
  },
  {
   "cell_type": "markdown",
   "metadata": {},
   "source": [
    "### Rodrigo, cargar estructura de datos, tensor"
   ]
  },
  {
   "cell_type": "code",
   "execution_count": 18,
   "metadata": {
    "colab": {
     "base_uri": "https://localhost:8080/",
     "height": 35
    },
    "colab_type": "code",
    "executionInfo": {
     "elapsed": 31828,
     "status": "ok",
     "timestamp": 1584716000171,
     "user": {
      "displayName": "Manuel López Martín",
      "photoUrl": "https://lh3.googleusercontent.com/a-/AOh14Gjkbx9ZcgNrx28G-E9vmuDH73kYDfRwYT7t4SrOSQytLxtAwwl3I1K9yrMCXDmpZDNRYJMtwAh1zUlDFBeKxUr27pGfkbEuB8jW7lZ493uXzPvtAaC789hDEYxeLTuYOFvHe-CvV2lEUxJ-VQLYi-j3sjekrCtwd-fTarbdYre3bTLHf9qgyLR3sZDRdiYD5IIGnePAsdQ9BIuGb6m4UTckK_xLzJgUTGemEM4_uRpl_eTir9imsyDARB5cNolutC5oZ0iMtKKJbCSYpV3aOTZ28OfpEdOfCEXKGAfl8VA5Pi5V-p60C5ZwEu856OwlJv7ZoHH2ZhQKmEYkYHTn7EyTdCrJ5Wg7VE_RH5I7zuIbBOsOgXRaR38zr9XRYFuL_zj2DYkQ4u95CqyClNNV6uRBFCj9FPpbqwjUT_2weo_47cJP73uX3TByD16ShG8kOrPjIxMg8KatQnF6UjA4iySodg_LXbsWXBNja5pnBt4EEep476uXgMytX0nLvN-7i4DeJINnM2Td0y7F5Bf9sVkAC5mRULjppb8fao84LSFAxoHLIXl4BvMY6tKT6ywy54zbmr99YPuUqXt2GZ0TsSBOPXlYUXz_jAsloMrqeSgxGDnsm1tBrvbECnnBELENi9r9PUE6lTJ5Fn3pXDYIJ2RJcGT9sebJo-QjsOlAl8nIbydH8wH_EqPmWIncWhFSfpv0mue8KLsNEE5QV6d5zV4CNioVdf34uezwiG4zeLzlJ0VZmf5ByQXWD1FoiZKC7vOBZw=s64",
      "userId": "11336038813033628796"
     },
     "user_tz": -60
    },
    "id": "B3_14F1ic7vL",
    "outputId": "be896ff3-60dc-41ea-f1ed-b2484a0ca3d5"
   },
   "outputs": [
    {
     "name": "stdout",
     "output_type": "stream",
     "text": [
      "(20, 499)\n"
     ]
    }
   ],
   "source": [
    "print(tensor.shape)"
   ]
  },
  {
   "cell_type": "markdown",
   "metadata": {
    "colab_type": "text",
    "id": "qQSDVCF8AyAk"
   },
   "source": [
    "### Dataset characteristics"
   ]
  },
  {
   "cell_type": "code",
   "execution_count": 19,
   "metadata": {
    "colab": {
     "base_uri": "https://localhost:8080/",
     "height": 70
    },
    "colab_type": "code",
    "executionInfo": {
     "elapsed": 28765,
     "status": "ok",
     "timestamp": 1584716001588,
     "user": {
      "displayName": "Manuel López Martín",
      "photoUrl": "https://lh3.googleusercontent.com/a-/AOh14Gjkbx9ZcgNrx28G-E9vmuDH73kYDfRwYT7t4SrOSQytLxtAwwl3I1K9yrMCXDmpZDNRYJMtwAh1zUlDFBeKxUr27pGfkbEuB8jW7lZ493uXzPvtAaC789hDEYxeLTuYOFvHe-CvV2lEUxJ-VQLYi-j3sjekrCtwd-fTarbdYre3bTLHf9qgyLR3sZDRdiYD5IIGnePAsdQ9BIuGb6m4UTckK_xLzJgUTGemEM4_uRpl_eTir9imsyDARB5cNolutC5oZ0iMtKKJbCSYpV3aOTZ28OfpEdOfCEXKGAfl8VA5Pi5V-p60C5ZwEu856OwlJv7ZoHH2ZhQKmEYkYHTn7EyTdCrJ5Wg7VE_RH5I7zuIbBOsOgXRaR38zr9XRYFuL_zj2DYkQ4u95CqyClNNV6uRBFCj9FPpbqwjUT_2weo_47cJP73uX3TByD16ShG8kOrPjIxMg8KatQnF6UjA4iySodg_LXbsWXBNja5pnBt4EEep476uXgMytX0nLvN-7i4DeJINnM2Td0y7F5Bf9sVkAC5mRULjppb8fao84LSFAxoHLIXl4BvMY6tKT6ywy54zbmr99YPuUqXt2GZ0TsSBOPXlYUXz_jAsloMrqeSgxGDnsm1tBrvbECnnBELENi9r9PUE6lTJ5Fn3pXDYIJ2RJcGT9sebJo-QjsOlAl8nIbydH8wH_EqPmWIncWhFSfpv0mue8KLsNEE5QV6d5zV4CNioVdf34uezwiG4zeLzlJ0VZmf5ByQXWD1FoiZKC7vOBZw=s64",
      "userId": "11336038813033628796"
     },
     "user_tz": -60
    },
    "id": "r1A5ugiAc7vk",
    "outputId": "92f972e2-bbb3-4599-ff3b-be119a2653a4"
   },
   "outputs": [
    {
     "name": "stdout",
     "output_type": "stream",
     "text": [
      "-475.89549944069927 204.5281599800036\n",
      "680.4236594207028\n",
      "112.36652408219521\n"
     ]
    }
   ],
   "source": [
    "# min, max, range and standard deviation of values\n",
    "min_val = np.amin(tensor)\n",
    "max_val = np.amax(tensor)\n",
    "range_val = np.ptp(tensor)\n",
    "std_val =np.std(tensor)\n",
    "print(min_val, max_val)\n",
    "print(range_val) # value range\n",
    "print(std_val)"
   ]
  },
  {
   "cell_type": "code",
   "execution_count": 20,
   "metadata": {
    "scrolled": true
   },
   "outputs": [
    {
     "data": {
      "text/plain": [
       "array([-475.89549944,  -30.64634805,   -9.979747  ,   -5.96297768,\n",
       "         -3.31892845,   -0.69624418,    1.8948417 ,    4.53772701,\n",
       "          7.45385114,   18.12573463])"
      ]
     },
     "execution_count": 20,
     "metadata": {},
     "output_type": "execute_result"
    }
   ],
   "source": [
    "# Quantiles of data\n",
    "np.quantile(tensor.flatten(), np.arange(0,1,0.1))"
   ]
  },
  {
   "cell_type": "markdown",
   "metadata": {},
   "source": [
    "### Distribution of values"
   ]
  },
  {
   "cell_type": "code",
   "execution_count": 22,
   "metadata": {},
   "outputs": [
    {
     "data": {
      "image/png": "[encoded data removed]",
      "text/plain": [
       "<Figure size 432x288 with 1 Axes>"
      ]
     },
     "metadata": {
      "needs_background": "light"
     },
     "output_type": "display_data"
    }
   ],
   "source": [
    "import numpy as np\n",
    "import matplotlib.pyplot as plt\n",
    "\n",
    "plt.boxplot(tensor.flatten())\n",
    "plt.show()"
   ]
  },
  {
   "cell_type": "code",
   "execution_count": 23,
   "metadata": {},
   "outputs": [
    {
     "data": {
      "image/png": "[encoded data removed]",
      "text/plain": [
       "<Figure size 432x288 with 1 Axes>"
      ]
     },
     "metadata": {
      "needs_background": "light"
     },
     "output_type": "display_data"
    }
   ],
   "source": [
    "import numpy as np\n",
    "import matplotlib.pyplot as plt\n",
    "\n",
    "plt.hist(tensor.flatten(), density=False)\n",
    "plt.show()"
   ]
  },
  {
   "cell_type": "markdown",
   "metadata": {
    "colab_type": "text",
    "id": "Ox3FsBFWc7vq"
   },
   "source": [
    "### Data scaling"
   ]
  },
  {
   "cell_type": "code",
   "execution_count": 24,
   "metadata": {
    "colab": {
     "base_uri": "https://localhost:8080/",
     "height": 35
    },
    "colab_type": "code",
    "executionInfo": {
     "elapsed": 26964,
     "status": "ok",
     "timestamp": 1584716005666,
     "user": {
      "displayName": "Manuel López Martín",
      "photoUrl": "https://lh3.googleusercontent.com/a-/AOh14Gjkbx9ZcgNrx28G-E9vmuDH73kYDfRwYT7t4SrOSQytLxtAwwl3I1K9yrMCXDmpZDNRYJMtwAh1zUlDFBeKxUr27pGfkbEuB8jW7lZ493uXzPvtAaC789hDEYxeLTuYOFvHe-CvV2lEUxJ-VQLYi-j3sjekrCtwd-fTarbdYre3bTLHf9qgyLR3sZDRdiYD5IIGnePAsdQ9BIuGb6m4UTckK_xLzJgUTGemEM4_uRpl_eTir9imsyDARB5cNolutC5oZ0iMtKKJbCSYpV3aOTZ28OfpEdOfCEXKGAfl8VA5Pi5V-p60C5ZwEu856OwlJv7ZoHH2ZhQKmEYkYHTn7EyTdCrJ5Wg7VE_RH5I7zuIbBOsOgXRaR38zr9XRYFuL_zj2DYkQ4u95CqyClNNV6uRBFCj9FPpbqwjUT_2weo_47cJP73uX3TByD16ShG8kOrPjIxMg8KatQnF6UjA4iySodg_LXbsWXBNja5pnBt4EEep476uXgMytX0nLvN-7i4DeJINnM2Td0y7F5Bf9sVkAC5mRULjppb8fao84LSFAxoHLIXl4BvMY6tKT6ywy54zbmr99YPuUqXt2GZ0TsSBOPXlYUXz_jAsloMrqeSgxGDnsm1tBrvbECnnBELENi9r9PUE6lTJ5Fn3pXDYIJ2RJcGT9sebJo-QjsOlAl8nIbydH8wH_EqPmWIncWhFSfpv0mue8KLsNEE5QV6d5zV4CNioVdf34uezwiG4zeLzlJ0VZmf5ByQXWD1FoiZKC7vOBZw=s64",
      "userId": "11336038813033628796"
     },
     "user_tz": -60
    },
    "id": "V8yq-We-c7vs",
    "outputId": "3e63960d-9616-41cf-c6d6-42eafb28e0d2"
   },
   "outputs": [
    {
     "data": {
      "text/plain": [
       "DescribeResult(nobs=9980, minmax=(0.0, 1.0), mean=0.6646146579783964, variance=0.02727461314851619, skewness=-3.1008923912379194, kurtosis=10.227021198311078)"
      ]
     },
     "execution_count": 24,
     "metadata": {},
     "output_type": "execute_result"
    }
   ],
   "source": [
    "tensor_norm = (tensor-min_val)/range_val\n",
    "scipy.stats.describe(tensor_norm.flatten())"
   ]
  },
  {
   "cell_type": "code",
   "execution_count": 22,
   "metadata": {
    "scrolled": true
   },
   "outputs": [
    {
     "data": {
      "text/plain": [
       "array([0.        , 0.65437047, 0.68474361, 0.69064695, 0.69453283,\n",
       "       0.69838732, 0.70219537, 0.70607954, 0.71036529, 0.72604947])"
      ]
     },
     "execution_count": 22,
     "metadata": {},
     "output_type": "execute_result"
    }
   ],
   "source": [
    "np.quantile(tensor_norm.flatten(), np.arange(0,1,0.1))"
   ]
  },
  {
   "cell_type": "code",
   "execution_count": 23,
   "metadata": {},
   "outputs": [
    {
     "data": {
      "image/png": "[encoded data removed]",
      "text/plain": [
       "<Figure size 432x288 with 1 Axes>"
      ]
     },
     "metadata": {
      "needs_background": "light"
     },
     "output_type": "display_data"
    }
   ],
   "source": [
    "import numpy as np\n",
    "import matplotlib.pyplot as plt\n",
    "\n",
    "plt.boxplot(tensor_norm.flatten())\n",
    "plt.show()"
   ]
  },
  {
   "cell_type": "code",
   "execution_count": 24,
   "metadata": {},
   "outputs": [
    {
     "data": {
      "image/png": "[encoded data removed]",
      "text/plain": [
       "<Figure size 432x288 with 1 Axes>"
      ]
     },
     "metadata": {
      "needs_background": "light"
     },
     "output_type": "display_data"
    }
   ],
   "source": [
    "import numpy as np\n",
    "import matplotlib.pyplot as plt\n",
    "\n",
    "plt.hist(tensor_norm.flatten(), density=False)\n",
    "plt.show()"
   ]
  },
  {
   "cell_type": "markdown",
   "metadata": {
    "colab_type": "text",
    "id": "nhB_G54LtaKr"
   },
   "source": [
    "### Datset configuration"
   ]
  },
  {
   "cell_type": "code",
   "execution_count": 26,
   "metadata": {
    "colab": {
     "base_uri": "https://localhost:8080/",
     "height": 88
    },
    "colab_type": "code",
    "executionInfo": {
     "elapsed": 17331,
     "status": "ok",
     "timestamp": 1584716005924,
     "user": {
      "displayName": "Manuel López Martín",
      "photoUrl": "https://lh3.googleusercontent.com/a-/AOh14Gjkbx9ZcgNrx28G-E9vmuDH73kYDfRwYT7t4SrOSQytLxtAwwl3I1K9yrMCXDmpZDNRYJMtwAh1zUlDFBeKxUr27pGfkbEuB8jW7lZ493uXzPvtAaC789hDEYxeLTuYOFvHe-CvV2lEUxJ-VQLYi-j3sjekrCtwd-fTarbdYre3bTLHf9qgyLR3sZDRdiYD5IIGnePAsdQ9BIuGb6m4UTckK_xLzJgUTGemEM4_uRpl_eTir9imsyDARB5cNolutC5oZ0iMtKKJbCSYpV3aOTZ28OfpEdOfCEXKGAfl8VA5Pi5V-p60C5ZwEu856OwlJv7ZoHH2ZhQKmEYkYHTn7EyTdCrJ5Wg7VE_RH5I7zuIbBOsOgXRaR38zr9XRYFuL_zj2DYkQ4u95CqyClNNV6uRBFCj9FPpbqwjUT_2weo_47cJP73uX3TByD16ShG8kOrPjIxMg8KatQnF6UjA4iySodg_LXbsWXBNja5pnBt4EEep476uXgMytX0nLvN-7i4DeJINnM2Td0y7F5Bf9sVkAC5mRULjppb8fao84LSFAxoHLIXl4BvMY6tKT6ywy54zbmr99YPuUqXt2GZ0TsSBOPXlYUXz_jAsloMrqeSgxGDnsm1tBrvbECnnBELENi9r9PUE6lTJ5Fn3pXDYIJ2RJcGT9sebJo-QjsOlAl8nIbydH8wH_EqPmWIncWhFSfpv0mue8KLsNEE5QV6d5zV4CNioVdf34uezwiG4zeLzlJ0VZmf5ByQXWD1FoiZKC7vOBZw=s64",
      "userId": "11336038813033628796"
     },
     "user_tz": -60
    },
    "id": "_8jKtapZtaiq",
    "outputId": "babb8070-f077-4d4f-e41e-2f91d1dd75f6"
   },
   "outputs": [
    {
     "name": "stdout",
     "output_type": "stream",
     "text": [
      "total_length:  499\n",
      "channels_n:  0\n",
      "dim_x:  20\n",
      "dim_y:  0\n"
     ]
    }
   ],
   "source": [
    "total_length = tensor_norm.shape[1] # number of sbapshots\n",
    "channels_n = 0                      # number of channels, assuming each snapshot is an image with n channels\n",
    "dim_x = tensor_norm.shape[0]        # following the simil that each snapshot is an image, the dimension x of that image\n",
    "dim_y = 0                           # following the simil that each snapshot is an image, the dimension y of that image\n",
    "\n",
    "print('total_length: ', total_length)\n",
    "print('channels_n: ', channels_n)\n",
    "print('dim_x: ', dim_x)\n",
    "print('dim_y: ', dim_y)"
   ]
  },
  {
   "cell_type": "markdown",
   "metadata": {
    "colab_type": "text",
    "id": "f-UR6McopXmD"
   },
   "source": [
    "# 3 Prepare training and test sets"
   ]
  },
  {
   "cell_type": "code",
   "execution_count": 27,
   "metadata": {
    "colab": {},
    "colab_type": "code",
    "id": "_Mds0od0rIN_"
   },
   "outputs": [],
   "source": [
    "# We will use a data generator\n",
    "import math\n",
    "class DataGenerator(tf.keras.utils.Sequence): \n",
    "    'Generates data for Keras'\n",
    "    def __init__(self, data, list_IDs, batch_size=5, dim=(20), \n",
    "                 k = 624, p = 1, \n",
    "                 shuffle=True, till_end = False, only_test = False):\n",
    "        'Initialization'\n",
    "        self.data = data\n",
    "        self.dim = dim\n",
    "        self.batch_size = batch_size\n",
    "        self.list_IDs = list_IDs\n",
    "        self.shuffle = shuffle\n",
    "        self.p = p\n",
    "        self.k = k\n",
    "        self.till_end = till_end\n",
    "        self.only_test = only_test\n",
    "        self.on_epoch_end()\n",
    "\n",
    "    def __len__(self):\n",
    "        'Denotes the number of batches per epoch'\n",
    "        if self.till_end:\n",
    "          lenx = math.ceil((len(self.list_IDs) / self.batch_size))\n",
    "        else:\n",
    "          lenx = int(np.floor(len(self.list_IDs) / self.batch_size))\n",
    "        return lenx\n",
    "\n",
    "    def __getitem__(self, index):\n",
    "        'Generate one batch of data'\n",
    "        # Generate indexes of the batch\n",
    "        indexes = self.indexes[index*self.batch_size:(index+1)*self.batch_size]\n",
    "\n",
    "        # Find list of IDs\n",
    "        list_IDs_temp = [self.list_IDs[k] for k in indexes]\n",
    "\n",
    "        # Generate data\n",
    "        X, y = self.__data_generation(list_IDs_temp)\n",
    "        if self.only_test:\n",
    "          return X\n",
    "        else:\n",
    "          return X, y\n",
    "\n",
    "    def on_epoch_end(self):\n",
    "        'Updates indexes after each epoch'\n",
    "        self.indexes = np.arange(len(self.list_IDs))\n",
    "        if self.shuffle == True:\n",
    "            np.random.shuffle(self.indexes)\n",
    "\n",
    "    def __data_generation(self, list_IDs_temp):\n",
    "        'Generates data containing batch_size samples' # X : (n_samples, *dim, depth)\n",
    "        # Initialization\n",
    "        X = np.empty((self.batch_size, self.dim, self.k))\n",
    "        y = [np.empty((self.batch_size, self.dim))]*self.p\n",
    "\n",
    "        y_inter = np.empty((self.batch_size, self.dim, p))\n",
    "\n",
    "        # Generate data\n",
    "        lenn = len(list_IDs_temp)\n",
    "        for i, ID in enumerate(list_IDs_temp):\n",
    "            # Store Xtrain\n",
    "            X[i,:,:] = self.data[:,ID:ID+k]\n",
    "            # Store Ytrain\n",
    "            y_inter[i,:,:] = self.data[:,ID+k:ID+k+p] \n",
    "\n",
    "        for j in range(self.p):\n",
    "          y[j] = y_inter[:,:,j]\n",
    "          y[j] = np.reshape(y[j], (lenn, -1)) \n",
    "\n",
    "        X = X.transpose((0,2,1))\n",
    "\n",
    "        return X, y\n",
    "    \n",
    "    "
   ]
  },
  {
   "cell_type": "code",
   "execution_count": 28,
   "metadata": {
    "colab": {
     "base_uri": "https://localhost:8080/",
     "height": 212
    },
    "colab_type": "code",
    "executionInfo": {
     "elapsed": 503,
     "status": "ok",
     "timestamp": 1584716206838,
     "user": {
      "displayName": "Manuel López Martín",
      "photoUrl": "https://lh3.googleusercontent.com/a-/AOh14Gjkbx9ZcgNrx28G-E9vmuDH73kYDfRwYT7t4SrOSQytLxtAwwl3I1K9yrMCXDmpZDNRYJMtwAh1zUlDFBeKxUr27pGfkbEuB8jW7lZ493uXzPvtAaC789hDEYxeLTuYOFvHe-CvV2lEUxJ-VQLYi-j3sjekrCtwd-fTarbdYre3bTLHf9qgyLR3sZDRdiYD5IIGnePAsdQ9BIuGb6m4UTckK_xLzJgUTGemEM4_uRpl_eTir9imsyDARB5cNolutC5oZ0iMtKKJbCSYpV3aOTZ28OfpEdOfCEXKGAfl8VA5Pi5V-p60C5ZwEu856OwlJv7ZoHH2ZhQKmEYkYHTn7EyTdCrJ5Wg7VE_RH5I7zuIbBOsOgXRaR38zr9XRYFuL_zj2DYkQ4u95CqyClNNV6uRBFCj9FPpbqwjUT_2weo_47cJP73uX3TByD16ShG8kOrPjIxMg8KatQnF6UjA4iySodg_LXbsWXBNja5pnBt4EEep476uXgMytX0nLvN-7i4DeJINnM2Td0y7F5Bf9sVkAC5mRULjppb8fao84LSFAxoHLIXl4BvMY6tKT6ywy54zbmr99YPuUqXt2GZ0TsSBOPXlYUXz_jAsloMrqeSgxGDnsm1tBrvbECnnBELENi9r9PUE6lTJ5Fn3pXDYIJ2RJcGT9sebJo-QjsOlAl8nIbydH8wH_EqPmWIncWhFSfpv0mue8KLsNEE5QV6d5zV4CNioVdf34uezwiG4zeLzlJ0VZmf5ByQXWD1FoiZKC7vOBZw=s64",
      "userId": "11336038813033628796"
     },
     "user_tz": -60
    },
    "id": "bEHakg9SpXr5",
    "outputId": "c6f69d6b-1440-4184-da50-aae9db61bab6"
   },
   "outputs": [
    {
     "name": "stdout",
     "output_type": "stream",
     "text": [
      "dim:  20\n",
      "test_length:  199\n",
      "val_length:  45\n",
      "train_length:  255\n",
      "\n",
      "test_n:  183\n",
      "val_n:  29\n",
      "train_n:  239\n",
      "\n",
      "test_generator_len:  36\n",
      "validation_generator_len:  5\n",
      "training_generator_len:  47\n"
     ]
    }
   ],
   "source": [
    "# Configure the data generators\n",
    "\n",
    "# Prepare the dataset indexes\n",
    "period_transitorio = 0\n",
    "stride_train = 1\n",
    "stride_val = 1\n",
    "stride_test = 1\n",
    "test_prop = 0.40\n",
    "val_prop = 0.15\n",
    "\n",
    "batch_size=5\n",
    "dim=(dim_x)\n",
    "print(\"dim: \",dim)\n",
    "k = 10  # number of snapshots used as predictors\n",
    "p = 6   # number of snapshots used as time-ahead predictions\n",
    "\n",
    "\n",
    "\n",
    "test_length = int(test_prop * total_length)\n",
    "val_length  = int((total_length - test_length) * val_prop)\n",
    "train_length = total_length - val_length - test_length\n",
    "    \n",
    "if int(train_length-period_transitorio-(k+p)) < 0:\n",
    "    train_n = 0\n",
    "elif int((train_length-period_transitorio-(k+p))//stride_train) == 0:\n",
    "    train_n = 1\n",
    "else: \n",
    "    train_n = int(((train_length-period_transitorio)-(k+p))//stride_train)\n",
    "    \n",
    "if int(test_length-(k+p)) < 0:\n",
    "    test_n = 0\n",
    "elif int((test_length-(k+p))//stride_test) == 0:\n",
    "    test_n = 1\n",
    "else: \n",
    "    test_n = int((test_length-(k+p))//stride_test)\n",
    "\n",
    "if int(val_length-(k+p)) < 0:\n",
    "    val_n = 0\n",
    "elif int((val_length-(k+p))//stride_val) == 0:\n",
    "    val_n = 1\n",
    "else: \n",
    "    val_n = int((val_length-(k+p))//stride_val)\n",
    "\n",
    "# Indices for the beginnings of each batch\n",
    "train_idxs = np.empty([train_n], dtype='int')\n",
    "val_idxs = np.empty([val_n], dtype='int')\n",
    "test_idxs = np.empty([test_n], dtype='int')\n",
    "\n",
    "j = period_transitorio\n",
    "for i in range(train_n):\n",
    "    train_idxs[i] = j\n",
    "    j = j+stride_train\n",
    "\n",
    "j = train_length\n",
    "for i in range(val_n):\n",
    "    val_idxs[i] = j\n",
    "    j = j+stride_val\n",
    "\n",
    "j = train_length + val_length\n",
    "for i in range(test_n):\n",
    "    test_idxs[i] = j\n",
    "    j = j+stride_test\n",
    "\n",
    "\n",
    "\n",
    "# Generators\n",
    "training_generator = DataGenerator(tensor_norm, train_idxs,  \n",
    "                                    dim = dim, \n",
    "                                    batch_size = batch_size,\n",
    "                                    k = k, p = p, till_end = False,\n",
    "                                    only_test = False,\n",
    "                                    shuffle = True)\n",
    "validation_generator = DataGenerator(tensor_norm, val_idxs, \n",
    "                                    dim = dim, \n",
    "                                    batch_size = batch_size,\n",
    "                                    k = k, p = p, till_end = False,\n",
    "                                    only_test = False,\n",
    "                                    shuffle = False)\n",
    "test_generator = DataGenerator(tensor_norm, test_idxs, \n",
    "                                    dim = dim, \n",
    "                                    batch_size = batch_size,\n",
    "                                    k = k, p = p, till_end = False,\n",
    "                                    only_test = True,\n",
    "                                    shuffle = False)\n",
    "\n",
    "print ('test_length: ', test_length)\n",
    "print ('val_length: ', val_length)\n",
    "print ('train_length: ', train_length)\n",
    "print()\n",
    "print ('test_n: ', test_n)\n",
    "print ('val_n: ', val_n)\n",
    "print ('train_n: ', train_n)\n",
    "print()\n",
    "print('test_generator_len: ', len(test_generator))\n",
    "print('validation_generator_len: ', len(validation_generator))\n",
    "print('training_generator_len: ', len(training_generator))"
   ]
  },
  {
   "cell_type": "code",
   "execution_count": 30,
   "metadata": {
    "colab": {
     "base_uri": "https://localhost:8080/",
     "height": 88
    },
    "colab_type": "code",
    "executionInfo": {
     "elapsed": 1097,
     "status": "ok",
     "timestamp": 1584716210282,
     "user": {
      "displayName": "Manuel López Martín",
      "photoUrl": "https://lh3.googleusercontent.com/a-/AOh14Gjkbx9ZcgNrx28G-E9vmuDH73kYDfRwYT7t4SrOSQytLxtAwwl3I1K9yrMCXDmpZDNRYJMtwAh1zUlDFBeKxUr27pGfkbEuB8jW7lZ493uXzPvtAaC789hDEYxeLTuYOFvHe-CvV2lEUxJ-VQLYi-j3sjekrCtwd-fTarbdYre3bTLHf9qgyLR3sZDRdiYD5IIGnePAsdQ9BIuGb6m4UTckK_xLzJgUTGemEM4_uRpl_eTir9imsyDARB5cNolutC5oZ0iMtKKJbCSYpV3aOTZ28OfpEdOfCEXKGAfl8VA5Pi5V-p60C5ZwEu856OwlJv7ZoHH2ZhQKmEYkYHTn7EyTdCrJ5Wg7VE_RH5I7zuIbBOsOgXRaR38zr9XRYFuL_zj2DYkQ4u95CqyClNNV6uRBFCj9FPpbqwjUT_2weo_47cJP73uX3TByD16ShG8kOrPjIxMg8KatQnF6UjA4iySodg_LXbsWXBNja5pnBt4EEep476uXgMytX0nLvN-7i4DeJINnM2Td0y7F5Bf9sVkAC5mRULjppb8fao84LSFAxoHLIXl4BvMY6tKT6ywy54zbmr99YPuUqXt2GZ0TsSBOPXlYUXz_jAsloMrqeSgxGDnsm1tBrvbECnnBELENi9r9PUE6lTJ5Fn3pXDYIJ2RJcGT9sebJo-QjsOlAl8nIbydH8wH_EqPmWIncWhFSfpv0mue8KLsNEE5QV6d5zV4CNioVdf34uezwiG4zeLzlJ0VZmf5ByQXWD1FoiZKC7vOBZw=s64",
      "userId": "11336038813033628796"
     },
     "user_tz": -60
    },
    "id": "-FfHLuoxUAwP",
    "outputId": "a713c0f1-9bb0-4db9-cda3-dd4b3c3a0ad8"
   },
   "outputs": [],
   "source": [
    "# Prepare Ytest\n",
    "test_n_adjusted = int(test_n/batch_size)*batch_size  # multiplo de batch_size\n",
    "Ytest = [np.empty([test_n_adjusted, dim_x], dtype='float64')] * p\n",
    "Ytest_fl = [np.empty([test_n_adjusted, dim_x ], dtype='float64')] * p\n",
    "\n",
    "Ytest_inter = np.empty([test_n_adjusted, dim_x, p], dtype='float64')\n",
    "\n",
    "for i in range(test_n_adjusted):\n",
    "    j = test_idxs[i]\n",
    "    Ytest_inter[i,:,:] = tensor_norm[:,j+k:j+k+p]\n",
    "\n",
    "for r in range(p):    \n",
    "  Ytest[r] = Ytest_inter[:,:,r]\n",
    "  Ytest_fl[r] = np.copy(np.reshape(Ytest[r], (test_n_adjusted, -1)) )\n"
   ]
  },
  {
   "cell_type": "code",
   "execution_count": null,
   "metadata": {},
   "outputs": [],
   "source": []
  },
  {
   "cell_type": "markdown",
   "metadata": {
    "colab_type": "text",
    "id": "mF2GcfGxc7wf"
   },
   "source": [
    "# 4 Model LSTM 100 nodes"
   ]
  },
  {
   "cell_type": "markdown",
   "metadata": {
    "colab_type": "text",
    "id": "BofHsjg5c7wk"
   },
   "source": [
    "## 4.1 Prepare model"
   ]
  },
  {
   "cell_type": "code",
   "execution_count": 33,
   "metadata": {
    "colab": {},
    "colab_type": "code",
    "id": "Cuffsg2-c7ws"
   },
   "outputs": [],
   "source": [
    "def create_model(in_shape,  out_dim, p = 3, shared_dim = 1000, act_fun= 'relu'):\n",
    "    x = Input(shape=in_shape)\n",
    "    \n",
    "    v = LSTM(100)(x)\n",
    "    v = Dense(p*100, activation= act_fun)(v)\n",
    "    v = Reshape((p,100))(v)\n",
    "\n",
    "    tt = [1]*p\n",
    "    \n",
    "    r = TimeDistributed( Dense(shared_dim, activation=act_fun))(v)\n",
    "    s = tf.split(r, tt, 1)\n",
    "    for i in range(p):\n",
    "      s[i] = Flatten()(s[i])\n",
    "\n",
    "    o = []\n",
    "    for i in range(p):\n",
    "      o.append( Dense(out_dim, activation='sigmoid')(s[i]) )\n",
    "  \n",
    "    m = Model(inputs=x, outputs=o)\n",
    "    m.compile(loss='mse', optimizer='adam', metrics=['mse'])\n",
    "    return(m)"
   ]
  },
  {
   "cell_type": "code",
   "execution_count": 35,
   "metadata": {
    "colab": {
     "base_uri": "https://localhost:8080/",
     "height": 70
    },
    "colab_type": "code",
    "executionInfo": {
     "elapsed": 1666,
     "status": "ok",
     "timestamp": 1584716228922,
     "user": {
      "displayName": "Manuel López Martín",
      "photoUrl": "https://lh3.googleusercontent.com/a-/AOh14Gjkbx9ZcgNrx28G-E9vmuDH73kYDfRwYT7t4SrOSQytLxtAwwl3I1K9yrMCXDmpZDNRYJMtwAh1zUlDFBeKxUr27pGfkbEuB8jW7lZ493uXzPvtAaC789hDEYxeLTuYOFvHe-CvV2lEUxJ-VQLYi-j3sjekrCtwd-fTarbdYre3bTLHf9qgyLR3sZDRdiYD5IIGnePAsdQ9BIuGb6m4UTckK_xLzJgUTGemEM4_uRpl_eTir9imsyDARB5cNolutC5oZ0iMtKKJbCSYpV3aOTZ28OfpEdOfCEXKGAfl8VA5Pi5V-p60C5ZwEu856OwlJv7ZoHH2ZhQKmEYkYHTn7EyTdCrJ5Wg7VE_RH5I7zuIbBOsOgXRaR38zr9XRYFuL_zj2DYkQ4u95CqyClNNV6uRBFCj9FPpbqwjUT_2weo_47cJP73uX3TByD16ShG8kOrPjIxMg8KatQnF6UjA4iySodg_LXbsWXBNja5pnBt4EEep476uXgMytX0nLvN-7i4DeJINnM2Td0y7F5Bf9sVkAC5mRULjppb8fao84LSFAxoHLIXl4BvMY6tKT6ywy54zbmr99YPuUqXt2GZ0TsSBOPXlYUXz_jAsloMrqeSgxGDnsm1tBrvbECnnBELENi9r9PUE6lTJ5Fn3pXDYIJ2RJcGT9sebJo-QjsOlAl8nIbydH8wH_EqPmWIncWhFSfpv0mue8KLsNEE5QV6d5zV4CNioVdf34uezwiG4zeLzlJ0VZmf5ByQXWD1FoiZKC7vOBZw=s64",
      "userId": "11336038813033628796"
     },
     "user_tz": -60
    },
    "id": "d-3tveMac7wv",
    "outputId": "98adb119-4b39-475a-ef85-31ece53845fd",
    "scrolled": true
   },
   "outputs": [
    {
     "name": "stdout",
     "output_type": "stream",
     "text": [
      "[10, 20]\n",
      "20\n",
      "80\n"
     ]
    }
   ],
   "source": [
    "#create the model\n",
    "\n",
    "in_shape = [k, dim_x]\n",
    "out_dim = dim_x \n",
    "shared_dim = 80\n",
    "print(in_shape)\n",
    "print(out_dim)\n",
    "print(shared_dim)\n",
    "\n",
    "\n",
    "model= create_model(in_shape,out_dim,p,shared_dim) "
   ]
  },
  {
   "cell_type": "code",
   "execution_count": 36,
   "metadata": {
    "colab": {
     "base_uri": "https://localhost:8080/",
     "height": 1000
    },
    "colab_type": "code",
    "executionInfo": {
     "elapsed": 519,
     "status": "ok",
     "timestamp": 1584716233595,
     "user": {
      "displayName": "Manuel López Martín",
      "photoUrl": "https://lh3.googleusercontent.com/a-/AOh14Gjkbx9ZcgNrx28G-E9vmuDH73kYDfRwYT7t4SrOSQytLxtAwwl3I1K9yrMCXDmpZDNRYJMtwAh1zUlDFBeKxUr27pGfkbEuB8jW7lZ493uXzPvtAaC789hDEYxeLTuYOFvHe-CvV2lEUxJ-VQLYi-j3sjekrCtwd-fTarbdYre3bTLHf9qgyLR3sZDRdiYD5IIGnePAsdQ9BIuGb6m4UTckK_xLzJgUTGemEM4_uRpl_eTir9imsyDARB5cNolutC5oZ0iMtKKJbCSYpV3aOTZ28OfpEdOfCEXKGAfl8VA5Pi5V-p60C5ZwEu856OwlJv7ZoHH2ZhQKmEYkYHTn7EyTdCrJ5Wg7VE_RH5I7zuIbBOsOgXRaR38zr9XRYFuL_zj2DYkQ4u95CqyClNNV6uRBFCj9FPpbqwjUT_2weo_47cJP73uX3TByD16ShG8kOrPjIxMg8KatQnF6UjA4iySodg_LXbsWXBNja5pnBt4EEep476uXgMytX0nLvN-7i4DeJINnM2Td0y7F5Bf9sVkAC5mRULjppb8fao84LSFAxoHLIXl4BvMY6tKT6ywy54zbmr99YPuUqXt2GZ0TsSBOPXlYUXz_jAsloMrqeSgxGDnsm1tBrvbECnnBELENi9r9PUE6lTJ5Fn3pXDYIJ2RJcGT9sebJo-QjsOlAl8nIbydH8wH_EqPmWIncWhFSfpv0mue8KLsNEE5QV6d5zV4CNioVdf34uezwiG4zeLzlJ0VZmf5ByQXWD1FoiZKC7vOBZw=s64",
      "userId": "11336038813033628796"
     },
     "user_tz": -60
    },
    "id": "JEsEcfTFc7wz",
    "outputId": "a6f5d57a-9e3f-4a41-e82e-ceb3075a77f7",
    "scrolled": false
   },
   "outputs": [
    {
     "name": "stdout",
     "output_type": "stream",
     "text": [
      "Model: \"model_1\"\n",
      "__________________________________________________________________________________________________\n",
      "Layer (type)                    Output Shape         Param #     Connected to                     \n",
      "==================================================================================================\n",
      "input_2 (InputLayer)            [(None, 10, 20)]     0                                            \n",
      "__________________________________________________________________________________________________\n",
      "lstm_1 (LSTM)                   (None, 100)          48400       input_2[0][0]                    \n",
      "__________________________________________________________________________________________________\n",
      "dense_8 (Dense)                 (None, 600)          60600       lstm_1[0][0]                     \n",
      "__________________________________________________________________________________________________\n",
      "reshape_1 (Reshape)             (None, 6, 100)       0           dense_8[0][0]                    \n",
      "__________________________________________________________________________________________________\n",
      "time_distributed_1 (TimeDistrib (None, 6, 80)        8080        reshape_1[0][0]                  \n",
      "__________________________________________________________________________________________________\n",
      "tf_op_layer_split_1 (TensorFlow [(None, 1, 80), (Non 0           time_distributed_1[0][0]         \n",
      "__________________________________________________________________________________________________\n",
      "flatten_6 (Flatten)             (None, 80)           0           tf_op_layer_split_1[0][0]        \n",
      "__________________________________________________________________________________________________\n",
      "flatten_7 (Flatten)             (None, 80)           0           tf_op_layer_split_1[0][1]        \n",
      "__________________________________________________________________________________________________\n",
      "flatten_8 (Flatten)             (None, 80)           0           tf_op_layer_split_1[0][2]        \n",
      "__________________________________________________________________________________________________\n",
      "flatten_9 (Flatten)             (None, 80)           0           tf_op_layer_split_1[0][3]        \n",
      "__________________________________________________________________________________________________\n",
      "flatten_10 (Flatten)            (None, 80)           0           tf_op_layer_split_1[0][4]        \n",
      "__________________________________________________________________________________________________\n",
      "flatten_11 (Flatten)            (None, 80)           0           tf_op_layer_split_1[0][5]        \n",
      "__________________________________________________________________________________________________\n",
      "dense_10 (Dense)                (None, 20)           1620        flatten_6[0][0]                  \n",
      "__________________________________________________________________________________________________\n",
      "dense_11 (Dense)                (None, 20)           1620        flatten_7[0][0]                  \n",
      "__________________________________________________________________________________________________\n",
      "dense_12 (Dense)                (None, 20)           1620        flatten_8[0][0]                  \n",
      "__________________________________________________________________________________________________\n",
      "dense_13 (Dense)                (None, 20)           1620        flatten_9[0][0]                  \n",
      "__________________________________________________________________________________________________\n",
      "dense_14 (Dense)                (None, 20)           1620        flatten_10[0][0]                 \n",
      "__________________________________________________________________________________________________\n",
      "dense_15 (Dense)                (None, 20)           1620        flatten_11[0][0]                 \n",
      "==================================================================================================\n",
      "Total params: 126,800\n",
      "Trainable params: 126,800\n",
      "Non-trainable params: 0\n",
      "__________________________________________________________________________________________________\n"
     ]
    }
   ],
   "source": [
    "model.summary()"
   ]
  },
  {
   "cell_type": "code",
   "execution_count": 37,
   "metadata": {
    "colab": {
     "base_uri": "https://localhost:8080/",
     "height": 35
    },
    "colab_type": "code",
    "executionInfo": {
     "elapsed": 508,
     "status": "ok",
     "timestamp": 1584716239079,
     "user": {
      "displayName": "Manuel López Martín",
      "photoUrl": "https://lh3.googleusercontent.com/a-/AOh14Gjkbx9ZcgNrx28G-E9vmuDH73kYDfRwYT7t4SrOSQytLxtAwwl3I1K9yrMCXDmpZDNRYJMtwAh1zUlDFBeKxUr27pGfkbEuB8jW7lZ493uXzPvtAaC789hDEYxeLTuYOFvHe-CvV2lEUxJ-VQLYi-j3sjekrCtwd-fTarbdYre3bTLHf9qgyLR3sZDRdiYD5IIGnePAsdQ9BIuGb6m4UTckK_xLzJgUTGemEM4_uRpl_eTir9imsyDARB5cNolutC5oZ0iMtKKJbCSYpV3aOTZ28OfpEdOfCEXKGAfl8VA5Pi5V-p60C5ZwEu856OwlJv7ZoHH2ZhQKmEYkYHTn7EyTdCrJ5Wg7VE_RH5I7zuIbBOsOgXRaR38zr9XRYFuL_zj2DYkQ4u95CqyClNNV6uRBFCj9FPpbqwjUT_2weo_47cJP73uX3TByD16ShG8kOrPjIxMg8KatQnF6UjA4iySodg_LXbsWXBNja5pnBt4EEep476uXgMytX0nLvN-7i4DeJINnM2Td0y7F5Bf9sVkAC5mRULjppb8fao84LSFAxoHLIXl4BvMY6tKT6ywy54zbmr99YPuUqXt2GZ0TsSBOPXlYUXz_jAsloMrqeSgxGDnsm1tBrvbECnnBELENi9r9PUE6lTJ5Fn3pXDYIJ2RJcGT9sebJo-QjsOlAl8nIbydH8wH_EqPmWIncWhFSfpv0mue8KLsNEE5QV6d5zV4CNioVdf34uezwiG4zeLzlJ0VZmf5ByQXWD1FoiZKC7vOBZw=s64",
      "userId": "11336038813033628796"
     },
     "user_tz": -60
    },
    "id": "hRBx40Rsc7xD",
    "outputId": "fce063ba-adab-42b5-9bbd-bf897dba857d"
   },
   "outputs": [],
   "source": [
    "# save the best weights \n",
    "import sys\n",
    "save_string = 'colab_Cilin3D_AML_20_LSTM_100 v1'\n",
    "\n",
    "# save the best weights \n",
    "save_best_weights = save_string + '.h5'\n",
    "save_summary_stats = save_string + '.csv'\n",
    "save_last_weights = save_string + '_last_w.h5'\n",
    "save_results_metrics = save_string + '_results_metrics.csv'\n"
   ]
  },
  {
   "cell_type": "markdown",
   "metadata": {
    "colab_type": "text",
    "id": "hpAZDegcc7xH"
   },
   "source": [
    "## 4.2 Training"
   ]
  },
  {
   "cell_type": "code",
   "execution_count": 38,
   "metadata": {
    "colab": {},
    "colab_type": "code",
    "id": "OvzoXzNoc7xI"
   },
   "outputs": [],
   "source": [
    "np.random.seed(247531338)\n",
    "#tf.random.set_seed(31722973)"
   ]
  },
  {
   "cell_type": "code",
   "execution_count": 78,
   "metadata": {
    "colab": {
     "base_uri": "https://localhost:8080/",
     "height": 1000
    },
    "colab_type": "code",
    "executionInfo": {
     "elapsed": 843219,
     "status": "ok",
     "timestamp": 1584717114757,
     "user": {
      "displayName": "Manuel López Martín",
      "photoUrl": "https://lh3.googleusercontent.com/a-/AOh14Gjkbx9ZcgNrx28G-E9vmuDH73kYDfRwYT7t4SrOSQytLxtAwwl3I1K9yrMCXDmpZDNRYJMtwAh1zUlDFBeKxUr27pGfkbEuB8jW7lZ493uXzPvtAaC789hDEYxeLTuYOFvHe-CvV2lEUxJ-VQLYi-j3sjekrCtwd-fTarbdYre3bTLHf9qgyLR3sZDRdiYD5IIGnePAsdQ9BIuGb6m4UTckK_xLzJgUTGemEM4_uRpl_eTir9imsyDARB5cNolutC5oZ0iMtKKJbCSYpV3aOTZ28OfpEdOfCEXKGAfl8VA5Pi5V-p60C5ZwEu856OwlJv7ZoHH2ZhQKmEYkYHTn7EyTdCrJ5Wg7VE_RH5I7zuIbBOsOgXRaR38zr9XRYFuL_zj2DYkQ4u95CqyClNNV6uRBFCj9FPpbqwjUT_2weo_47cJP73uX3TByD16ShG8kOrPjIxMg8KatQnF6UjA4iySodg_LXbsWXBNja5pnBt4EEep476uXgMytX0nLvN-7i4DeJINnM2Td0y7F5Bf9sVkAC5mRULjppb8fao84LSFAxoHLIXl4BvMY6tKT6ywy54zbmr99YPuUqXt2GZ0TsSBOPXlYUXz_jAsloMrqeSgxGDnsm1tBrvbECnnBELENi9r9PUE6lTJ5Fn3pXDYIJ2RJcGT9sebJo-QjsOlAl8nIbydH8wH_EqPmWIncWhFSfpv0mue8KLsNEE5QV6d5zV4CNioVdf34uezwiG4zeLzlJ0VZmf5ByQXWD1FoiZKC7vOBZw=s64",
      "userId": "11336038813033628796"
     },
     "user_tz": -60
    },
    "id": "BSeYacJuc7xL",
    "outputId": "97ac458d-ab57-4a3a-ccc0-b8dc78ed157f",
    "scrolled": true
   },
   "outputs": [
    {
     "name": "stdout",
     "output_type": "stream",
     "text": [
      "Epoch 1/70\n",
      "47/47 [==============================] - 3s 70ms/step - loss: 0.0961 - dense_10_loss: 0.0166 - dense_11_loss: 0.0183 - dense_12_loss: 0.0154 - dense_13_loss: 0.0139 - dense_14_loss: 0.0143 - dense_15_loss: 0.0177 - dense_10_mse: 0.0166 - dense_11_mse: 0.0183 - dense_12_mse: 0.0154 - dense_13_mse: 0.0139 - dense_14_mse: 0.0143 - dense_15_mse: 0.0177 - val_loss: 0.0258 - val_dense_10_loss: 0.0044 - val_dense_11_loss: 0.0043 - val_dense_12_loss: 0.0043 - val_dense_13_loss: 0.0041 - val_dense_14_loss: 0.0043 - val_dense_15_loss: 0.0045 - val_dense_10_mse: 0.0044 - val_dense_11_mse: 0.0043 - val_dense_12_mse: 0.0043 - val_dense_13_mse: 0.0041 - val_dense_14_mse: 0.0043 - val_dense_15_mse: 0.0045\n",
      "Epoch 2/70\n",
      "47/47 [==============================] - 3s 69ms/step - loss: 0.0290 - dense_10_loss: 0.0048 - dense_11_loss: 0.0049 - dense_12_loss: 0.0048 - dense_13_loss: 0.0048 - dense_14_loss: 0.0048 - dense_15_loss: 0.0049 - dense_10_mse: 0.0048 - dense_11_mse: 0.0049 - dense_12_mse: 0.0048 - dense_13_mse: 0.0048 - dense_14_mse: 0.0048 - dense_15_mse: 0.0049 - val_loss: 0.0248 - val_dense_10_loss: 0.0041 - val_dense_11_loss: 0.0041 - val_dense_12_loss: 0.0041 - val_dense_13_loss: 0.0042 - val_dense_14_loss: 0.0041 - val_dense_15_loss: 0.0041 - val_dense_10_mse: 0.0041 - val_dense_11_mse: 0.0041 - val_dense_12_mse: 0.0041 - val_dense_13_mse: 0.0042 - val_dense_14_mse: 0.0041 - val_dense_15_mse: 0.0041\n",
      "Epoch 3/70\n",
      "47/47 [==============================] - 3s 72ms/step - loss: 0.0285 - dense_10_loss: 0.0048 - dense_11_loss: 0.0048 - dense_12_loss: 0.0048 - dense_13_loss: 0.0048 - dense_14_loss: 0.0047 - dense_15_loss: 0.0047 - dense_10_mse: 0.0048 - dense_11_mse: 0.0048 - dense_12_mse: 0.0048 - dense_13_mse: 0.0048 - dense_14_mse: 0.0047 - dense_15_mse: 0.0047 - val_loss: 0.0246 - val_dense_10_loss: 0.0041 - val_dense_11_loss: 0.0041 - val_dense_12_loss: 0.0041 - val_dense_13_loss: 0.0040 - val_dense_14_loss: 0.0041 - val_dense_15_loss: 0.0042 - val_dense_10_mse: 0.0041 - val_dense_11_mse: 0.0041 - val_dense_12_mse: 0.0041 - val_dense_13_mse: 0.0040 - val_dense_14_mse: 0.0041 - val_dense_15_mse: 0.0042\n",
      "Epoch 4/70\n",
      "47/47 [==============================] - 3s 74ms/step - loss: 0.0284 - dense_10_loss: 0.0047 - dense_11_loss: 0.0047 - dense_12_loss: 0.0047 - dense_13_loss: 0.0047 - dense_14_loss: 0.0048 - dense_15_loss: 0.0047 - dense_10_mse: 0.0047 - dense_11_mse: 0.0047 - dense_12_mse: 0.0047 - dense_13_mse: 0.0047 - dense_14_mse: 0.0048 - dense_15_mse: 0.0047 - val_loss: 0.0240 - val_dense_10_loss: 0.0040 - val_dense_11_loss: 0.0040 - val_dense_12_loss: 0.0040 - val_dense_13_loss: 0.0040 - val_dense_14_loss: 0.0040 - val_dense_15_loss: 0.0040 - val_dense_10_mse: 0.0040 - val_dense_11_mse: 0.0040 - val_dense_12_mse: 0.0040 - val_dense_13_mse: 0.0040 - val_dense_14_mse: 0.0040 - val_dense_15_mse: 0.0040\n",
      "Epoch 5/70\n",
      "47/47 [==============================] - 3s 71ms/step - loss: 0.0285 - dense_10_loss: 0.0048 - dense_11_loss: 0.0048 - dense_12_loss: 0.0047 - dense_13_loss: 0.0048 - dense_14_loss: 0.0047 - dense_15_loss: 0.0047 - dense_10_mse: 0.0048 - dense_11_mse: 0.0048 - dense_12_mse: 0.0047 - dense_13_mse: 0.0048 - dense_14_mse: 0.0047 - dense_15_mse: 0.0047 - val_loss: 0.0240 - val_dense_10_loss: 0.0040 - val_dense_11_loss: 0.0040 - val_dense_12_loss: 0.0040 - val_dense_13_loss: 0.0041 - val_dense_14_loss: 0.0040 - val_dense_15_loss: 0.0040 - val_dense_10_mse: 0.0040 - val_dense_11_mse: 0.0040 - val_dense_12_mse: 0.0040 - val_dense_13_mse: 0.0041 - val_dense_14_mse: 0.0040 - val_dense_15_mse: 0.0040\n",
      "Epoch 6/70\n",
      "47/47 [==============================] - 3s 73ms/step - loss: 0.0282 - dense_10_loss: 0.0047 - dense_11_loss: 0.0047 - dense_12_loss: 0.0047 - dense_13_loss: 0.0047 - dense_14_loss: 0.0047 - dense_15_loss: 0.0047 - dense_10_mse: 0.0047 - dense_11_mse: 0.0047 - dense_12_mse: 0.0047 - dense_13_mse: 0.0047 - dense_14_mse: 0.0047 - dense_15_mse: 0.0047 - val_loss: 0.0244 - val_dense_10_loss: 0.0041 - val_dense_11_loss: 0.0040 - val_dense_12_loss: 0.0041 - val_dense_13_loss: 0.0040 - val_dense_14_loss: 0.0041 - val_dense_15_loss: 0.0041 - val_dense_10_mse: 0.0041 - val_dense_11_mse: 0.0040 - val_dense_12_mse: 0.0041 - val_dense_13_mse: 0.0040 - val_dense_14_mse: 0.0041 - val_dense_15_mse: 0.0041\n",
      "Epoch 7/70\n",
      "47/47 [==============================] - 4s 75ms/step - loss: 0.0282 - dense_10_loss: 0.0047 - dense_11_loss: 0.0047 - dense_12_loss: 0.0047 - dense_13_loss: 0.0047 - dense_14_loss: 0.0047 - dense_15_loss: 0.0047 - dense_10_mse: 0.0047 - dense_11_mse: 0.0047 - dense_12_mse: 0.0047 - dense_13_mse: 0.0047 - dense_14_mse: 0.0047 - dense_15_mse: 0.0047 - val_loss: 0.0256 - val_dense_10_loss: 0.0042 - val_dense_11_loss: 0.0043 - val_dense_12_loss: 0.0044 - val_dense_13_loss: 0.0044 - val_dense_14_loss: 0.0041 - val_dense_15_loss: 0.0042 - val_dense_10_mse: 0.0042 - val_dense_11_mse: 0.0043 - val_dense_12_mse: 0.0044 - val_dense_13_mse: 0.0044 - val_dense_14_mse: 0.0041 - val_dense_15_mse: 0.0042\n",
      "Epoch 8/70\n",
      "47/47 [==============================] - 4s 77ms/step - loss: 0.0281 - dense_10_loss: 0.0047 - dense_11_loss: 0.0047 - dense_12_loss: 0.0047 - dense_13_loss: 0.0047 - dense_14_loss: 0.0047 - dense_15_loss: 0.0047 - dense_10_mse: 0.0047 - dense_11_mse: 0.0047 - dense_12_mse: 0.0047 - dense_13_mse: 0.0047 - dense_14_mse: 0.0047 - dense_15_mse: 0.0047 - val_loss: 0.0242 - val_dense_10_loss: 0.0040 - val_dense_11_loss: 0.0040 - val_dense_12_loss: 0.0041 - val_dense_13_loss: 0.0041 - val_dense_14_loss: 0.0040 - val_dense_15_loss: 0.0040 - val_dense_10_mse: 0.0040 - val_dense_11_mse: 0.0040 - val_dense_12_mse: 0.0041 - val_dense_13_mse: 0.0041 - val_dense_14_mse: 0.0040 - val_dense_15_mse: 0.0040\n",
      "Epoch 9/70\n",
      "47/47 [==============================] - 4s 78ms/step - loss: 0.0280 - dense_10_loss: 0.0047 - dense_11_loss: 0.0047 - dense_12_loss: 0.0047 - dense_13_loss: 0.0047 - dense_14_loss: 0.0047 - dense_15_loss: 0.0046 - dense_10_mse: 0.0047 - dense_11_mse: 0.0047 - dense_12_mse: 0.0047 - dense_13_mse: 0.0047 - dense_14_mse: 0.0047 - dense_15_mse: 0.0046 - val_loss: 0.0238 - val_dense_10_loss: 0.0040 - val_dense_11_loss: 0.0040 - val_dense_12_loss: 0.0040 - val_dense_13_loss: 0.0039 - val_dense_14_loss: 0.0040 - val_dense_15_loss: 0.0040 - val_dense_10_mse: 0.0040 - val_dense_11_mse: 0.0040 - val_dense_12_mse: 0.0040 - val_dense_13_mse: 0.0039 - val_dense_14_mse: 0.0040 - val_dense_15_mse: 0.0040\n",
      "Epoch 10/70\n",
      "47/47 [==============================] - 4s 76ms/step - loss: 0.0283 - dense_10_loss: 0.0047 - dense_11_loss: 0.0047 - dense_12_loss: 0.0047 - dense_13_loss: 0.0047 - dense_14_loss: 0.0047 - dense_15_loss: 0.0047 - dense_10_mse: 0.0047 - dense_11_mse: 0.0047 - dense_12_mse: 0.0047 - dense_13_mse: 0.0047 - dense_14_mse: 0.0047 - dense_15_mse: 0.0047 - val_loss: 0.0246 - val_dense_10_loss: 0.0041 - val_dense_11_loss: 0.0040 - val_dense_12_loss: 0.0041 - val_dense_13_loss: 0.0041 - val_dense_14_loss: 0.0042 - val_dense_15_loss: 0.0040 - val_dense_10_mse: 0.0041 - val_dense_11_mse: 0.0040 - val_dense_12_mse: 0.0041 - val_dense_13_mse: 0.0041 - val_dense_14_mse: 0.0042 - val_dense_15_mse: 0.0040\n",
      "Epoch 11/70\n",
      "47/47 [==============================] - 4s 78ms/step - loss: 0.0284 - dense_10_loss: 0.0047 - dense_11_loss: 0.0047 - dense_12_loss: 0.0047 - dense_13_loss: 0.0048 - dense_14_loss: 0.0047 - dense_15_loss: 0.0047 - dense_10_mse: 0.0047 - dense_11_mse: 0.0047 - dense_12_mse: 0.0047 - dense_13_mse: 0.0048 - dense_14_mse: 0.0047 - dense_15_mse: 0.0047 - val_loss: 0.0234 - val_dense_10_loss: 0.0039 - val_dense_11_loss: 0.0039 - val_dense_12_loss: 0.0039 - val_dense_13_loss: 0.0039 - val_dense_14_loss: 0.0039 - val_dense_15_loss: 0.0039 - val_dense_10_mse: 0.0039 - val_dense_11_mse: 0.0039 - val_dense_12_mse: 0.0039 - val_dense_13_mse: 0.0039 - val_dense_14_mse: 0.0039 - val_dense_15_mse: 0.0039\n",
      "Epoch 12/70\n",
      "47/47 [==============================] - 4s 77ms/step - loss: 0.0241 - dense_10_loss: 0.0039 - dense_11_loss: 0.0039 - dense_12_loss: 0.0040 - dense_13_loss: 0.0040 - dense_14_loss: 0.0040 - dense_15_loss: 0.0042 - dense_10_mse: 0.0039 - dense_11_mse: 0.0039 - dense_12_mse: 0.0040 - dense_13_mse: 0.0040 - dense_14_mse: 0.0040 - dense_15_mse: 0.0042 - val_loss: 0.0136 - val_dense_10_loss: 0.0023 - val_dense_11_loss: 0.0021 - val_dense_12_loss: 0.0022 - val_dense_13_loss: 0.0023 - val_dense_14_loss: 0.0020 - val_dense_15_loss: 0.0028 - val_dense_10_mse: 0.0023 - val_dense_11_mse: 0.0021 - val_dense_12_mse: 0.0022 - val_dense_13_mse: 0.0023 - val_dense_14_mse: 0.0020 - val_dense_15_mse: 0.0028\n",
      "Epoch 13/70\n",
      "47/47 [==============================] - 4s 76ms/step - loss: 0.0061 - dense_10_loss: 0.0011 - dense_11_loss: 9.1936e-04 - dense_12_loss: 9.1793e-04 - dense_13_loss: 0.0010 - dense_14_loss: 7.9905e-04 - dense_15_loss: 0.0014 - dense_10_mse: 0.0011 - dense_11_mse: 9.1936e-04 - dense_12_mse: 9.1793e-04 - dense_13_mse: 0.0010 - dense_14_mse: 7.9905e-04 - dense_15_mse: 0.0014 - val_loss: 0.0025 - val_dense_10_loss: 3.7906e-04 - val_dense_11_loss: 4.3786e-04 - val_dense_12_loss: 3.6373e-04 - val_dense_13_loss: 3.7216e-04 - val_dense_14_loss: 4.1332e-04 - val_dense_15_loss: 4.9626e-04 - val_dense_10_mse: 3.7906e-04 - val_dense_11_mse: 4.3786e-04 - val_dense_12_mse: 3.6373e-04 - val_dense_13_mse: 3.7216e-04 - val_dense_14_mse: 4.1332e-04 - val_dense_15_mse: 4.9626e-04\n",
      "Epoch 14/70\n",
      "47/47 [==============================] - 4s 79ms/step - loss: 0.0014 - dense_10_loss: 2.4714e-04 - dense_11_loss: 2.4748e-04 - dense_12_loss: 2.0866e-04 - dense_13_loss: 2.4276e-04 - dense_14_loss: 2.3011e-04 - dense_15_loss: 2.6826e-04 - dense_10_mse: 2.4714e-04 - dense_11_mse: 2.4748e-04 - dense_12_mse: 2.0866e-04 - dense_13_mse: 2.4276e-04 - dense_14_mse: 2.3011e-04 - dense_15_mse: 2.6826e-04 - val_loss: 0.0018 - val_dense_10_loss: 2.9876e-04 - val_dense_11_loss: 3.1741e-04 - val_dense_12_loss: 2.6346e-04 - val_dense_13_loss: 2.9043e-04 - val_dense_14_loss: 3.0074e-04 - val_dense_15_loss: 2.9961e-04 - val_dense_10_mse: 2.9876e-04 - val_dense_11_mse: 3.1741e-04 - val_dense_12_mse: 2.6346e-04 - val_dense_13_mse: 2.9043e-04 - val_dense_14_mse: 3.0074e-04 - val_dense_15_mse: 2.9961e-04\n",
      "Epoch 15/70\n",
      "47/47 [==============================] - 4s 81ms/step - loss: 9.2629e-04 - dense_10_loss: 1.6173e-04 - dense_11_loss: 1.6296e-04 - dense_12_loss: 1.2394e-04 - dense_13_loss: 1.6086e-04 - dense_14_loss: 1.4992e-04 - dense_15_loss: 1.6687e-04 - dense_10_mse: 1.6173e-04 - dense_11_mse: 1.6296e-04 - dense_12_mse: 1.2394e-04 - dense_13_mse: 1.6086e-04 - dense_14_mse: 1.4992e-04 - dense_15_mse: 1.6687e-04 - val_loss: 0.0015 - val_dense_10_loss: 2.4192e-04 - val_dense_11_loss: 2.7189e-04 - val_dense_12_loss: 2.2618e-04 - val_dense_13_loss: 2.5868e-04 - val_dense_14_loss: 2.2357e-04 - val_dense_15_loss: 2.5825e-04 - val_dense_10_mse: 2.4192e-04 - val_dense_11_mse: 2.7189e-04 - val_dense_12_mse: 2.2618e-04 - val_dense_13_mse: 2.5868e-04 - val_dense_14_mse: 2.2357e-04 - val_dense_15_mse: 2.5825e-04\n",
      "Epoch 16/70\n",
      "47/47 [==============================] - 4s 79ms/step - loss: 6.6543e-04 - dense_10_loss: 1.1245e-04 - dense_11_loss: 1.2153e-04 - dense_12_loss: 8.4859e-05 - dense_13_loss: 1.1475e-04 - dense_14_loss: 1.0518e-04 - dense_15_loss: 1.2667e-04 - dense_10_mse: 1.1245e-04 - dense_11_mse: 1.2153e-04 - dense_12_mse: 8.4859e-05 - dense_13_mse: 1.1475e-04 - dense_14_mse: 1.0518e-04 - dense_15_mse: 1.2667e-04 - val_loss: 0.0014 - val_dense_10_loss: 2.2786e-04 - val_dense_11_loss: 2.4724e-04 - val_dense_12_loss: 2.3617e-04 - val_dense_13_loss: 2.5114e-04 - val_dense_14_loss: 2.2108e-04 - val_dense_15_loss: 2.5843e-04 - val_dense_10_mse: 2.2786e-04 - val_dense_11_mse: 2.4724e-04 - val_dense_12_mse: 2.3617e-04 - val_dense_13_mse: 2.5114e-04 - val_dense_14_mse: 2.2108e-04 - val_dense_15_mse: 2.5843e-04\n",
      "Epoch 17/70\n",
      "47/47 [==============================] - 4s 84ms/step - loss: 5.0873e-04 - dense_10_loss: 8.4367e-05 - dense_11_loss: 9.6467e-05 - dense_12_loss: 6.1948e-05 - dense_13_loss: 8.6489e-05 - dense_14_loss: 7.9292e-05 - dense_15_loss: 1.0016e-04 - dense_10_mse: 8.4367e-05 - dense_11_mse: 9.6467e-05 - dense_12_mse: 6.1948e-05 - dense_13_mse: 8.6489e-05 - dense_14_mse: 7.9292e-05 - dense_15_mse: 1.0016e-04 - val_loss: 0.0013 - val_dense_10_loss: 2.1172e-04 - val_dense_11_loss: 2.4388e-04 - val_dense_12_loss: 1.9801e-04 - val_dense_13_loss: 2.4452e-04 - val_dense_14_loss: 2.1124e-04 - val_dense_15_loss: 2.0963e-04 - val_dense_10_mse: 2.1172e-04 - val_dense_11_mse: 2.4388e-04 - val_dense_12_mse: 1.9801e-04 - val_dense_13_mse: 2.4452e-04 - val_dense_14_mse: 2.1124e-04 - val_dense_15_mse: 2.0963e-04\n",
      "Epoch 18/70\n",
      "47/47 [==============================] - 4s 80ms/step - loss: 4.5571e-04 - dense_10_loss: 7.1287e-05 - dense_11_loss: 8.5580e-05 - dense_12_loss: 5.6248e-05 - dense_13_loss: 7.9246e-05 - dense_14_loss: 7.0151e-05 - dense_15_loss: 9.3196e-05 - dense_10_mse: 7.1287e-05 - dense_11_mse: 8.5580e-05 - dense_12_mse: 5.6248e-05 - dense_13_mse: 7.9246e-05 - dense_14_mse: 7.0151e-05 - dense_15_mse: 9.3197e-05 - val_loss: 0.0013 - val_dense_10_loss: 1.9370e-04 - val_dense_11_loss: 2.0940e-04 - val_dense_12_loss: 2.0605e-04 - val_dense_13_loss: 2.1784e-04 - val_dense_14_loss: 2.0309e-04 - val_dense_15_loss: 2.4018e-04 - val_dense_10_mse: 1.9370e-04 - val_dense_11_mse: 2.0940e-04 - val_dense_12_mse: 2.0605e-04 - val_dense_13_mse: 2.1784e-04 - val_dense_14_mse: 2.0309e-04 - val_dense_15_mse: 2.4018e-04\n",
      "Epoch 19/70\n",
      "47/47 [==============================] - 4s 81ms/step - loss: 3.3213e-04 - dense_10_loss: 5.2319e-05 - dense_11_loss: 5.8617e-05 - dense_12_loss: 4.1103e-05 - dense_13_loss: 5.8610e-05 - dense_14_loss: 5.0008e-05 - dense_15_loss: 7.1470e-05 - dense_10_mse: 5.2319e-05 - dense_11_mse: 5.8617e-05 - dense_12_mse: 4.1103e-05 - dense_13_mse: 5.8610e-05 - dense_14_mse: 5.0008e-05 - dense_15_mse: 7.1470e-05 - val_loss: 0.0011 - val_dense_10_loss: 1.8314e-04 - val_dense_11_loss: 1.9782e-04 - val_dense_12_loss: 1.8029e-04 - val_dense_13_loss: 1.8463e-04 - val_dense_14_loss: 1.8428e-04 - val_dense_15_loss: 1.9798e-04 - val_dense_10_mse: 1.8314e-04 - val_dense_11_mse: 1.9782e-04 - val_dense_12_mse: 1.8029e-04 - val_dense_13_mse: 1.8463e-04 - val_dense_14_mse: 1.8428e-04 - val_dense_15_mse: 1.9798e-04\n",
      "Epoch 20/70\n",
      "47/47 [==============================] - 4s 81ms/step - loss: 2.5668e-04 - dense_10_loss: 4.0128e-05 - dense_11_loss: 4.7840e-05 - dense_12_loss: 2.8821e-05 - dense_13_loss: 4.6608e-05 - dense_14_loss: 3.7769e-05 - dense_15_loss: 5.5517e-05 - dense_10_mse: 4.0128e-05 - dense_11_mse: 4.7840e-05 - dense_12_mse: 2.8821e-05 - dense_13_mse: 4.6608e-05 - dense_14_mse: 3.7769e-05 - dense_15_mse: 5.5517e-05 - val_loss: 0.0011 - val_dense_10_loss: 1.8290e-04 - val_dense_11_loss: 2.0671e-04 - val_dense_12_loss: 1.8257e-04 - val_dense_13_loss: 2.0353e-04 - val_dense_14_loss: 1.8075e-04 - val_dense_15_loss: 1.9166e-04 - val_dense_10_mse: 1.8290e-04 - val_dense_11_mse: 2.0671e-04 - val_dense_12_mse: 1.8257e-04 - val_dense_13_mse: 2.0353e-04 - val_dense_14_mse: 1.8075e-04 - val_dense_15_mse: 1.9166e-04\n",
      "Epoch 21/70\n",
      "47/47 [==============================] - 4s 82ms/step - loss: 2.3884e-04 - dense_10_loss: 3.7974e-05 - dense_11_loss: 4.3968e-05 - dense_12_loss: 2.8128e-05 - dense_13_loss: 4.2910e-05 - dense_14_loss: 3.5870e-05 - dense_15_loss: 4.9992e-05 - dense_10_mse: 3.7974e-05 - dense_11_mse: 4.3968e-05 - dense_12_mse: 2.8128e-05 - dense_13_mse: 4.2910e-05 - dense_14_mse: 3.5870e-05 - dense_15_mse: 4.9992e-05 - val_loss: 0.0012 - val_dense_10_loss: 1.9686e-04 - val_dense_11_loss: 1.9924e-04 - val_dense_12_loss: 1.9684e-04 - val_dense_13_loss: 2.0050e-04 - val_dense_14_loss: 1.8864e-04 - val_dense_15_loss: 2.2456e-04 - val_dense_10_mse: 1.9686e-04 - val_dense_11_mse: 1.9924e-04 - val_dense_12_mse: 1.9684e-04 - val_dense_13_mse: 2.0050e-04 - val_dense_14_mse: 1.8864e-04 - val_dense_15_mse: 2.2456e-04\n",
      "Epoch 22/70\n"
     ]
    },
    {
     "name": "stdout",
     "output_type": "stream",
     "text": [
      "47/47 [==============================] - 4s 83ms/step - loss: 2.2892e-04 - dense_10_loss: 3.5637e-05 - dense_11_loss: 4.1383e-05 - dense_12_loss: 2.7994e-05 - dense_13_loss: 4.0514e-05 - dense_14_loss: 3.5708e-05 - dense_15_loss: 4.7685e-05 - dense_10_mse: 3.5637e-05 - dense_11_mse: 4.1383e-05 - dense_12_mse: 2.7994e-05 - dense_13_mse: 4.0514e-05 - dense_14_mse: 3.5708e-05 - dense_15_mse: 4.7685e-05 - val_loss: 0.0011 - val_dense_10_loss: 1.9083e-04 - val_dense_11_loss: 1.8813e-04 - val_dense_12_loss: 1.7818e-04 - val_dense_13_loss: 1.9229e-04 - val_dense_14_loss: 1.8929e-04 - val_dense_15_loss: 2.0147e-04 - val_dense_10_mse: 1.9083e-04 - val_dense_11_mse: 1.8813e-04 - val_dense_12_mse: 1.7818e-04 - val_dense_13_mse: 1.9229e-04 - val_dense_14_mse: 1.8929e-04 - val_dense_15_mse: 2.0147e-04\n",
      "Epoch 23/70\n",
      "47/47 [==============================] - 4s 85ms/step - loss: 2.0049e-04 - dense_10_loss: 3.0793e-05 - dense_11_loss: 3.5954e-05 - dense_12_loss: 2.4599e-05 - dense_13_loss: 3.4712e-05 - dense_14_loss: 3.1829e-05 - dense_15_loss: 4.2598e-05 - dense_10_mse: 3.0793e-05 - dense_11_mse: 3.5954e-05 - dense_12_mse: 2.4599e-05 - dense_13_mse: 3.4712e-05 - dense_14_mse: 3.1829e-05 - dense_15_mse: 4.2598e-05 - val_loss: 0.0011 - val_dense_10_loss: 1.8096e-04 - val_dense_11_loss: 1.8179e-04 - val_dense_12_loss: 1.7499e-04 - val_dense_13_loss: 1.7883e-04 - val_dense_14_loss: 1.6270e-04 - val_dense_15_loss: 1.8503e-04 - val_dense_10_mse: 1.8096e-04 - val_dense_11_mse: 1.8179e-04 - val_dense_12_mse: 1.7499e-04 - val_dense_13_mse: 1.7883e-04 - val_dense_14_mse: 1.6270e-04 - val_dense_15_mse: 1.8503e-04\n",
      "Epoch 24/70\n",
      "47/47 [==============================] - 4s 88ms/step - loss: 1.8498e-04 - dense_10_loss: 2.9817e-05 - dense_11_loss: 3.3109e-05 - dense_12_loss: 2.3844e-05 - dense_13_loss: 3.1777e-05 - dense_14_loss: 2.9027e-05 - dense_15_loss: 3.7411e-05 - dense_10_mse: 2.9817e-05 - dense_11_mse: 3.3109e-05 - dense_12_mse: 2.3844e-05 - dense_13_mse: 3.1777e-05 - dense_14_mse: 2.9027e-05 - dense_15_mse: 3.7411e-05 - val_loss: 0.0010 - val_dense_10_loss: 1.7357e-04 - val_dense_11_loss: 1.7506e-04 - val_dense_12_loss: 1.6850e-04 - val_dense_13_loss: 1.7511e-04 - val_dense_14_loss: 1.6982e-04 - val_dense_15_loss: 1.8107e-04 - val_dense_10_mse: 1.7357e-04 - val_dense_11_mse: 1.7506e-04 - val_dense_12_mse: 1.6850e-04 - val_dense_13_mse: 1.7511e-04 - val_dense_14_mse: 1.6982e-04 - val_dense_15_mse: 1.8107e-04\n",
      "Epoch 25/70\n",
      "47/47 [==============================] - 5s 100ms/step - loss: 1.5967e-04 - dense_10_loss: 2.4184e-05 - dense_11_loss: 2.9786e-05 - dense_12_loss: 1.8810e-05 - dense_13_loss: 2.7875e-05 - dense_14_loss: 2.5906e-05 - dense_15_loss: 3.3113e-05 - dense_10_mse: 2.4184e-05 - dense_11_mse: 2.9786e-05 - dense_12_mse: 1.8810e-05 - dense_13_mse: 2.7875e-05 - dense_14_mse: 2.5906e-05 - dense_15_mse: 3.3113e-05 - val_loss: 0.0012 - val_dense_10_loss: 1.9124e-04 - val_dense_11_loss: 2.1033e-04 - val_dense_12_loss: 1.9381e-04 - val_dense_13_loss: 1.9941e-04 - val_dense_14_loss: 1.9760e-04 - val_dense_15_loss: 2.0252e-04 - val_dense_10_mse: 1.9124e-04 - val_dense_11_mse: 2.1033e-04 - val_dense_12_mse: 1.9381e-04 - val_dense_13_mse: 1.9941e-04 - val_dense_14_mse: 1.9760e-04 - val_dense_15_mse: 2.0252e-04\n",
      "Epoch 26/70\n",
      "47/47 [==============================] - 5s 108ms/step - loss: 1.5651e-04 - dense_10_loss: 2.3669e-05 - dense_11_loss: 3.0190e-05 - dense_12_loss: 1.8272e-05 - dense_13_loss: 2.6922e-05 - dense_14_loss: 2.5760e-05 - dense_15_loss: 3.1697e-05 - dense_10_mse: 2.3669e-05 - dense_11_mse: 3.0190e-05 - dense_12_mse: 1.8272e-05 - dense_13_mse: 2.6922e-05 - dense_14_mse: 2.5760e-05 - dense_15_mse: 3.1697e-05 - val_loss: 0.0011 - val_dense_10_loss: 1.9537e-04 - val_dense_11_loss: 1.8903e-04 - val_dense_12_loss: 1.8142e-04 - val_dense_13_loss: 1.9757e-04 - val_dense_14_loss: 1.8601e-04 - val_dense_15_loss: 1.9797e-04 - val_dense_10_mse: 1.9537e-04 - val_dense_11_mse: 1.8903e-04 - val_dense_12_mse: 1.8142e-04 - val_dense_13_mse: 1.9757e-04 - val_dense_14_mse: 1.8601e-04 - val_dense_15_mse: 1.9797e-04\n",
      "Epoch 27/70\n",
      "47/47 [==============================] - 4s 95ms/step - loss: 1.5201e-04 - dense_10_loss: 2.1804e-05 - dense_11_loss: 2.7117e-05 - dense_12_loss: 2.1689e-05 - dense_13_loss: 2.5504e-05 - dense_14_loss: 2.2343e-05 - dense_15_loss: 3.3556e-05 - dense_10_mse: 2.1804e-05 - dense_11_mse: 2.7117e-05 - dense_12_mse: 2.1689e-05 - dense_13_mse: 2.5504e-05 - dense_14_mse: 2.2343e-05 - dense_15_mse: 3.3556e-05 - val_loss: 0.0011 - val_dense_10_loss: 1.8583e-04 - val_dense_11_loss: 1.9029e-04 - val_dense_12_loss: 1.7433e-04 - val_dense_13_loss: 1.8228e-04 - val_dense_14_loss: 1.8012e-04 - val_dense_15_loss: 1.9198e-04 - val_dense_10_mse: 1.8583e-04 - val_dense_11_mse: 1.9029e-04 - val_dense_12_mse: 1.7433e-04 - val_dense_13_mse: 1.8228e-04 - val_dense_14_mse: 1.8012e-04 - val_dense_15_mse: 1.9198e-04\n",
      "Epoch 28/70\n",
      "47/47 [==============================] - 4s 90ms/step - loss: 1.5127e-04 - dense_10_loss: 2.2163e-05 - dense_11_loss: 2.6467e-05 - dense_12_loss: 2.3114e-05 - dense_13_loss: 2.5363e-05 - dense_14_loss: 2.3959e-05 - dense_15_loss: 3.0202e-05 - dense_10_mse: 2.2163e-05 - dense_11_mse: 2.6467e-05 - dense_12_mse: 2.3114e-05 - dense_13_mse: 2.5363e-05 - dense_14_mse: 2.3959e-05 - dense_15_mse: 3.0202e-05 - val_loss: 0.0011 - val_dense_10_loss: 1.7745e-04 - val_dense_11_loss: 1.9122e-04 - val_dense_12_loss: 1.8367e-04 - val_dense_13_loss: 1.8203e-04 - val_dense_14_loss: 1.8134e-04 - val_dense_15_loss: 2.0039e-04 - val_dense_10_mse: 1.7745e-04 - val_dense_11_mse: 1.9122e-04 - val_dense_12_mse: 1.8367e-04 - val_dense_13_mse: 1.8203e-04 - val_dense_14_mse: 1.8134e-04 - val_dense_15_mse: 2.0039e-04\n",
      "Epoch 29/70\n",
      "47/47 [==============================] - 4s 93ms/step - loss: 1.4481e-04 - dense_10_loss: 2.0877e-05 - dense_11_loss: 2.6205e-05 - dense_12_loss: 2.0373e-05 - dense_13_loss: 2.4589e-05 - dense_14_loss: 2.3499e-05 - dense_15_loss: 2.9265e-05 - dense_10_mse: 2.0877e-05 - dense_11_mse: 2.6205e-05 - dense_12_mse: 2.0373e-05 - dense_13_mse: 2.4589e-05 - dense_14_mse: 2.3499e-05 - dense_15_mse: 2.9265e-05 - val_loss: 0.0011 - val_dense_10_loss: 1.7992e-04 - val_dense_11_loss: 1.8615e-04 - val_dense_12_loss: 1.7365e-04 - val_dense_13_loss: 1.8367e-04 - val_dense_14_loss: 1.9269e-04 - val_dense_15_loss: 1.8234e-04 - val_dense_10_mse: 1.7992e-04 - val_dense_11_mse: 1.8615e-04 - val_dense_12_mse: 1.7365e-04 - val_dense_13_mse: 1.8367e-04 - val_dense_14_mse: 1.9269e-04 - val_dense_15_mse: 1.8234e-04\n",
      "Epoch 30/70\n",
      "47/47 [==============================] - 4s 88ms/step - loss: 1.1694e-04 - dense_10_loss: 1.6121e-05 - dense_11_loss: 2.1608e-05 - dense_12_loss: 1.6185e-05 - dense_13_loss: 2.0068e-05 - dense_14_loss: 1.9253e-05 - dense_15_loss: 2.3705e-05 - dense_10_mse: 1.6121e-05 - dense_11_mse: 2.1608e-05 - dense_12_mse: 1.6185e-05 - dense_13_mse: 2.0068e-05 - dense_14_mse: 1.9253e-05 - dense_15_mse: 2.3705e-05 - val_loss: 0.0012 - val_dense_10_loss: 1.9064e-04 - val_dense_11_loss: 1.9719e-04 - val_dense_12_loss: 2.0709e-04 - val_dense_13_loss: 1.9868e-04 - val_dense_14_loss: 2.1542e-04 - val_dense_15_loss: 1.9563e-04 - val_dense_10_mse: 1.9064e-04 - val_dense_11_mse: 1.9719e-04 - val_dense_12_mse: 2.0709e-04 - val_dense_13_mse: 1.9868e-04 - val_dense_14_mse: 2.1542e-04 - val_dense_15_mse: 1.9563e-04\n",
      "Epoch 31/70\n",
      "47/47 [==============================] - 4s 90ms/step - loss: 1.1390e-04 - dense_10_loss: 1.6304e-05 - dense_11_loss: 2.1360e-05 - dense_12_loss: 1.5256e-05 - dense_13_loss: 1.9868e-05 - dense_14_loss: 1.8613e-05 - dense_15_loss: 2.2500e-05 - dense_10_mse: 1.6304e-05 - dense_11_mse: 2.1360e-05 - dense_12_mse: 1.5256e-05 - dense_13_mse: 1.9868e-05 - dense_14_mse: 1.8613e-05 - dense_15_mse: 2.2500e-05 - val_loss: 0.0010 - val_dense_10_loss: 1.6997e-04 - val_dense_11_loss: 1.7859e-04 - val_dense_12_loss: 1.6936e-04 - val_dense_13_loss: 1.7946e-04 - val_dense_14_loss: 1.6974e-04 - val_dense_15_loss: 1.7186e-04 - val_dense_10_mse: 1.6997e-04 - val_dense_11_mse: 1.7859e-04 - val_dense_12_mse: 1.6936e-04 - val_dense_13_mse: 1.7946e-04 - val_dense_14_mse: 1.6974e-04 - val_dense_15_mse: 1.7186e-04\n",
      "Epoch 32/70\n",
      "47/47 [==============================] - 4s 90ms/step - loss: 1.1272e-04 - dense_10_loss: 1.6508e-05 - dense_11_loss: 2.0371e-05 - dense_12_loss: 1.5357e-05 - dense_13_loss: 1.9618e-05 - dense_14_loss: 1.7977e-05 - dense_15_loss: 2.2890e-05 - dense_10_mse: 1.6508e-05 - dense_11_mse: 2.0371e-05 - dense_12_mse: 1.5357e-05 - dense_13_mse: 1.9618e-05 - dense_14_mse: 1.7977e-05 - dense_15_mse: 2.2890e-05 - val_loss: 0.0011 - val_dense_10_loss: 1.7838e-04 - val_dense_11_loss: 1.7247e-04 - val_dense_12_loss: 1.7152e-04 - val_dense_13_loss: 1.8246e-04 - val_dense_14_loss: 1.6878e-04 - val_dense_15_loss: 1.7678e-04 - val_dense_10_mse: 1.7838e-04 - val_dense_11_mse: 1.7247e-04 - val_dense_12_mse: 1.7152e-04 - val_dense_13_mse: 1.8246e-04 - val_dense_14_mse: 1.6878e-04 - val_dense_15_mse: 1.7678e-04\n",
      "Epoch 33/70\n",
      "47/47 [==============================] - 4s 89ms/step - loss: 1.1027e-04 - dense_10_loss: 1.5902e-05 - dense_11_loss: 1.9765e-05 - dense_12_loss: 1.6056e-05 - dense_13_loss: 1.9400e-05 - dense_14_loss: 1.7752e-05 - dense_15_loss: 2.1396e-05 - dense_10_mse: 1.5902e-05 - dense_11_mse: 1.9765e-05 - dense_12_mse: 1.6056e-05 - dense_13_mse: 1.9400e-05 - dense_14_mse: 1.7752e-05 - dense_15_mse: 2.1396e-05 - val_loss: 0.0010 - val_dense_10_loss: 1.7087e-04 - val_dense_11_loss: 1.7603e-04 - val_dense_12_loss: 1.7232e-04 - val_dense_13_loss: 1.7365e-04 - val_dense_14_loss: 1.7369e-04 - val_dense_15_loss: 1.7987e-04 - val_dense_10_mse: 1.7087e-04 - val_dense_11_mse: 1.7603e-04 - val_dense_12_mse: 1.7232e-04 - val_dense_13_mse: 1.7365e-04 - val_dense_14_mse: 1.7369e-04 - val_dense_15_mse: 1.7987e-04\n",
      "Epoch 34/70\n",
      "47/47 [==============================] - 4s 87ms/step - loss: 1.0610e-04 - dense_10_loss: 1.5090e-05 - dense_11_loss: 1.8493e-05 - dense_12_loss: 1.5214e-05 - dense_13_loss: 1.8567e-05 - dense_14_loss: 1.7770e-05 - dense_15_loss: 2.0964e-05 - dense_10_mse: 1.5090e-05 - dense_11_mse: 1.8493e-05 - dense_12_mse: 1.5214e-05 - dense_13_mse: 1.8567e-05 - dense_14_mse: 1.7770e-05 - dense_15_mse: 2.0964e-05 - val_loss: 0.0011 - val_dense_10_loss: 1.7019e-04 - val_dense_11_loss: 1.7472e-04 - val_dense_12_loss: 1.7980e-04 - val_dense_13_loss: 1.7697e-04 - val_dense_14_loss: 1.8038e-04 - val_dense_15_loss: 1.7530e-04 - val_dense_10_mse: 1.7019e-04 - val_dense_11_mse: 1.7472e-04 - val_dense_12_mse: 1.7980e-04 - val_dense_13_mse: 1.7697e-04 - val_dense_14_mse: 1.8038e-04 - val_dense_15_mse: 1.7530e-04\n",
      "Epoch 35/70\n",
      "47/47 [==============================] - 4s 91ms/step - loss: 1.2692e-04 - dense_10_loss: 1.7212e-05 - dense_11_loss: 2.2168e-05 - dense_12_loss: 2.0074e-05 - dense_13_loss: 2.1728e-05 - dense_14_loss: 2.0513e-05 - dense_15_loss: 2.5229e-05 - dense_10_mse: 1.7212e-05 - dense_11_mse: 2.2168e-05 - dense_12_mse: 2.0074e-05 - dense_13_mse: 2.1728e-05 - dense_14_mse: 2.0513e-05 - dense_15_mse: 2.5229e-05 - val_loss: 0.0010 - val_dense_10_loss: 1.6515e-04 - val_dense_11_loss: 1.7506e-04 - val_dense_12_loss: 1.7329e-04 - val_dense_13_loss: 1.7182e-04 - val_dense_14_loss: 1.6470e-04 - val_dense_15_loss: 1.6680e-04 - val_dense_10_mse: 1.6515e-04 - val_dense_11_mse: 1.7506e-04 - val_dense_12_mse: 1.7329e-04 - val_dense_13_mse: 1.7182e-04 - val_dense_14_mse: 1.6470e-04 - val_dense_15_mse: 1.6680e-04\n",
      "Epoch 36/70\n",
      "47/47 [==============================] - 4s 90ms/step - loss: 1.2329e-04 - dense_10_loss: 1.8412e-05 - dense_11_loss: 2.2723e-05 - dense_12_loss: 1.8779e-05 - dense_13_loss: 2.1616e-05 - dense_14_loss: 1.9300e-05 - dense_15_loss: 2.2455e-05 - dense_10_mse: 1.8412e-05 - dense_11_mse: 2.2723e-05 - dense_12_mse: 1.8779e-05 - dense_13_mse: 2.1616e-05 - dense_14_mse: 1.9300e-05 - dense_15_mse: 2.2455e-05 - val_loss: 0.0012 - val_dense_10_loss: 1.8477e-04 - val_dense_11_loss: 1.9584e-04 - val_dense_12_loss: 1.8855e-04 - val_dense_13_loss: 1.9034e-04 - val_dense_14_loss: 1.8684e-04 - val_dense_15_loss: 2.0616e-04 - val_dense_10_mse: 1.8477e-04 - val_dense_11_mse: 1.9584e-04 - val_dense_12_mse: 1.8855e-04 - val_dense_13_mse: 1.9034e-04 - val_dense_14_mse: 1.8685e-04 - val_dense_15_mse: 2.0616e-04\n",
      "Epoch 37/70\n",
      "47/47 [==============================] - 4s 93ms/step - loss: 1.4314e-04 - dense_10_loss: 2.1123e-05 - dense_11_loss: 2.3618e-05 - dense_12_loss: 2.2404e-05 - dense_13_loss: 2.5681e-05 - dense_14_loss: 2.2930e-05 - dense_15_loss: 2.7383e-05 - dense_10_mse: 2.1123e-05 - dense_11_mse: 2.3618e-05 - dense_12_mse: 2.2404e-05 - dense_13_mse: 2.5681e-05 - dense_14_mse: 2.2930e-05 - dense_15_mse: 2.7383e-05 - val_loss: 9.6453e-04 - val_dense_10_loss: 1.6135e-04 - val_dense_11_loss: 1.6419e-04 - val_dense_12_loss: 1.5333e-04 - val_dense_13_loss: 1.6240e-04 - val_dense_14_loss: 1.5898e-04 - val_dense_15_loss: 1.6428e-04 - val_dense_10_mse: 1.6135e-04 - val_dense_11_mse: 1.6419e-04 - val_dense_12_mse: 1.5333e-04 - val_dense_13_mse: 1.6240e-04 - val_dense_14_mse: 1.5898e-04 - val_dense_15_mse: 1.6428e-04\n",
      "Epoch 38/70\n",
      "47/47 [==============================] - 4s 92ms/step - loss: 1.4062e-04 - dense_10_loss: 2.0868e-05 - dense_11_loss: 2.4356e-05 - dense_12_loss: 2.1450e-05 - dense_13_loss: 2.5162e-05 - dense_14_loss: 2.2417e-05 - dense_15_loss: 2.6368e-05 - dense_10_mse: 2.0868e-05 - dense_11_mse: 2.4356e-05 - dense_12_mse: 2.1450e-05 - dense_13_mse: 2.5162e-05 - dense_14_mse: 2.2417e-05 - dense_15_mse: 2.6368e-05 - val_loss: 0.0011 - val_dense_10_loss: 1.7962e-04 - val_dense_11_loss: 1.7891e-04 - val_dense_12_loss: 1.7237e-04 - val_dense_13_loss: 1.8674e-04 - val_dense_14_loss: 1.8073e-04 - val_dense_15_loss: 1.8568e-04 - val_dense_10_mse: 1.7962e-04 - val_dense_11_mse: 1.7891e-04 - val_dense_12_mse: 1.7237e-04 - val_dense_13_mse: 1.8674e-04 - val_dense_14_mse: 1.8073e-04 - val_dense_15_mse: 1.8568e-04\n",
      "Epoch 39/70\n",
      "47/47 [==============================] - 4s 89ms/step - loss: 1.0406e-04 - dense_10_loss: 1.4480e-05 - dense_11_loss: 1.8512e-05 - dense_12_loss: 1.4021e-05 - dense_13_loss: 1.8709e-05 - dense_14_loss: 1.6480e-05 - dense_15_loss: 2.1856e-05 - dense_10_mse: 1.4480e-05 - dense_11_mse: 1.8512e-05 - dense_12_mse: 1.4021e-05 - dense_13_mse: 1.8709e-05 - dense_14_mse: 1.6480e-05 - dense_15_mse: 2.1856e-05 - val_loss: 0.0011 - val_dense_10_loss: 1.8227e-04 - val_dense_11_loss: 1.8205e-04 - val_dense_12_loss: 1.8584e-04 - val_dense_13_loss: 1.8698e-04 - val_dense_14_loss: 1.8363e-04 - val_dense_15_loss: 1.8382e-04 - val_dense_10_mse: 1.8227e-04 - val_dense_11_mse: 1.8205e-04 - val_dense_12_mse: 1.8584e-04 - val_dense_13_mse: 1.8698e-04 - val_dense_14_mse: 1.8363e-04 - val_dense_15_mse: 1.8382e-04\n",
      "Epoch 40/70\n",
      "47/47 [==============================] - 4s 92ms/step - loss: 9.5757e-05 - dense_10_loss: 1.3287e-05 - dense_11_loss: 1.7347e-05 - dense_12_loss: 1.3672e-05 - dense_13_loss: 1.6349e-05 - dense_14_loss: 1.5324e-05 - dense_15_loss: 1.9779e-05 - dense_10_mse: 1.3287e-05 - dense_11_mse: 1.7347e-05 - dense_12_mse: 1.3672e-05 - dense_13_mse: 1.6349e-05 - dense_14_mse: 1.5324e-05 - dense_15_mse: 1.9779e-05 - val_loss: 0.0010 - val_dense_10_loss: 1.7399e-04 - val_dense_11_loss: 1.7124e-04 - val_dense_12_loss: 1.7211e-04 - val_dense_13_loss: 1.6948e-04 - val_dense_14_loss: 1.7651e-04 - val_dense_15_loss: 1.7456e-04 - val_dense_10_mse: 1.7399e-04 - val_dense_11_mse: 1.7124e-04 - val_dense_12_mse: 1.7211e-04 - val_dense_13_mse: 1.6948e-04 - val_dense_14_mse: 1.7651e-04 - val_dense_15_mse: 1.7456e-04\n",
      "Epoch 41/70\n",
      "47/47 [==============================] - 4s 91ms/step - loss: 9.5146e-05 - dense_10_loss: 1.3434e-05 - dense_11_loss: 1.7634e-05 - dense_12_loss: 1.3760e-05 - dense_13_loss: 1.6858e-05 - dense_14_loss: 1.4774e-05 - dense_15_loss: 1.8686e-05 - dense_10_mse: 1.3434e-05 - dense_11_mse: 1.7634e-05 - dense_12_mse: 1.3760e-05 - dense_13_mse: 1.6858e-05 - dense_14_mse: 1.4774e-05 - dense_15_mse: 1.8686e-05 - val_loss: 0.0010 - val_dense_10_loss: 1.6539e-04 - val_dense_11_loss: 1.7388e-04 - val_dense_12_loss: 1.6597e-04 - val_dense_13_loss: 1.7442e-04 - val_dense_14_loss: 1.7721e-04 - val_dense_15_loss: 1.7098e-04 - val_dense_10_mse: 1.6539e-04 - val_dense_11_mse: 1.7388e-04 - val_dense_12_mse: 1.6597e-04 - val_dense_13_mse: 1.7442e-04 - val_dense_14_mse: 1.7721e-04 - val_dense_15_mse: 1.7098e-04\n",
      "Epoch 42/70\n"
     ]
    },
    {
     "name": "stdout",
     "output_type": "stream",
     "text": [
      "47/47 [==============================] - 4s 93ms/step - loss: 9.2425e-05 - dense_10_loss: 1.2627e-05 - dense_11_loss: 1.5943e-05 - dense_12_loss: 1.4097e-05 - dense_13_loss: 1.5478e-05 - dense_14_loss: 1.5162e-05 - dense_15_loss: 1.9118e-05 - dense_10_mse: 1.2627e-05 - dense_11_mse: 1.5943e-05 - dense_12_mse: 1.4097e-05 - dense_13_mse: 1.5478e-05 - dense_14_mse: 1.5162e-05 - dense_15_mse: 1.9118e-05 - val_loss: 0.0012 - val_dense_10_loss: 1.9155e-04 - val_dense_11_loss: 1.9055e-04 - val_dense_12_loss: 2.0290e-04 - val_dense_13_loss: 1.8716e-04 - val_dense_14_loss: 1.8649e-04 - val_dense_15_loss: 2.1311e-04 - val_dense_10_mse: 1.9155e-04 - val_dense_11_mse: 1.9055e-04 - val_dense_12_mse: 2.0290e-04 - val_dense_13_mse: 1.8716e-04 - val_dense_14_mse: 1.8649e-04 - val_dense_15_mse: 2.1311e-04\n",
      "Epoch 43/70\n",
      "47/47 [==============================] - 4s 90ms/step - loss: 9.2707e-05 - dense_10_loss: 1.3330e-05 - dense_11_loss: 1.5067e-05 - dense_12_loss: 1.4784e-05 - dense_13_loss: 1.5747e-05 - dense_14_loss: 1.5425e-05 - dense_15_loss: 1.8354e-05 - dense_10_mse: 1.3330e-05 - dense_11_mse: 1.5067e-05 - dense_12_mse: 1.4784e-05 - dense_13_mse: 1.5747e-05 - dense_14_mse: 1.5425e-05 - dense_15_mse: 1.8354e-05 - val_loss: 0.0011 - val_dense_10_loss: 1.6853e-04 - val_dense_11_loss: 1.7941e-04 - val_dense_12_loss: 1.9362e-04 - val_dense_13_loss: 1.8177e-04 - val_dense_14_loss: 1.6898e-04 - val_dense_15_loss: 1.9210e-04 - val_dense_10_mse: 1.6853e-04 - val_dense_11_mse: 1.7941e-04 - val_dense_12_mse: 1.9362e-04 - val_dense_13_mse: 1.8177e-04 - val_dense_14_mse: 1.6898e-04 - val_dense_15_mse: 1.9210e-04\n",
      "Epoch 44/70\n",
      "47/47 [==============================] - 4s 94ms/step - loss: 9.7645e-05 - dense_10_loss: 1.4502e-05 - dense_11_loss: 1.7916e-05 - dense_12_loss: 1.4842e-05 - dense_13_loss: 1.6865e-05 - dense_14_loss: 1.5838e-05 - dense_15_loss: 1.7682e-05 - dense_10_mse: 1.4502e-05 - dense_11_mse: 1.7916e-05 - dense_12_mse: 1.4842e-05 - dense_13_mse: 1.6865e-05 - dense_14_mse: 1.5838e-05 - dense_15_mse: 1.7682e-05 - val_loss: 0.0011 - val_dense_10_loss: 1.7837e-04 - val_dense_11_loss: 1.7830e-04 - val_dense_12_loss: 1.9090e-04 - val_dense_13_loss: 1.8661e-04 - val_dense_14_loss: 1.6543e-04 - val_dense_15_loss: 2.0285e-04 - val_dense_10_mse: 1.7837e-04 - val_dense_11_mse: 1.7830e-04 - val_dense_12_mse: 1.9090e-04 - val_dense_13_mse: 1.8661e-04 - val_dense_14_mse: 1.6543e-04 - val_dense_15_mse: 2.0285e-04\n",
      "Epoch 45/70\n",
      "47/47 [==============================] - 4s 92ms/step - loss: 9.4750e-05 - dense_10_loss: 1.3542e-05 - dense_11_loss: 1.6545e-05 - dense_12_loss: 1.4004e-05 - dense_13_loss: 1.5735e-05 - dense_14_loss: 1.4560e-05 - dense_15_loss: 2.0364e-05 - dense_10_mse: 1.3542e-05 - dense_11_mse: 1.6545e-05 - dense_12_mse: 1.4004e-05 - dense_13_mse: 1.5735e-05 - dense_14_mse: 1.4560e-05 - dense_15_mse: 2.0364e-05 - val_loss: 0.0011 - val_dense_10_loss: 1.8681e-04 - val_dense_11_loss: 1.8864e-04 - val_dense_12_loss: 1.8649e-04 - val_dense_13_loss: 1.7844e-04 - val_dense_14_loss: 1.6880e-04 - val_dense_15_loss: 1.9233e-04 - val_dense_10_mse: 1.8681e-04 - val_dense_11_mse: 1.8864e-04 - val_dense_12_mse: 1.8649e-04 - val_dense_13_mse: 1.7844e-04 - val_dense_14_mse: 1.6880e-04 - val_dense_15_mse: 1.9233e-04\n",
      "Epoch 46/70\n",
      "47/47 [==============================] - 4s 91ms/step - loss: 1.0732e-04 - dense_10_loss: 1.4889e-05 - dense_11_loss: 1.8689e-05 - dense_12_loss: 1.6710e-05 - dense_13_loss: 1.8193e-05 - dense_14_loss: 1.8032e-05 - dense_15_loss: 2.0808e-05 - dense_10_mse: 1.4889e-05 - dense_11_mse: 1.8689e-05 - dense_12_mse: 1.6710e-05 - dense_13_mse: 1.8193e-05 - dense_14_mse: 1.8032e-05 - dense_15_mse: 2.0808e-05 - val_loss: 0.0010 - val_dense_10_loss: 1.7657e-04 - val_dense_11_loss: 1.7398e-04 - val_dense_12_loss: 1.5941e-04 - val_dense_13_loss: 1.6621e-04 - val_dense_14_loss: 1.7038e-04 - val_dense_15_loss: 1.7150e-04 - val_dense_10_mse: 1.7657e-04 - val_dense_11_mse: 1.7398e-04 - val_dense_12_mse: 1.5941e-04 - val_dense_13_mse: 1.6621e-04 - val_dense_14_mse: 1.7038e-04 - val_dense_15_mse: 1.7150e-04\n",
      "Epoch 47/70\n",
      "47/47 [==============================] - 4s 92ms/step - loss: 1.1333e-04 - dense_10_loss: 1.7261e-05 - dense_11_loss: 2.0445e-05 - dense_12_loss: 1.6768e-05 - dense_13_loss: 1.9320e-05 - dense_14_loss: 1.8055e-05 - dense_15_loss: 2.1476e-05 - dense_10_mse: 1.7261e-05 - dense_11_mse: 2.0445e-05 - dense_12_mse: 1.6768e-05 - dense_13_mse: 1.9320e-05 - dense_14_mse: 1.8055e-05 - dense_15_mse: 2.1476e-05 - val_loss: 0.0010 - val_dense_10_loss: 1.6826e-04 - val_dense_11_loss: 1.6908e-04 - val_dense_12_loss: 1.7457e-04 - val_dense_13_loss: 1.7286e-04 - val_dense_14_loss: 1.7930e-04 - val_dense_15_loss: 1.6976e-04 - val_dense_10_mse: 1.6826e-04 - val_dense_11_mse: 1.6908e-04 - val_dense_12_mse: 1.7457e-04 - val_dense_13_mse: 1.7286e-04 - val_dense_14_mse: 1.7930e-04 - val_dense_15_mse: 1.6976e-04\n",
      "Epoch 00047: early stopping\n",
      "Minutes elapsed: 3.137560\n"
     ]
    }
   ],
   "source": [
    "t0 = time.time()\n",
    "# Model training\n",
    "callbacks = [ModelCheckpoint(save_best_weights, monitor='val_loss', save_best_only=True, mode='auto'),\n",
    "             EarlyStopping(monitor='val_loss', patience=10, verbose=1, mode='auto')\n",
    "             #,tensorboard\n",
    "            ]\n",
    "\n",
    "num_epochs = 70\n",
    "\n",
    "history = model.fit_generator(generator=training_generator,\n",
    "                              validation_data=validation_generator,\n",
    "                              epochs=num_epochs,\n",
    "                              verbose=1,\n",
    "                              callbacks=callbacks)\n",
    "t1 = time.time()\n",
    "print(\"Minutes elapsed: %f\" % ((t1 - t0) / 60.))"
   ]
  },
  {
   "cell_type": "code",
   "execution_count": 79,
   "metadata": {
    "colab": {},
    "colab_type": "code",
    "id": "xtSAkc4Pc7xb"
   },
   "outputs": [],
   "source": [
    "# save the last weights \n",
    "model.save_weights(save_last_weights)"
   ]
  },
  {
   "cell_type": "code",
   "execution_count": 80,
   "metadata": {
    "colab": {},
    "colab_type": "code",
    "id": "DxjLnclCc7xP"
   },
   "outputs": [],
   "source": [
    "# Aggregate the summary statistics\n",
    "summary_stats = pd.DataFrame({'epoch': [ i + 1 for i in history.epoch ],\n",
    "                              #'train_acc': history.history['mean_squared_error'],\n",
    "                              #'valid_acc': history.history['val_mean_squared_error'],\n",
    "                              'train_loss': history.history['loss'],\n",
    "                              'valid_loss': history.history['val_loss']})"
   ]
  },
  {
   "cell_type": "code",
   "execution_count": 81,
   "metadata": {
    "colab": {},
    "colab_type": "code",
    "id": "SzVb0B9fc7xS"
   },
   "outputs": [],
   "source": [
    "# Aggregate the summary statistics\n",
    "summary_stats = pd.DataFrame({'epoch': [ i + 1 for i in history.epoch ],\n",
    "                              #'train_acc': history.history['mean_squared_error'],\n",
    "                              #'valid_acc': history.history['val_mean_squared_error'],\n",
    "                              'train_loss': history.history['loss'],\n",
    "                              'valid_loss': history.history['val_loss']})"
   ]
  },
  {
   "cell_type": "code",
   "execution_count": 82,
   "metadata": {
    "colab": {},
    "colab_type": "code",
    "id": "up8gwtvuc7xW"
   },
   "outputs": [],
   "source": [
    "summary_stats.to_csv(save_summary_stats)    "
   ]
  },
  {
   "cell_type": "code",
   "execution_count": 83,
   "metadata": {
    "colab": {
     "base_uri": "https://localhost:8080/",
     "height": 283
    },
    "colab_type": "code",
    "executionInfo": {
     "elapsed": 1664,
     "status": "ok",
     "timestamp": 1584717116478,
     "user": {
      "displayName": "Manuel López Martín",
      "photoUrl": "https://lh3.googleusercontent.com/a-/AOh14Gjkbx9ZcgNrx28G-E9vmuDH73kYDfRwYT7t4SrOSQytLxtAwwl3I1K9yrMCXDmpZDNRYJMtwAh1zUlDFBeKxUr27pGfkbEuB8jW7lZ493uXzPvtAaC789hDEYxeLTuYOFvHe-CvV2lEUxJ-VQLYi-j3sjekrCtwd-fTarbdYre3bTLHf9qgyLR3sZDRdiYD5IIGnePAsdQ9BIuGb6m4UTckK_xLzJgUTGemEM4_uRpl_eTir9imsyDARB5cNolutC5oZ0iMtKKJbCSYpV3aOTZ28OfpEdOfCEXKGAfl8VA5Pi5V-p60C5ZwEu856OwlJv7ZoHH2ZhQKmEYkYHTn7EyTdCrJ5Wg7VE_RH5I7zuIbBOsOgXRaR38zr9XRYFuL_zj2DYkQ4u95CqyClNNV6uRBFCj9FPpbqwjUT_2weo_47cJP73uX3TByD16ShG8kOrPjIxMg8KatQnF6UjA4iySodg_LXbsWXBNja5pnBt4EEep476uXgMytX0nLvN-7i4DeJINnM2Td0y7F5Bf9sVkAC5mRULjppb8fao84LSFAxoHLIXl4BvMY6tKT6ywy54zbmr99YPuUqXt2GZ0TsSBOPXlYUXz_jAsloMrqeSgxGDnsm1tBrvbECnnBELENi9r9PUE6lTJ5Fn3pXDYIJ2RJcGT9sebJo-QjsOlAl8nIbydH8wH_EqPmWIncWhFSfpv0mue8KLsNEE5QV6d5zV4CNioVdf34uezwiG4zeLzlJ0VZmf5ByQXWD1FoiZKC7vOBZw=s64",
      "userId": "11336038813033628796"
     },
     "user_tz": -60
    },
    "id": "7HknOGkAc7xY",
    "outputId": "6589bd87-f2d1-49e8-d121-aae5f5d3fad7"
   },
   "outputs": [
    {
     "data": {
      "image/png": "[encoded data removed]",
      "text/plain": [
       "<Figure size 432x288 with 1 Axes>"
      ]
     },
     "metadata": {
      "needs_background": "light"
     },
     "output_type": "display_data"
    },
    {
     "name": "stdout",
     "output_type": "stream",
     "text": [
      "Minimum val_loss at epoch 37 = 0.0010\n"
     ]
    }
   ],
   "source": [
    "plt.plot(summary_stats.train_loss, 'b') # blue\n",
    "plt.plot(summary_stats.valid_loss, 'g') # green\n",
    "plt.show()\n",
    "\n",
    "# Find the min validation loss during the training\n",
    "min_loss, idx = min((loss, idx) for (idx, loss) in enumerate(history.history['val_loss']))\n",
    "print('Minimum val_loss at epoch', '{:d}'.format(idx+1), '=', '{:.4f}'.format(min_loss))\n",
    "min_loss = round(min_loss, 4)\n"
   ]
  },
  {
   "cell_type": "markdown",
   "metadata": {
    "colab_type": "text",
    "id": "OMYUDY04c7xe"
   },
   "source": [
    "## 4.3 Inference"
   ]
  },
  {
   "cell_type": "code",
   "execution_count": 40,
   "metadata": {
    "colab": {
     "base_uri": "https://localhost:8080/",
     "height": 52
    },
    "colab_type": "code",
    "executionInfo": {
     "elapsed": 6905,
     "status": "ok",
     "timestamp": 1584717121741,
     "user": {
      "displayName": "Manuel López Martín",
      "photoUrl": "https://lh3.googleusercontent.com/a-/AOh14Gjkbx9ZcgNrx28G-E9vmuDH73kYDfRwYT7t4SrOSQytLxtAwwl3I1K9yrMCXDmpZDNRYJMtwAh1zUlDFBeKxUr27pGfkbEuB8jW7lZ493uXzPvtAaC789hDEYxeLTuYOFvHe-CvV2lEUxJ-VQLYi-j3sjekrCtwd-fTarbdYre3bTLHf9qgyLR3sZDRdiYD5IIGnePAsdQ9BIuGb6m4UTckK_xLzJgUTGemEM4_uRpl_eTir9imsyDARB5cNolutC5oZ0iMtKKJbCSYpV3aOTZ28OfpEdOfCEXKGAfl8VA5Pi5V-p60C5ZwEu856OwlJv7ZoHH2ZhQKmEYkYHTn7EyTdCrJ5Wg7VE_RH5I7zuIbBOsOgXRaR38zr9XRYFuL_zj2DYkQ4u95CqyClNNV6uRBFCj9FPpbqwjUT_2weo_47cJP73uX3TByD16ShG8kOrPjIxMg8KatQnF6UjA4iySodg_LXbsWXBNja5pnBt4EEep476uXgMytX0nLvN-7i4DeJINnM2Td0y7F5Bf9sVkAC5mRULjppb8fao84LSFAxoHLIXl4BvMY6tKT6ywy54zbmr99YPuUqXt2GZ0TsSBOPXlYUXz_jAsloMrqeSgxGDnsm1tBrvbECnnBELENi9r9PUE6lTJ5Fn3pXDYIJ2RJcGT9sebJo-QjsOlAl8nIbydH8wH_EqPmWIncWhFSfpv0mue8KLsNEE5QV6d5zV4CNioVdf34uezwiG4zeLzlJ0VZmf5ByQXWD1FoiZKC7vOBZw=s64",
      "userId": "11336038813033628796"
     },
     "user_tz": -60
    },
    "id": "blumb9kgc7xf",
    "outputId": "7b98ca85-36b3-4235-80ca-2343532f06a9",
    "scrolled": true
   },
   "outputs": [
    {
     "name": "stdout",
     "output_type": "stream",
     "text": [
      "36/36 [==============================] - 1s 33ms/step\n",
      "Minutes elapsed: 0.028612\n"
     ]
    }
   ],
   "source": [
    "t0 = time.time()\n",
    "\n",
    "model.load_weights(save_best_weights)\n",
    "Ytest_hat_fl = model.predict(test_generator, verbose=1) \n",
    "    \n",
    "t1 = time.time()\n",
    "print(\"Minutes elapsed: %f\" % ((t1 - t0) / 60.))"
   ]
  },
  {
   "cell_type": "code",
   "execution_count": 41,
   "metadata": {
    "colab": {
     "base_uri": "https://localhost:8080/",
     "height": 307
    },
    "colab_type": "code",
    "executionInfo": {
     "elapsed": 24248,
     "status": "ok",
     "timestamp": 1584717139138,
     "user": {
      "displayName": "Manuel López Martín",
      "photoUrl": "https://lh3.googleusercontent.com/a-/AOh14Gjkbx9ZcgNrx28G-E9vmuDH73kYDfRwYT7t4SrOSQytLxtAwwl3I1K9yrMCXDmpZDNRYJMtwAh1zUlDFBeKxUr27pGfkbEuB8jW7lZ493uXzPvtAaC789hDEYxeLTuYOFvHe-CvV2lEUxJ-VQLYi-j3sjekrCtwd-fTarbdYre3bTLHf9qgyLR3sZDRdiYD5IIGnePAsdQ9BIuGb6m4UTckK_xLzJgUTGemEM4_uRpl_eTir9imsyDARB5cNolutC5oZ0iMtKKJbCSYpV3aOTZ28OfpEdOfCEXKGAfl8VA5Pi5V-p60C5ZwEu856OwlJv7ZoHH2ZhQKmEYkYHTn7EyTdCrJ5Wg7VE_RH5I7zuIbBOsOgXRaR38zr9XRYFuL_zj2DYkQ4u95CqyClNNV6uRBFCj9FPpbqwjUT_2weo_47cJP73uX3TByD16ShG8kOrPjIxMg8KatQnF6UjA4iySodg_LXbsWXBNja5pnBt4EEep476uXgMytX0nLvN-7i4DeJINnM2Td0y7F5Bf9sVkAC5mRULjppb8fao84LSFAxoHLIXl4BvMY6tKT6ywy54zbmr99YPuUqXt2GZ0TsSBOPXlYUXz_jAsloMrqeSgxGDnsm1tBrvbECnnBELENi9r9PUE6lTJ5Fn3pXDYIJ2RJcGT9sebJo-QjsOlAl8nIbydH8wH_EqPmWIncWhFSfpv0mue8KLsNEE5QV6d5zV4CNioVdf34uezwiG4zeLzlJ0VZmf5ByQXWD1FoiZKC7vOBZw=s64",
      "userId": "11336038813033628796"
     },
     "user_tz": -60
    },
    "id": "B9mTBBvgQo_y",
    "outputId": "03a8acd4-1403-47af-8372-bd88eef46578"
   },
   "outputs": [
    {
     "name": "stdout",
     "output_type": "stream",
     "text": [
      "Performance measures on Test data, per sec\n"
     ]
    },
    {
     "data": {
      "text/html": [
       "<div>\n",
       "<style scoped>\n",
       "    .dataframe tbody tr th:only-of-type {\n",
       "        vertical-align: middle;\n",
       "    }\n",
       "\n",
       "    .dataframe tbody tr th {\n",
       "        vertical-align: top;\n",
       "    }\n",
       "\n",
       "    .dataframe thead th {\n",
       "        text-align: right;\n",
       "    }\n",
       "</style>\n",
       "<table border=\"1\" class=\"dataframe\">\n",
       "  <thead>\n",
       "    <tr style=\"text-align: right;\">\n",
       "      <th></th>\n",
       "      <th>0</th>\n",
       "      <th>1</th>\n",
       "      <th>2</th>\n",
       "      <th>3</th>\n",
       "      <th>4</th>\n",
       "      <th>5</th>\n",
       "      <th>6</th>\n",
       "      <th>7</th>\n",
       "      <th>8</th>\n",
       "      <th>9</th>\n",
       "      <th>10</th>\n",
       "      <th>11</th>\n",
       "      <th>12</th>\n",
       "      <th>13</th>\n",
       "      <th>14</th>\n",
       "      <th>15</th>\n",
       "      <th>16</th>\n",
       "      <th>17</th>\n",
       "      <th>18</th>\n",
       "      <th>19</th>\n",
       "      <th>20</th>\n",
       "      <th>21</th>\n",
       "      <th>22</th>\n",
       "      <th>23</th>\n",
       "      <th>24</th>\n",
       "      <th>25</th>\n",
       "      <th>26</th>\n",
       "      <th>27</th>\n",
       "      <th>28</th>\n",
       "      <th>29</th>\n",
       "      <th>30</th>\n",
       "      <th>31</th>\n",
       "      <th>32</th>\n",
       "      <th>33</th>\n",
       "      <th>34</th>\n",
       "      <th>35</th>\n",
       "      <th>36</th>\n",
       "      <th>37</th>\n",
       "      <th>38</th>\n",
       "      <th>39</th>\n",
       "      <th>40</th>\n",
       "      <th>41</th>\n",
       "      <th>42</th>\n",
       "      <th>43</th>\n",
       "      <th>44</th>\n",
       "      <th>45</th>\n",
       "      <th>46</th>\n",
       "      <th>47</th>\n",
       "      <th>48</th>\n",
       "      <th>49</th>\n",
       "      <th>...</th>\n",
       "      <th>130</th>\n",
       "      <th>131</th>\n",
       "      <th>132</th>\n",
       "      <th>133</th>\n",
       "      <th>134</th>\n",
       "      <th>135</th>\n",
       "      <th>136</th>\n",
       "      <th>137</th>\n",
       "      <th>138</th>\n",
       "      <th>139</th>\n",
       "      <th>140</th>\n",
       "      <th>141</th>\n",
       "      <th>142</th>\n",
       "      <th>143</th>\n",
       "      <th>144</th>\n",
       "      <th>145</th>\n",
       "      <th>146</th>\n",
       "      <th>147</th>\n",
       "      <th>148</th>\n",
       "      <th>149</th>\n",
       "      <th>150</th>\n",
       "      <th>151</th>\n",
       "      <th>152</th>\n",
       "      <th>153</th>\n",
       "      <th>154</th>\n",
       "      <th>155</th>\n",
       "      <th>156</th>\n",
       "      <th>157</th>\n",
       "      <th>158</th>\n",
       "      <th>159</th>\n",
       "      <th>160</th>\n",
       "      <th>161</th>\n",
       "      <th>162</th>\n",
       "      <th>163</th>\n",
       "      <th>164</th>\n",
       "      <th>165</th>\n",
       "      <th>166</th>\n",
       "      <th>167</th>\n",
       "      <th>168</th>\n",
       "      <th>169</th>\n",
       "      <th>170</th>\n",
       "      <th>171</th>\n",
       "      <th>172</th>\n",
       "      <th>173</th>\n",
       "      <th>174</th>\n",
       "      <th>175</th>\n",
       "      <th>176</th>\n",
       "      <th>177</th>\n",
       "      <th>178</th>\n",
       "      <th>179</th>\n",
       "    </tr>\n",
       "  </thead>\n",
       "  <tbody>\n",
       "    <tr>\n",
       "      <th>MSE</th>\n",
       "      <td>0.000188959</td>\n",
       "      <td>0.000145489</td>\n",
       "      <td>0.000136522</td>\n",
       "      <td>0.000177163</td>\n",
       "      <td>0.000147723</td>\n",
       "      <td>0.000198973</td>\n",
       "      <td>0.000183766</td>\n",
       "      <td>0.000127874</td>\n",
       "      <td>0.000180044</td>\n",
       "      <td>0.000128544</td>\n",
       "      <td>0.000167801</td>\n",
       "      <td>0.000178429</td>\n",
       "      <td>0.000149144</td>\n",
       "      <td>0.000156012</td>\n",
       "      <td>0.000148116</td>\n",
       "      <td>0.000155567</td>\n",
       "      <td>0.000183384</td>\n",
       "      <td>0.000167595</td>\n",
       "      <td>0.000185087</td>\n",
       "      <td>0.000195604</td>\n",
       "      <td>0.000156619</td>\n",
       "      <td>0.000128947</td>\n",
       "      <td>0.000180414</td>\n",
       "      <td>0.000134818</td>\n",
       "      <td>0.000189866</td>\n",
       "      <td>0.000182351</td>\n",
       "      <td>0.000138158</td>\n",
       "      <td>0.000173297</td>\n",
       "      <td>0.0001365</td>\n",
       "      <td>0.000165288</td>\n",
       "      <td>0.000175794</td>\n",
       "      <td>0.000156614</td>\n",
       "      <td>0.00016193</td>\n",
       "      <td>0.000159545</td>\n",
       "      <td>0.000157275</td>\n",
       "      <td>0.0001773</td>\n",
       "      <td>0.000167859</td>\n",
       "      <td>0.00017942</td>\n",
       "      <td>0.000200215</td>\n",
       "      <td>0.000168091</td>\n",
       "      <td>0.000125801</td>\n",
       "      <td>0.000180004</td>\n",
       "      <td>0.000128077</td>\n",
       "      <td>0.000180318</td>\n",
       "      <td>0.000181704</td>\n",
       "      <td>0.00013969</td>\n",
       "      <td>0.000167123</td>\n",
       "      <td>0.000138339</td>\n",
       "      <td>0.000159826</td>\n",
       "      <td>0.000174498</td>\n",
       "      <td>...</td>\n",
       "      <td>0.000121823</td>\n",
       "      <td>0.00018375</td>\n",
       "      <td>0.000126157</td>\n",
       "      <td>0.000175504</td>\n",
       "      <td>0.000181591</td>\n",
       "      <td>0.000140864</td>\n",
       "      <td>0.000163537</td>\n",
       "      <td>0.000136344</td>\n",
       "      <td>0.000159662</td>\n",
       "      <td>0.000174562</td>\n",
       "      <td>0.00016074</td>\n",
       "      <td>0.000171491</td>\n",
       "      <td>0.000182106</td>\n",
       "      <td>0.000150159</td>\n",
       "      <td>0.000148266</td>\n",
       "      <td>0.000172724</td>\n",
       "      <td>0.000164363</td>\n",
       "      <td>0.000203792</td>\n",
       "      <td>0.000182864</td>\n",
       "      <td>0.00011928</td>\n",
       "      <td>0.000183135</td>\n",
       "      <td>0.000124625</td>\n",
       "      <td>0.00017005</td>\n",
       "      <td>0.000181047</td>\n",
       "      <td>0.000143849</td>\n",
       "      <td>0.000160749</td>\n",
       "      <td>0.000138824</td>\n",
       "      <td>0.000158617</td>\n",
       "      <td>0.000176481</td>\n",
       "      <td>0.000163702</td>\n",
       "      <td>0.000177095</td>\n",
       "      <td>0.000190248</td>\n",
       "      <td>0.000146473</td>\n",
       "      <td>0.000135778</td>\n",
       "      <td>0.000177849</td>\n",
       "      <td>0.000146566</td>\n",
       "      <td>0.00019834</td>\n",
       "      <td>0.00018346</td>\n",
       "      <td>0.000129403</td>\n",
       "      <td>0.000179531</td>\n",
       "      <td>0.000129684</td>\n",
       "      <td>0.000168004</td>\n",
       "      <td>0.000178306</td>\n",
       "      <td>0.000150093</td>\n",
       "      <td>0.000156795</td>\n",
       "      <td>0.000149148</td>\n",
       "      <td>0.000155813</td>\n",
       "      <td>0.000185069</td>\n",
       "      <td>0.00016788</td>\n",
       "      <td>0.000186298</td>\n",
       "    </tr>\n",
       "    <tr>\n",
       "      <th>MAE</th>\n",
       "      <td>0.00976236</td>\n",
       "      <td>0.00954155</td>\n",
       "      <td>0.00821809</td>\n",
       "      <td>0.00938158</td>\n",
       "      <td>0.00885497</td>\n",
       "      <td>0.0101989</td>\n",
       "      <td>0.0104668</td>\n",
       "      <td>0.00808104</td>\n",
       "      <td>0.0102543</td>\n",
       "      <td>0.00786822</td>\n",
       "      <td>0.00863191</td>\n",
       "      <td>0.0107572</td>\n",
       "      <td>0.00914896</td>\n",
       "      <td>0.0100378</td>\n",
       "      <td>0.00893229</td>\n",
       "      <td>0.00851488</td>\n",
       "      <td>0.00964407</td>\n",
       "      <td>0.0096589</td>\n",
       "      <td>0.0105352</td>\n",
       "      <td>0.00969549</td>\n",
       "      <td>0.00982735</td>\n",
       "      <td>0.00762623</td>\n",
       "      <td>0.0098568</td>\n",
       "      <td>0.00865398</td>\n",
       "      <td>0.010025</td>\n",
       "      <td>0.0102806</td>\n",
       "      <td>0.00841855</td>\n",
       "      <td>0.0099018</td>\n",
       "      <td>0.00818486</td>\n",
       "      <td>0.00825894</td>\n",
       "      <td>0.0104949</td>\n",
       "      <td>0.00956011</td>\n",
       "      <td>0.00984274</td>\n",
       "      <td>0.00924084</td>\n",
       "      <td>0.00903869</td>\n",
       "      <td>0.00945797</td>\n",
       "      <td>0.00934368</td>\n",
       "      <td>0.0102156</td>\n",
       "      <td>0.0103146</td>\n",
       "      <td>0.00994428</td>\n",
       "      <td>0.00759084</td>\n",
       "      <td>0.00989644</td>\n",
       "      <td>0.00818174</td>\n",
       "      <td>0.00966975</td>\n",
       "      <td>0.0103279</td>\n",
       "      <td>0.0083486</td>\n",
       "      <td>0.0100188</td>\n",
       "      <td>0.00805257</td>\n",
       "      <td>0.00836926</td>\n",
       "      <td>0.0104092</td>\n",
       "      <td>...</td>\n",
       "      <td>0.00754906</td>\n",
       "      <td>0.00990256</td>\n",
       "      <td>0.00792843</td>\n",
       "      <td>0.00945911</td>\n",
       "      <td>0.0105856</td>\n",
       "      <td>0.00847222</td>\n",
       "      <td>0.0101619</td>\n",
       "      <td>0.00784691</td>\n",
       "      <td>0.0084963</td>\n",
       "      <td>0.0101918</td>\n",
       "      <td>0.00981615</td>\n",
       "      <td>0.00981918</td>\n",
       "      <td>0.00966039</td>\n",
       "      <td>0.00958842</td>\n",
       "      <td>0.00864945</td>\n",
       "      <td>0.00945074</td>\n",
       "      <td>0.00939547</td>\n",
       "      <td>0.0103173</td>\n",
       "      <td>0.0104727</td>\n",
       "      <td>0.0075154</td>\n",
       "      <td>0.0103213</td>\n",
       "      <td>0.00775233</td>\n",
       "      <td>0.00917188</td>\n",
       "      <td>0.0109106</td>\n",
       "      <td>0.00891375</td>\n",
       "      <td>0.0103679</td>\n",
       "      <td>0.00813915</td>\n",
       "      <td>0.00864354</td>\n",
       "      <td>0.0100291</td>\n",
       "      <td>0.00958992</td>\n",
       "      <td>0.0101981</td>\n",
       "      <td>0.00978123</td>\n",
       "      <td>0.00957797</td>\n",
       "      <td>0.00818497</td>\n",
       "      <td>0.0094219</td>\n",
       "      <td>0.00887272</td>\n",
       "      <td>0.010181</td>\n",
       "      <td>0.0104756</td>\n",
       "      <td>0.00816188</td>\n",
       "      <td>0.0102267</td>\n",
       "      <td>0.00794004</td>\n",
       "      <td>0.00861443</td>\n",
       "      <td>0.0107245</td>\n",
       "      <td>0.00918448</td>\n",
       "      <td>0.0100222</td>\n",
       "      <td>0.00897817</td>\n",
       "      <td>0.00854884</td>\n",
       "      <td>0.00964278</td>\n",
       "      <td>0.00963748</td>\n",
       "      <td>0.0105693</td>\n",
       "    </tr>\n",
       "    <tr>\n",
       "      <th>MAD</th>\n",
       "      <td>0.00518585</td>\n",
       "      <td>0.00734677</td>\n",
       "      <td>0.00466578</td>\n",
       "      <td>0.00401892</td>\n",
       "      <td>0.00612458</td>\n",
       "      <td>0.00672153</td>\n",
       "      <td>0.00749356</td>\n",
       "      <td>0.00450143</td>\n",
       "      <td>0.00657039</td>\n",
       "      <td>0.00499182</td>\n",
       "      <td>0.00469375</td>\n",
       "      <td>0.00908699</td>\n",
       "      <td>0.00619092</td>\n",
       "      <td>0.00834137</td>\n",
       "      <td>0.00484238</td>\n",
       "      <td>0.00448758</td>\n",
       "      <td>0.00603603</td>\n",
       "      <td>0.00597195</td>\n",
       "      <td>0.00953494</td>\n",
       "      <td>0.0046464</td>\n",
       "      <td>0.00788554</td>\n",
       "      <td>0.0033174</td>\n",
       "      <td>0.00497491</td>\n",
       "      <td>0.00617672</td>\n",
       "      <td>0.005837</td>\n",
       "      <td>0.0059016</td>\n",
       "      <td>0.0043154</td>\n",
       "      <td>0.00683183</td>\n",
       "      <td>0.00523625</td>\n",
       "      <td>0.00420754</td>\n",
       "      <td>0.00769467</td>\n",
       "      <td>0.00709438</td>\n",
       "      <td>0.00641495</td>\n",
       "      <td>0.00614061</td>\n",
       "      <td>0.00525497</td>\n",
       "      <td>0.00586676</td>\n",
       "      <td>0.00562953</td>\n",
       "      <td>0.00926656</td>\n",
       "      <td>0.00464662</td>\n",
       "      <td>0.0078096</td>\n",
       "      <td>0.00409592</td>\n",
       "      <td>0.00476213</td>\n",
       "      <td>0.00529722</td>\n",
       "      <td>0.00687644</td>\n",
       "      <td>0.00580737</td>\n",
       "      <td>0.00450232</td>\n",
       "      <td>0.00737009</td>\n",
       "      <td>0.00479604</td>\n",
       "      <td>0.00454249</td>\n",
       "      <td>0.0069909</td>\n",
       "      <td>...</td>\n",
       "      <td>0.00472161</td>\n",
       "      <td>0.00584945</td>\n",
       "      <td>0.00406969</td>\n",
       "      <td>0.00637454</td>\n",
       "      <td>0.00619873</td>\n",
       "      <td>0.00515529</td>\n",
       "      <td>0.00807615</td>\n",
       "      <td>0.00455939</td>\n",
       "      <td>0.00584505</td>\n",
       "      <td>0.00724283</td>\n",
       "      <td>0.00649606</td>\n",
       "      <td>0.0046035</td>\n",
       "      <td>0.00440949</td>\n",
       "      <td>0.00834092</td>\n",
       "      <td>0.00630094</td>\n",
       "      <td>0.00433629</td>\n",
       "      <td>0.00617315</td>\n",
       "      <td>0.00588612</td>\n",
       "      <td>0.0078273</td>\n",
       "      <td>0.00402019</td>\n",
       "      <td>0.00570456</td>\n",
       "      <td>0.00395103</td>\n",
       "      <td>0.00518609</td>\n",
       "      <td>0.00796291</td>\n",
       "      <td>0.0048758</td>\n",
       "      <td>0.00699947</td>\n",
       "      <td>0.00493615</td>\n",
       "      <td>0.00430193</td>\n",
       "      <td>0.00630573</td>\n",
       "      <td>0.00716916</td>\n",
       "      <td>0.00631107</td>\n",
       "      <td>0.00516435</td>\n",
       "      <td>0.00715255</td>\n",
       "      <td>0.00445444</td>\n",
       "      <td>0.00409802</td>\n",
       "      <td>0.00597617</td>\n",
       "      <td>0.00683162</td>\n",
       "      <td>0.0074701</td>\n",
       "      <td>0.00448897</td>\n",
       "      <td>0.00661303</td>\n",
       "      <td>0.005147</td>\n",
       "      <td>0.0044347</td>\n",
       "      <td>0.00917621</td>\n",
       "      <td>0.00643188</td>\n",
       "      <td>0.00821504</td>\n",
       "      <td>0.00492399</td>\n",
       "      <td>0.00448629</td>\n",
       "      <td>0.00597521</td>\n",
       "      <td>0.00578671</td>\n",
       "      <td>0.00984333</td>\n",
       "    </tr>\n",
       "    <tr>\n",
       "      <th>R2</th>\n",
       "      <td>0.993211</td>\n",
       "      <td>0.994661</td>\n",
       "      <td>0.994656</td>\n",
       "      <td>0.993004</td>\n",
       "      <td>0.994532</td>\n",
       "      <td>0.992834</td>\n",
       "      <td>0.993173</td>\n",
       "      <td>0.994927</td>\n",
       "      <td>0.992969</td>\n",
       "      <td>0.995363</td>\n",
       "      <td>0.993934</td>\n",
       "      <td>0.993259</td>\n",
       "      <td>0.994074</td>\n",
       "      <td>0.993955</td>\n",
       "      <td>0.994685</td>\n",
       "      <td>0.994335</td>\n",
       "      <td>0.992931</td>\n",
       "      <td>0.993356</td>\n",
       "      <td>0.992954</td>\n",
       "      <td>0.992968</td>\n",
       "      <td>0.994238</td>\n",
       "      <td>0.994932</td>\n",
       "      <td>0.992891</td>\n",
       "      <td>0.995049</td>\n",
       "      <td>0.993157</td>\n",
       "      <td>0.993203</td>\n",
       "      <td>0.994512</td>\n",
       "      <td>0.993248</td>\n",
       "      <td>0.995088</td>\n",
       "      <td>0.994017</td>\n",
       "      <td>0.993329</td>\n",
       "      <td>0.99378</td>\n",
       "      <td>0.993738</td>\n",
       "      <td>0.994274</td>\n",
       "      <td>0.99426</td>\n",
       "      <td>0.993133</td>\n",
       "      <td>0.99335</td>\n",
       "      <td>0.993221</td>\n",
       "      <td>0.992798</td>\n",
       "      <td>0.9938</td>\n",
       "      <td>0.995038</td>\n",
       "      <td>0.992924</td>\n",
       "      <td>0.995328</td>\n",
       "      <td>0.993497</td>\n",
       "      <td>0.993202</td>\n",
       "      <td>0.994447</td>\n",
       "      <td>0.9935</td>\n",
       "      <td>0.995029</td>\n",
       "      <td>0.994206</td>\n",
       "      <td>0.993348</td>\n",
       "      <td>...</td>\n",
       "      <td>0.995187</td>\n",
       "      <td>0.992787</td>\n",
       "      <td>0.995412</td>\n",
       "      <td>0.993667</td>\n",
       "      <td>0.993192</td>\n",
       "      <td>0.9944</td>\n",
       "      <td>0.993644</td>\n",
       "      <td>0.995103</td>\n",
       "      <td>0.994206</td>\n",
       "      <td>0.993329</td>\n",
       "      <td>0.99362</td>\n",
       "      <td>0.993401</td>\n",
       "      <td>0.99346</td>\n",
       "      <td>0.994501</td>\n",
       "      <td>0.994217</td>\n",
       "      <td>0.993168</td>\n",
       "      <td>0.993869</td>\n",
       "      <td>0.992663</td>\n",
       "      <td>0.993225</td>\n",
       "      <td>0.995275</td>\n",
       "      <td>0.99283</td>\n",
       "      <td>0.995489</td>\n",
       "      <td>0.993858</td>\n",
       "      <td>0.993185</td>\n",
       "      <td>0.994281</td>\n",
       "      <td>0.993762</td>\n",
       "      <td>0.995017</td>\n",
       "      <td>0.994233</td>\n",
       "      <td>0.993224</td>\n",
       "      <td>0.993506</td>\n",
       "      <td>0.993218</td>\n",
       "      <td>0.993164</td>\n",
       "      <td>0.994623</td>\n",
       "      <td>0.994682</td>\n",
       "      <td>0.992977</td>\n",
       "      <td>0.994578</td>\n",
       "      <td>0.992855</td>\n",
       "      <td>0.993181</td>\n",
       "      <td>0.994865</td>\n",
       "      <td>0.992989</td>\n",
       "      <td>0.995322</td>\n",
       "      <td>0.993925</td>\n",
       "      <td>0.99326</td>\n",
       "      <td>0.994035</td>\n",
       "      <td>0.993924</td>\n",
       "      <td>0.994647</td>\n",
       "      <td>0.994324</td>\n",
       "      <td>0.992862</td>\n",
       "      <td>0.993343</td>\n",
       "      <td>0.992911</td>\n",
       "    </tr>\n",
       "    <tr>\n",
       "      <th>SMAPE</th>\n",
       "      <td>6.96941</td>\n",
       "      <td>6.98678</td>\n",
       "      <td>4.56408</td>\n",
       "      <td>5.15677</td>\n",
       "      <td>5.1596</td>\n",
       "      <td>7.43163</td>\n",
       "      <td>6.59908</td>\n",
       "      <td>4.52588</td>\n",
       "      <td>5.15721</td>\n",
       "      <td>5.61534</td>\n",
       "      <td>7.48896</td>\n",
       "      <td>6.20014</td>\n",
       "      <td>5.13691</td>\n",
       "      <td>5.04002</td>\n",
       "      <td>6.46064</td>\n",
       "      <td>7.15737</td>\n",
       "      <td>5.45306</td>\n",
       "      <td>5.0701</td>\n",
       "      <td>5.2441</td>\n",
       "      <td>7.01353</td>\n",
       "      <td>6.93738</td>\n",
       "      <td>4.38408</td>\n",
       "      <td>5.25232</td>\n",
       "      <td>5.29742</td>\n",
       "      <td>7.55249</td>\n",
       "      <td>6.49362</td>\n",
       "      <td>4.70378</td>\n",
       "      <td>5.06455</td>\n",
       "      <td>5.78877</td>\n",
       "      <td>7.39728</td>\n",
       "      <td>6.08036</td>\n",
       "      <td>5.19834</td>\n",
       "      <td>5.03326</td>\n",
       "      <td>6.63386</td>\n",
       "      <td>7.14718</td>\n",
       "      <td>5.25476</td>\n",
       "      <td>5.09869</td>\n",
       "      <td>5.26259</td>\n",
       "      <td>7.17608</td>\n",
       "      <td>6.85596</td>\n",
       "      <td>4.31277</td>\n",
       "      <td>5.23616</td>\n",
       "      <td>5.37848</td>\n",
       "      <td>7.59369</td>\n",
       "      <td>6.41734</td>\n",
       "      <td>4.85449</td>\n",
       "      <td>5.06167</td>\n",
       "      <td>5.91263</td>\n",
       "      <td>7.33778</td>\n",
       "      <td>5.97011</td>\n",
       "      <td>...</td>\n",
       "      <td>4.35037</td>\n",
       "      <td>5.24614</td>\n",
       "      <td>5.4316</td>\n",
       "      <td>7.61625</td>\n",
       "      <td>6.42192</td>\n",
       "      <td>4.96686</td>\n",
       "      <td>5.11279</td>\n",
       "      <td>6.03594</td>\n",
       "      <td>7.32121</td>\n",
       "      <td>5.90064</td>\n",
       "      <td>5.18088</td>\n",
       "      <td>5.04502</td>\n",
       "      <td>6.9144</td>\n",
       "      <td>7.13622</td>\n",
       "      <td>4.84249</td>\n",
       "      <td>5.21395</td>\n",
       "      <td>5.20428</td>\n",
       "      <td>7.34985</td>\n",
       "      <td>6.76598</td>\n",
       "      <td>4.43095</td>\n",
       "      <td>5.26252</td>\n",
       "      <td>5.50185</td>\n",
       "      <td>7.60996</td>\n",
       "      <td>6.35254</td>\n",
       "      <td>5.11879</td>\n",
       "      <td>5.13653</td>\n",
       "      <td>6.27163</td>\n",
       "      <td>7.26858</td>\n",
       "      <td>5.71574</td>\n",
       "      <td>5.12772</td>\n",
       "      <td>5.15514</td>\n",
       "      <td>7.01679</td>\n",
       "      <td>7.02888</td>\n",
       "      <td>4.60174</td>\n",
       "      <td>5.23117</td>\n",
       "      <td>5.22593</td>\n",
       "      <td>7.48011</td>\n",
       "      <td>6.6438</td>\n",
       "      <td>4.59684</td>\n",
       "      <td>5.2159</td>\n",
       "      <td>5.68057</td>\n",
       "      <td>7.52033</td>\n",
       "      <td>6.23556</td>\n",
       "      <td>5.19606</td>\n",
       "      <td>5.09821</td>\n",
       "      <td>6.51132</td>\n",
       "      <td>7.19623</td>\n",
       "      <td>5.48599</td>\n",
       "      <td>5.12944</td>\n",
       "      <td>5.30978</td>\n",
       "    </tr>\n",
       "    <tr>\n",
       "      <th>RRMSE</th>\n",
       "      <td>0.0194671</td>\n",
       "      <td>0.0174122</td>\n",
       "      <td>0.0174706</td>\n",
       "      <td>0.0199481</td>\n",
       "      <td>0.0176829</td>\n",
       "      <td>0.0200235</td>\n",
       "      <td>0.0197429</td>\n",
       "      <td>0.0169899</td>\n",
       "      <td>0.0200187</td>\n",
       "      <td>0.0161677</td>\n",
       "      <td>0.0184563</td>\n",
       "      <td>0.0196532</td>\n",
       "      <td>0.0183534</td>\n",
       "      <td>0.0185769</td>\n",
       "      <td>0.0172219</td>\n",
       "      <td>0.0178942</td>\n",
       "      <td>0.0201211</td>\n",
       "      <td>0.0194337</td>\n",
       "      <td>0.0200859</td>\n",
       "      <td>0.0198175</td>\n",
       "      <td>0.0180999</td>\n",
       "      <td>0.0170043</td>\n",
       "      <td>0.0201129</td>\n",
       "      <td>0.0168076</td>\n",
       "      <td>0.0195712</td>\n",
       "      <td>0.0197103</td>\n",
       "      <td>0.0176669</td>\n",
       "      <td>0.0196217</td>\n",
       "      <td>0.016611</td>\n",
       "      <td>0.018342</td>\n",
       "      <td>0.019553</td>\n",
       "      <td>0.0188026</td>\n",
       "      <td>0.0189116</td>\n",
       "      <td>0.0178719</td>\n",
       "      <td>0.0180241</td>\n",
       "      <td>0.019824</td>\n",
       "      <td>0.019443</td>\n",
       "      <td>0.0197061</td>\n",
       "      <td>0.0200606</td>\n",
       "      <td>0.0187873</td>\n",
       "      <td>0.016817</td>\n",
       "      <td>0.0200696</td>\n",
       "      <td>0.0163015</td>\n",
       "      <td>0.019086</td>\n",
       "      <td>0.0197202</td>\n",
       "      <td>0.0177675</td>\n",
       "      <td>0.0192544</td>\n",
       "      <td>0.0166857</td>\n",
       "      <td>0.0180634</td>\n",
       "      <td>0.0195252</td>\n",
       "      <td>...</td>\n",
       "      <td>0.0165588</td>\n",
       "      <td>0.0202653</td>\n",
       "      <td>0.016138</td>\n",
       "      <td>0.0188378</td>\n",
       "      <td>0.0197389</td>\n",
       "      <td>0.0178421</td>\n",
       "      <td>0.0190402</td>\n",
       "      <td>0.0165503</td>\n",
       "      <td>0.0180697</td>\n",
       "      <td>0.0195522</td>\n",
       "      <td>0.0190411</td>\n",
       "      <td>0.0194234</td>\n",
       "      <td>0.0191022</td>\n",
       "      <td>0.0176605</td>\n",
       "      <td>0.0181795</td>\n",
       "      <td>0.0197087</td>\n",
       "      <td>0.0187346</td>\n",
       "      <td>0.020255</td>\n",
       "      <td>0.0196566</td>\n",
       "      <td>0.0163996</td>\n",
       "      <td>0.0202092</td>\n",
       "      <td>0.0159719</td>\n",
       "      <td>0.0185604</td>\n",
       "      <td>0.0197551</td>\n",
       "      <td>0.0180282</td>\n",
       "      <td>0.0188666</td>\n",
       "      <td>0.0166814</td>\n",
       "      <td>0.0180404</td>\n",
       "      <td>0.0197016</td>\n",
       "      <td>0.0192111</td>\n",
       "      <td>0.0196975</td>\n",
       "      <td>0.0195343</td>\n",
       "      <td>0.0174741</td>\n",
       "      <td>0.0174256</td>\n",
       "      <td>0.0199853</td>\n",
       "      <td>0.0176052</td>\n",
       "      <td>0.0199925</td>\n",
       "      <td>0.0197304</td>\n",
       "      <td>0.017092</td>\n",
       "      <td>0.0199884</td>\n",
       "      <td>0.0162343</td>\n",
       "      <td>0.0184695</td>\n",
       "      <td>0.0196505</td>\n",
       "      <td>0.0184114</td>\n",
       "      <td>0.0186223</td>\n",
       "      <td>0.0172813</td>\n",
       "      <td>0.017911</td>\n",
       "      <td>0.0202169</td>\n",
       "      <td>0.0194499</td>\n",
       "      <td>0.0201461</td>\n",
       "    </tr>\n",
       "  </tbody>\n",
       "</table>\n",
       "<p>6 rows × 180 columns</p>\n",
       "</div>"
      ],
      "text/plain": [
       "               0            1            2            3            4    \\\n",
       "MSE    0.000188959  0.000145489  0.000136522  0.000177163  0.000147723   \n",
       "MAE     0.00976236   0.00954155   0.00821809   0.00938158   0.00885497   \n",
       "MAD     0.00518585   0.00734677   0.00466578   0.00401892   0.00612458   \n",
       "R2        0.993211     0.994661     0.994656     0.993004     0.994532   \n",
       "SMAPE      6.96941      6.98678      4.56408      5.15677       5.1596   \n",
       "RRMSE    0.0194671    0.0174122    0.0174706    0.0199481    0.0176829   \n",
       "\n",
       "               5            6            7            8            9    \\\n",
       "MSE    0.000198973  0.000183766  0.000127874  0.000180044  0.000128544   \n",
       "MAE      0.0101989    0.0104668   0.00808104    0.0102543   0.00786822   \n",
       "MAD     0.00672153   0.00749356   0.00450143   0.00657039   0.00499182   \n",
       "R2        0.992834     0.993173     0.994927     0.992969     0.995363   \n",
       "SMAPE      7.43163      6.59908      4.52588      5.15721      5.61534   \n",
       "RRMSE    0.0200235    0.0197429    0.0169899    0.0200187    0.0161677   \n",
       "\n",
       "               10           11           12           13           14   \\\n",
       "MSE    0.000167801  0.000178429  0.000149144  0.000156012  0.000148116   \n",
       "MAE     0.00863191    0.0107572   0.00914896    0.0100378   0.00893229   \n",
       "MAD     0.00469375   0.00908699   0.00619092   0.00834137   0.00484238   \n",
       "R2        0.993934     0.993259     0.994074     0.993955     0.994685   \n",
       "SMAPE      7.48896      6.20014      5.13691      5.04002      6.46064   \n",
       "RRMSE    0.0184563    0.0196532    0.0183534    0.0185769    0.0172219   \n",
       "\n",
       "               15           16           17           18           19   \\\n",
       "MSE    0.000155567  0.000183384  0.000167595  0.000185087  0.000195604   \n",
       "MAE     0.00851488   0.00964407    0.0096589    0.0105352   0.00969549   \n",
       "MAD     0.00448758   0.00603603   0.00597195   0.00953494    0.0046464   \n",
       "R2        0.994335     0.992931     0.993356     0.992954     0.992968   \n",
       "SMAPE      7.15737      5.45306       5.0701       5.2441      7.01353   \n",
       "RRMSE    0.0178942    0.0201211    0.0194337    0.0200859    0.0198175   \n",
       "\n",
       "               20           21           22           23           24   \\\n",
       "MSE    0.000156619  0.000128947  0.000180414  0.000134818  0.000189866   \n",
       "MAE     0.00982735   0.00762623    0.0098568   0.00865398     0.010025   \n",
       "MAD     0.00788554    0.0033174   0.00497491   0.00617672     0.005837   \n",
       "R2        0.994238     0.994932     0.992891     0.995049     0.993157   \n",
       "SMAPE      6.93738      4.38408      5.25232      5.29742      7.55249   \n",
       "RRMSE    0.0180999    0.0170043    0.0201129    0.0168076    0.0195712   \n",
       "\n",
       "               25           26           27          28           29   \\\n",
       "MSE    0.000182351  0.000138158  0.000173297   0.0001365  0.000165288   \n",
       "MAE      0.0102806   0.00841855    0.0099018  0.00818486   0.00825894   \n",
       "MAD      0.0059016    0.0043154   0.00683183  0.00523625   0.00420754   \n",
       "R2        0.993203     0.994512     0.993248    0.995088     0.994017   \n",
       "SMAPE      6.49362      4.70378      5.06455     5.78877      7.39728   \n",
       "RRMSE    0.0197103    0.0176669    0.0196217    0.016611     0.018342   \n",
       "\n",
       "               30           31          32           33           34   \\\n",
       "MSE    0.000175794  0.000156614  0.00016193  0.000159545  0.000157275   \n",
       "MAE      0.0104949   0.00956011  0.00984274   0.00924084   0.00903869   \n",
       "MAD     0.00769467   0.00709438  0.00641495   0.00614061   0.00525497   \n",
       "R2        0.993329      0.99378    0.993738     0.994274      0.99426   \n",
       "SMAPE      6.08036      5.19834     5.03326      6.63386      7.14718   \n",
       "RRMSE     0.019553    0.0188026   0.0189116    0.0178719    0.0180241   \n",
       "\n",
       "              35           36          37           38           39   \\\n",
       "MSE     0.0001773  0.000167859  0.00017942  0.000200215  0.000168091   \n",
       "MAE    0.00945797   0.00934368   0.0102156    0.0103146   0.00994428   \n",
       "MAD    0.00586676   0.00562953  0.00926656   0.00464662    0.0078096   \n",
       "R2       0.993133      0.99335    0.993221     0.992798       0.9938   \n",
       "SMAPE     5.25476      5.09869     5.26259      7.17608      6.85596   \n",
       "RRMSE    0.019824     0.019443   0.0197061    0.0200606    0.0187873   \n",
       "\n",
       "               40           41           42           43           44   \\\n",
       "MSE    0.000125801  0.000180004  0.000128077  0.000180318  0.000181704   \n",
       "MAE     0.00759084   0.00989644   0.00818174   0.00966975    0.0103279   \n",
       "MAD     0.00409592   0.00476213   0.00529722   0.00687644   0.00580737   \n",
       "R2        0.995038     0.992924     0.995328     0.993497     0.993202   \n",
       "SMAPE      4.31277      5.23616      5.37848      7.59369      6.41734   \n",
       "RRMSE     0.016817    0.0200696    0.0163015     0.019086    0.0197202   \n",
       "\n",
       "              45           46           47           48           49   ...  \\\n",
       "MSE    0.00013969  0.000167123  0.000138339  0.000159826  0.000174498  ...   \n",
       "MAE     0.0083486    0.0100188   0.00805257   0.00836926    0.0104092  ...   \n",
       "MAD    0.00450232   0.00737009   0.00479604   0.00454249    0.0069909  ...   \n",
       "R2       0.994447       0.9935     0.995029     0.994206     0.993348  ...   \n",
       "SMAPE     4.85449      5.06167      5.91263      7.33778      5.97011  ...   \n",
       "RRMSE   0.0177675    0.0192544    0.0166857    0.0180634    0.0195252  ...   \n",
       "\n",
       "               130         131          132          133          134  \\\n",
       "MSE    0.000121823  0.00018375  0.000126157  0.000175504  0.000181591   \n",
       "MAE     0.00754906  0.00990256   0.00792843   0.00945911    0.0105856   \n",
       "MAD     0.00472161  0.00584945   0.00406969   0.00637454   0.00619873   \n",
       "R2        0.995187    0.992787     0.995412     0.993667     0.993192   \n",
       "SMAPE      4.35037     5.24614       5.4316      7.61625      6.42192   \n",
       "RRMSE    0.0165588   0.0202653     0.016138    0.0188378    0.0197389   \n",
       "\n",
       "               135          136          137          138          139  \\\n",
       "MSE    0.000140864  0.000163537  0.000136344  0.000159662  0.000174562   \n",
       "MAE     0.00847222    0.0101619   0.00784691    0.0084963    0.0101918   \n",
       "MAD     0.00515529   0.00807615   0.00455939   0.00584505   0.00724283   \n",
       "R2          0.9944     0.993644     0.995103     0.994206     0.993329   \n",
       "SMAPE      4.96686      5.11279      6.03594      7.32121      5.90064   \n",
       "RRMSE    0.0178421    0.0190402    0.0165503    0.0180697    0.0195522   \n",
       "\n",
       "              140          141          142          143          144  \\\n",
       "MSE    0.00016074  0.000171491  0.000182106  0.000150159  0.000148266   \n",
       "MAE    0.00981615   0.00981918   0.00966039   0.00958842   0.00864945   \n",
       "MAD    0.00649606    0.0046035   0.00440949   0.00834092   0.00630094   \n",
       "R2        0.99362     0.993401      0.99346     0.994501     0.994217   \n",
       "SMAPE     5.18088      5.04502       6.9144      7.13622      4.84249   \n",
       "RRMSE   0.0190411    0.0194234    0.0191022    0.0176605    0.0181795   \n",
       "\n",
       "               145          146          147          148         149  \\\n",
       "MSE    0.000172724  0.000164363  0.000203792  0.000182864  0.00011928   \n",
       "MAE     0.00945074   0.00939547    0.0103173    0.0104727   0.0075154   \n",
       "MAD     0.00433629   0.00617315   0.00588612    0.0078273  0.00402019   \n",
       "R2        0.993168     0.993869     0.992663     0.993225    0.995275   \n",
       "SMAPE      5.21395      5.20428      7.34985      6.76598     4.43095   \n",
       "RRMSE    0.0197087    0.0187346     0.020255    0.0196566   0.0163996   \n",
       "\n",
       "               150          151         152          153          154  \\\n",
       "MSE    0.000183135  0.000124625  0.00017005  0.000181047  0.000143849   \n",
       "MAE      0.0103213   0.00775233  0.00917188    0.0109106   0.00891375   \n",
       "MAD     0.00570456   0.00395103  0.00518609   0.00796291    0.0048758   \n",
       "R2         0.99283     0.995489    0.993858     0.993185     0.994281   \n",
       "SMAPE      5.26252      5.50185     7.60996      6.35254      5.11879   \n",
       "RRMSE    0.0202092    0.0159719   0.0185604    0.0197551    0.0180282   \n",
       "\n",
       "               155          156          157          158          159  \\\n",
       "MSE    0.000160749  0.000138824  0.000158617  0.000176481  0.000163702   \n",
       "MAE      0.0103679   0.00813915   0.00864354    0.0100291   0.00958992   \n",
       "MAD     0.00699947   0.00493615   0.00430193   0.00630573   0.00716916   \n",
       "R2        0.993762     0.995017     0.994233     0.993224     0.993506   \n",
       "SMAPE      5.13653      6.27163      7.26858      5.71574      5.12772   \n",
       "RRMSE    0.0188666    0.0166814    0.0180404    0.0197016    0.0192111   \n",
       "\n",
       "               160          161          162          163          164  \\\n",
       "MSE    0.000177095  0.000190248  0.000146473  0.000135778  0.000177849   \n",
       "MAE      0.0101981   0.00978123   0.00957797   0.00818497    0.0094219   \n",
       "MAD     0.00631107   0.00516435   0.00715255   0.00445444   0.00409802   \n",
       "R2        0.993218     0.993164     0.994623     0.994682     0.992977   \n",
       "SMAPE      5.15514      7.01679      7.02888      4.60174      5.23117   \n",
       "RRMSE    0.0196975    0.0195343    0.0174741    0.0174256    0.0199853   \n",
       "\n",
       "               165         166         167          168          169  \\\n",
       "MSE    0.000146566  0.00019834  0.00018346  0.000129403  0.000179531   \n",
       "MAE     0.00887272    0.010181   0.0104756   0.00816188    0.0102267   \n",
       "MAD     0.00597617  0.00683162   0.0074701   0.00448897   0.00661303   \n",
       "R2        0.994578    0.992855    0.993181     0.994865     0.992989   \n",
       "SMAPE      5.22593     7.48011      6.6438      4.59684       5.2159   \n",
       "RRMSE    0.0176052   0.0199925   0.0197304     0.017092    0.0199884   \n",
       "\n",
       "               170          171          172          173          174  \\\n",
       "MSE    0.000129684  0.000168004  0.000178306  0.000150093  0.000156795   \n",
       "MAE     0.00794004   0.00861443    0.0107245   0.00918448    0.0100222   \n",
       "MAD       0.005147    0.0044347   0.00917621   0.00643188   0.00821504   \n",
       "R2        0.995322     0.993925      0.99326     0.994035     0.993924   \n",
       "SMAPE      5.68057      7.52033      6.23556      5.19606      5.09821   \n",
       "RRMSE    0.0162343    0.0184695    0.0196505    0.0184114    0.0186223   \n",
       "\n",
       "               175          176          177         178          179  \n",
       "MSE    0.000149148  0.000155813  0.000185069  0.00016788  0.000186298  \n",
       "MAE     0.00897817   0.00854884   0.00964278  0.00963748    0.0105693  \n",
       "MAD     0.00492399   0.00448629   0.00597521  0.00578671   0.00984333  \n",
       "R2        0.994647     0.994324     0.992862    0.993343     0.992911  \n",
       "SMAPE      6.51132      7.19623      5.48599     5.12944      5.30978  \n",
       "RRMSE    0.0172813     0.017911    0.0202169   0.0194499    0.0201461  \n",
       "\n",
       "[6 rows x 180 columns]"
      ]
     },
     "execution_count": 41,
     "metadata": {},
     "output_type": "execute_result"
    }
   ],
   "source": [
    "print('Performance measures on Test data, per sec')\n",
    "lag = 0\n",
    "num_sec = Ytest_hat_fl[0].shape[0]\n",
    "results_table = pd.DataFrame(index=['MSE','MAE','MAD','R2','SMAPE','RRMSE'],columns=range(num_sec))\n",
    "for i in range(num_sec):\n",
    "    results_table.iloc[0,i] = mean_squared_error( Ytest_fl[lag][i,:], Ytest_hat_fl[lag][i,:])\n",
    "    results_table.iloc[1,i] = mean_absolute_error(   Ytest_fl[lag][i,:], Ytest_hat_fl[lag][i,:])\n",
    "    results_table.iloc[2,i] = median_absolute_error(  Ytest_fl[lag][i,:], Ytest_hat_fl[lag][i,:])\n",
    "    results_table.iloc[3,i] = r2_score(  Ytest_fl[lag][i,:], Ytest_hat_fl[lag][i,:])\n",
    "    results_table.iloc[4,i] = smape(  Ytest_fl[lag][i,:], Ytest_hat_fl[lag][i,:])\n",
    "    results_table.iloc[5,i] = RRMSE( np.reshape(Ytest_fl[lag][i,:],(-1,1)), np.reshape(Ytest_hat_fl[lag][i,:],(-1,1)))\n",
    "results_table"
   ]
  },
  {
   "cell_type": "code",
   "execution_count": 42,
   "metadata": {
    "colab": {
     "base_uri": "https://localhost:8080/",
     "height": 241
    },
    "colab_type": "code",
    "executionInfo": {
     "elapsed": 45599,
     "status": "ok",
     "timestamp": 1584717160514,
     "user": {
      "displayName": "Manuel López Martín",
      "photoUrl": "https://lh3.googleusercontent.com/a-/AOh14Gjkbx9ZcgNrx28G-E9vmuDH73kYDfRwYT7t4SrOSQytLxtAwwl3I1K9yrMCXDmpZDNRYJMtwAh1zUlDFBeKxUr27pGfkbEuB8jW7lZ493uXzPvtAaC789hDEYxeLTuYOFvHe-CvV2lEUxJ-VQLYi-j3sjekrCtwd-fTarbdYre3bTLHf9qgyLR3sZDRdiYD5IIGnePAsdQ9BIuGb6m4UTckK_xLzJgUTGemEM4_uRpl_eTir9imsyDARB5cNolutC5oZ0iMtKKJbCSYpV3aOTZ28OfpEdOfCEXKGAfl8VA5Pi5V-p60C5ZwEu856OwlJv7ZoHH2ZhQKmEYkYHTn7EyTdCrJ5Wg7VE_RH5I7zuIbBOsOgXRaR38zr9XRYFuL_zj2DYkQ4u95CqyClNNV6uRBFCj9FPpbqwjUT_2weo_47cJP73uX3TByD16ShG8kOrPjIxMg8KatQnF6UjA4iySodg_LXbsWXBNja5pnBt4EEep476uXgMytX0nLvN-7i4DeJINnM2Td0y7F5Bf9sVkAC5mRULjppb8fao84LSFAxoHLIXl4BvMY6tKT6ywy54zbmr99YPuUqXt2GZ0TsSBOPXlYUXz_jAsloMrqeSgxGDnsm1tBrvbECnnBELENi9r9PUE6lTJ5Fn3pXDYIJ2RJcGT9sebJo-QjsOlAl8nIbydH8wH_EqPmWIncWhFSfpv0mue8KLsNEE5QV6d5zV4CNioVdf34uezwiG4zeLzlJ0VZmf5ByQXWD1FoiZKC7vOBZw=s64",
      "userId": "11336038813033628796"
     },
     "user_tz": -60
    },
    "id": "RTkCzAn87j-n",
    "outputId": "54fc6aff-0f20-4612-dcc7-c47e3f3a193e"
   },
   "outputs": [
    {
     "name": "stdout",
     "output_type": "stream",
     "text": [
      "Performance measures on Test data, for all time, per time-ahead lag\n"
     ]
    },
    {
     "data": {
      "text/html": [
       "<div>\n",
       "<style scoped>\n",
       "    .dataframe tbody tr th:only-of-type {\n",
       "        vertical-align: middle;\n",
       "    }\n",
       "\n",
       "    .dataframe tbody tr th {\n",
       "        vertical-align: top;\n",
       "    }\n",
       "\n",
       "    .dataframe thead th {\n",
       "        text-align: right;\n",
       "    }\n",
       "</style>\n",
       "<table border=\"1\" class=\"dataframe\">\n",
       "  <thead>\n",
       "    <tr style=\"text-align: right;\">\n",
       "      <th></th>\n",
       "      <th>0</th>\n",
       "      <th>1</th>\n",
       "      <th>2</th>\n",
       "      <th>3</th>\n",
       "      <th>4</th>\n",
       "      <th>5</th>\n",
       "      <th>mean</th>\n",
       "    </tr>\n",
       "  </thead>\n",
       "  <tbody>\n",
       "    <tr>\n",
       "      <th>MSE</th>\n",
       "      <td>0.000163411</td>\n",
       "      <td>0.000166252</td>\n",
       "      <td>0.000154061</td>\n",
       "      <td>0.000161721</td>\n",
       "      <td>0.000160573</td>\n",
       "      <td>0.000163027</td>\n",
       "      <td>0.000162</td>\n",
       "    </tr>\n",
       "    <tr>\n",
       "      <th>MAE</th>\n",
       "      <td>0.00938503</td>\n",
       "      <td>0.00948159</td>\n",
       "      <td>0.00920709</td>\n",
       "      <td>0.00943223</td>\n",
       "      <td>0.009281</td>\n",
       "      <td>0.00948576</td>\n",
       "      <td>0.009379</td>\n",
       "    </tr>\n",
       "    <tr>\n",
       "      <th>MAD</th>\n",
       "      <td>0.00574071</td>\n",
       "      <td>0.00603978</td>\n",
       "      <td>0.00597593</td>\n",
       "      <td>0.00624541</td>\n",
       "      <td>0.00614962</td>\n",
       "      <td>0.00619386</td>\n",
       "      <td>0.006058</td>\n",
       "    </tr>\n",
       "    <tr>\n",
       "      <th>R2</th>\n",
       "      <td>0.99389</td>\n",
       "      <td>0.993783</td>\n",
       "      <td>0.994239</td>\n",
       "      <td>0.993953</td>\n",
       "      <td>0.993996</td>\n",
       "      <td>0.993904</td>\n",
       "      <td>0.993961</td>\n",
       "    </tr>\n",
       "    <tr>\n",
       "      <th>SMAPE</th>\n",
       "      <td>5.89407</td>\n",
       "      <td>6.20018</td>\n",
       "      <td>4.8466</td>\n",
       "      <td>4.95473</td>\n",
       "      <td>6.05862</td>\n",
       "      <td>6.6397</td>\n",
       "      <td>5.765649</td>\n",
       "    </tr>\n",
       "    <tr>\n",
       "      <th>RRMSE</th>\n",
       "      <td>0.0186937</td>\n",
       "      <td>0.0188555</td>\n",
       "      <td>0.0181512</td>\n",
       "      <td>0.0185972</td>\n",
       "      <td>0.018531</td>\n",
       "      <td>0.0186715</td>\n",
       "      <td>0.018583</td>\n",
       "    </tr>\n",
       "  </tbody>\n",
       "</table>\n",
       "</div>"
      ],
      "text/plain": [
       "                 0            1            2            3            4  \\\n",
       "MSE    0.000163411  0.000166252  0.000154061  0.000161721  0.000160573   \n",
       "MAE     0.00938503   0.00948159   0.00920709   0.00943223     0.009281   \n",
       "MAD     0.00574071   0.00603978   0.00597593   0.00624541   0.00614962   \n",
       "R2         0.99389     0.993783     0.994239     0.993953     0.993996   \n",
       "SMAPE      5.89407      6.20018       4.8466      4.95473      6.05862   \n",
       "RRMSE    0.0186937    0.0188555    0.0181512    0.0185972     0.018531   \n",
       "\n",
       "                 5      mean  \n",
       "MSE    0.000163027  0.000162  \n",
       "MAE     0.00948576  0.009379  \n",
       "MAD     0.00619386  0.006058  \n",
       "R2        0.993904  0.993961  \n",
       "SMAPE       6.6397  5.765649  \n",
       "RRMSE    0.0186715  0.018583  "
      ]
     },
     "execution_count": 42,
     "metadata": {},
     "output_type": "execute_result"
    }
   ],
   "source": [
    "print('Performance measures on Test data, for all time, per time-ahead lag')\n",
    "\n",
    "results_table_global = pd.DataFrame(index=['MSE','MAE','MAD','R2','SMAPE','RRMSE'],columns=range(p))\n",
    "for i in range(p):\n",
    "    results_table_global.iloc[0,i] = mean_squared_error(Ytest_fl[i].flatten(), Ytest_hat_fl[i].flatten())\n",
    "    results_table_global.iloc[1,i] = mean_absolute_error(Ytest_fl[i].flatten(), Ytest_hat_fl[i].flatten())\n",
    "    results_table_global.iloc[2,i] = median_absolute_error(Ytest_fl[i].flatten(), Ytest_hat_fl[i].flatten())\n",
    "    results_table_global.iloc[3,i] = r2_score(Ytest_fl[i].flatten(), Ytest_hat_fl[i].flatten())\n",
    "    results_table_global.iloc[4,i] = smape(Ytest_fl[i].flatten(), Ytest_hat_fl[i].flatten())\n",
    "    results_table_global.iloc[5,i] = RRMSE( np.reshape(Ytest_fl[i].flatten(),(-1,1)), np.reshape(Ytest_hat_fl[i].flatten(),(-1,1)))\n",
    "\n",
    "results_table_global['mean'] = results_table_global.mean(axis=1)\n",
    "results_table_global"
   ]
  },
  {
   "cell_type": "code",
   "execution_count": 43,
   "metadata": {
    "colab": {
     "base_uri": "https://localhost:8080/",
     "height": 304
    },
    "colab_type": "code",
    "executionInfo": {
     "elapsed": 46119,
     "status": "ok",
     "timestamp": 1584717161078,
     "user": {
      "displayName": "Manuel López Martín",
      "photoUrl": "https://lh3.googleusercontent.com/a-/AOh14Gjkbx9ZcgNrx28G-E9vmuDH73kYDfRwYT7t4SrOSQytLxtAwwl3I1K9yrMCXDmpZDNRYJMtwAh1zUlDFBeKxUr27pGfkbEuB8jW7lZ493uXzPvtAaC789hDEYxeLTuYOFvHe-CvV2lEUxJ-VQLYi-j3sjekrCtwd-fTarbdYre3bTLHf9qgyLR3sZDRdiYD5IIGnePAsdQ9BIuGb6m4UTckK_xLzJgUTGemEM4_uRpl_eTir9imsyDARB5cNolutC5oZ0iMtKKJbCSYpV3aOTZ28OfpEdOfCEXKGAfl8VA5Pi5V-p60C5ZwEu856OwlJv7ZoHH2ZhQKmEYkYHTn7EyTdCrJ5Wg7VE_RH5I7zuIbBOsOgXRaR38zr9XRYFuL_zj2DYkQ4u95CqyClNNV6uRBFCj9FPpbqwjUT_2weo_47cJP73uX3TByD16ShG8kOrPjIxMg8KatQnF6UjA4iySodg_LXbsWXBNja5pnBt4EEep476uXgMytX0nLvN-7i4DeJINnM2Td0y7F5Bf9sVkAC5mRULjppb8fao84LSFAxoHLIXl4BvMY6tKT6ywy54zbmr99YPuUqXt2GZ0TsSBOPXlYUXz_jAsloMrqeSgxGDnsm1tBrvbECnnBELENi9r9PUE6lTJ5Fn3pXDYIJ2RJcGT9sebJo-QjsOlAl8nIbydH8wH_EqPmWIncWhFSfpv0mue8KLsNEE5QV6d5zV4CNioVdf34uezwiG4zeLzlJ0VZmf5ByQXWD1FoiZKC7vOBZw=s64",
      "userId": "11336038813033628796"
     },
     "user_tz": -60
    },
    "id": "RcpwVPnmc7xt",
    "outputId": "f30adc88-318b-4721-a6b1-e9f824d6105e"
   },
   "outputs": [
    {
     "data": {
      "image/png": "[encoded data removed]",
      "text/plain": [
       "<Figure size 432x288 with 1 Axes>"
      ]
     },
     "metadata": {
      "needs_background": "light"
     },
     "output_type": "display_data"
    }
   ],
   "source": [
    "plt.plot(range(num_sec),results_table.iloc[0,:], 'b') # green\n",
    "plt.title(\"MSE score vs. forecast time index\",fontsize=18)\n",
    "plt.xlabel(\"time\", fontsize=15)\n",
    "plt.ylabel(\"MSE\",fontsize=15);\n",
    "plt.show()"
   ]
  },
  {
   "cell_type": "code",
   "execution_count": 44,
   "metadata": {
    "colab": {
     "base_uri": "https://localhost:8080/",
     "height": 304
    },
    "colab_type": "code",
    "executionInfo": {
     "elapsed": 46403,
     "status": "ok",
     "timestamp": 1584717161380,
     "user": {
      "displayName": "Manuel López Martín",
      "photoUrl": "https://lh3.googleusercontent.com/a-/AOh14Gjkbx9ZcgNrx28G-E9vmuDH73kYDfRwYT7t4SrOSQytLxtAwwl3I1K9yrMCXDmpZDNRYJMtwAh1zUlDFBeKxUr27pGfkbEuB8jW7lZ493uXzPvtAaC789hDEYxeLTuYOFvHe-CvV2lEUxJ-VQLYi-j3sjekrCtwd-fTarbdYre3bTLHf9qgyLR3sZDRdiYD5IIGnePAsdQ9BIuGb6m4UTckK_xLzJgUTGemEM4_uRpl_eTir9imsyDARB5cNolutC5oZ0iMtKKJbCSYpV3aOTZ28OfpEdOfCEXKGAfl8VA5Pi5V-p60C5ZwEu856OwlJv7ZoHH2ZhQKmEYkYHTn7EyTdCrJ5Wg7VE_RH5I7zuIbBOsOgXRaR38zr9XRYFuL_zj2DYkQ4u95CqyClNNV6uRBFCj9FPpbqwjUT_2weo_47cJP73uX3TByD16ShG8kOrPjIxMg8KatQnF6UjA4iySodg_LXbsWXBNja5pnBt4EEep476uXgMytX0nLvN-7i4DeJINnM2Td0y7F5Bf9sVkAC5mRULjppb8fao84LSFAxoHLIXl4BvMY6tKT6ywy54zbmr99YPuUqXt2GZ0TsSBOPXlYUXz_jAsloMrqeSgxGDnsm1tBrvbECnnBELENi9r9PUE6lTJ5Fn3pXDYIJ2RJcGT9sebJo-QjsOlAl8nIbydH8wH_EqPmWIncWhFSfpv0mue8KLsNEE5QV6d5zV4CNioVdf34uezwiG4zeLzlJ0VZmf5ByQXWD1FoiZKC7vOBZw=s64",
      "userId": "11336038813033628796"
     },
     "user_tz": -60
    },
    "id": "SugBxsEJ3Qam",
    "outputId": "0c102ce7-05e3-4b77-d544-ff65040df801"
   },
   "outputs": [
    {
     "data": {
      "image/png": "[encoded data removed]",
      "text/plain": [
       "<Figure size 432x288 with 1 Axes>"
      ]
     },
     "metadata": {
      "needs_background": "light"
     },
     "output_type": "display_data"
    }
   ],
   "source": [
    "plt.plot(range(num_sec),results_table.iloc[1,:], 'b') # green\n",
    "plt.title(\"MAE score vs. forecast time index\",fontsize=18)\n",
    "plt.xlabel(\"time\", fontsize=15)\n",
    "plt.ylabel(\"MAE\",fontsize=15);\n",
    "plt.show()"
   ]
  },
  {
   "cell_type": "code",
   "execution_count": 45,
   "metadata": {
    "colab": {
     "base_uri": "https://localhost:8080/",
     "height": 304
    },
    "colab_type": "code",
    "executionInfo": {
     "elapsed": 46806,
     "status": "ok",
     "timestamp": 1584717161795,
     "user": {
      "displayName": "Manuel López Martín",
      "photoUrl": "https://lh3.googleusercontent.com/a-/AOh14Gjkbx9ZcgNrx28G-E9vmuDH73kYDfRwYT7t4SrOSQytLxtAwwl3I1K9yrMCXDmpZDNRYJMtwAh1zUlDFBeKxUr27pGfkbEuB8jW7lZ493uXzPvtAaC789hDEYxeLTuYOFvHe-CvV2lEUxJ-VQLYi-j3sjekrCtwd-fTarbdYre3bTLHf9qgyLR3sZDRdiYD5IIGnePAsdQ9BIuGb6m4UTckK_xLzJgUTGemEM4_uRpl_eTir9imsyDARB5cNolutC5oZ0iMtKKJbCSYpV3aOTZ28OfpEdOfCEXKGAfl8VA5Pi5V-p60C5ZwEu856OwlJv7ZoHH2ZhQKmEYkYHTn7EyTdCrJ5Wg7VE_RH5I7zuIbBOsOgXRaR38zr9XRYFuL_zj2DYkQ4u95CqyClNNV6uRBFCj9FPpbqwjUT_2weo_47cJP73uX3TByD16ShG8kOrPjIxMg8KatQnF6UjA4iySodg_LXbsWXBNja5pnBt4EEep476uXgMytX0nLvN-7i4DeJINnM2Td0y7F5Bf9sVkAC5mRULjppb8fao84LSFAxoHLIXl4BvMY6tKT6ywy54zbmr99YPuUqXt2GZ0TsSBOPXlYUXz_jAsloMrqeSgxGDnsm1tBrvbECnnBELENi9r9PUE6lTJ5Fn3pXDYIJ2RJcGT9sebJo-QjsOlAl8nIbydH8wH_EqPmWIncWhFSfpv0mue8KLsNEE5QV6d5zV4CNioVdf34uezwiG4zeLzlJ0VZmf5ByQXWD1FoiZKC7vOBZw=s64",
      "userId": "11336038813033628796"
     },
     "user_tz": -60
    },
    "id": "azIcUb-p3Q33",
    "outputId": "5548a6fe-9e46-4020-a397-af42f86334e0"
   },
   "outputs": [
    {
     "data": {
      "image/png": "[encoded data removed]",
      "text/plain": [
       "<Figure size 432x288 with 1 Axes>"
      ]
     },
     "metadata": {
      "needs_background": "light"
     },
     "output_type": "display_data"
    }
   ],
   "source": [
    "plt.plot(range(num_sec),results_table.iloc[2,:], 'b') # green\n",
    "plt.title(\"MAD score vs. forecast time index\",fontsize=18)\n",
    "plt.xlabel(\"time\", fontsize=15)\n",
    "plt.ylabel(\"MAD\",fontsize=15);\n",
    "plt.show()"
   ]
  },
  {
   "cell_type": "code",
   "execution_count": 46,
   "metadata": {
    "colab": {
     "base_uri": "https://localhost:8080/",
     "height": 304
    },
    "colab_type": "code",
    "executionInfo": {
     "elapsed": 46798,
     "status": "ok",
     "timestamp": 1584717161797,
     "user": {
      "displayName": "Manuel López Martín",
      "photoUrl": "https://lh3.googleusercontent.com/a-/AOh14Gjkbx9ZcgNrx28G-E9vmuDH73kYDfRwYT7t4SrOSQytLxtAwwl3I1K9yrMCXDmpZDNRYJMtwAh1zUlDFBeKxUr27pGfkbEuB8jW7lZ493uXzPvtAaC789hDEYxeLTuYOFvHe-CvV2lEUxJ-VQLYi-j3sjekrCtwd-fTarbdYre3bTLHf9qgyLR3sZDRdiYD5IIGnePAsdQ9BIuGb6m4UTckK_xLzJgUTGemEM4_uRpl_eTir9imsyDARB5cNolutC5oZ0iMtKKJbCSYpV3aOTZ28OfpEdOfCEXKGAfl8VA5Pi5V-p60C5ZwEu856OwlJv7ZoHH2ZhQKmEYkYHTn7EyTdCrJ5Wg7VE_RH5I7zuIbBOsOgXRaR38zr9XRYFuL_zj2DYkQ4u95CqyClNNV6uRBFCj9FPpbqwjUT_2weo_47cJP73uX3TByD16ShG8kOrPjIxMg8KatQnF6UjA4iySodg_LXbsWXBNja5pnBt4EEep476uXgMytX0nLvN-7i4DeJINnM2Td0y7F5Bf9sVkAC5mRULjppb8fao84LSFAxoHLIXl4BvMY6tKT6ywy54zbmr99YPuUqXt2GZ0TsSBOPXlYUXz_jAsloMrqeSgxGDnsm1tBrvbECnnBELENi9r9PUE6lTJ5Fn3pXDYIJ2RJcGT9sebJo-QjsOlAl8nIbydH8wH_EqPmWIncWhFSfpv0mue8KLsNEE5QV6d5zV4CNioVdf34uezwiG4zeLzlJ0VZmf5ByQXWD1FoiZKC7vOBZw=s64",
      "userId": "11336038813033628796"
     },
     "user_tz": -60
    },
    "id": "5bR90t8G3jmP",
    "outputId": "9e1ea0c0-a009-4372-e7f3-11b91666cb12"
   },
   "outputs": [
    {
     "data": {
      "image/png": "[encoded data removed]",
      "text/plain": [
       "<Figure size 432x288 with 1 Axes>"
      ]
     },
     "metadata": {
      "needs_background": "light"
     },
     "output_type": "display_data"
    }
   ],
   "source": [
    "plt.plot(range(num_sec),results_table.iloc[3,:], 'b') # green\n",
    "plt.title(\"R2 score vs. forecast time index\",fontsize=18)\n",
    "plt.xlabel(\"time\", fontsize=15)\n",
    "plt.ylabel(\"R2\",fontsize=15);\n",
    "plt.show()"
   ]
  },
  {
   "cell_type": "code",
   "execution_count": 47,
   "metadata": {
    "colab": {
     "base_uri": "https://localhost:8080/",
     "height": 304
    },
    "colab_type": "code",
    "executionInfo": {
     "elapsed": 47218,
     "status": "ok",
     "timestamp": 1584717162230,
     "user": {
      "displayName": "Manuel López Martín",
      "photoUrl": "https://lh3.googleusercontent.com/a-/AOh14Gjkbx9ZcgNrx28G-E9vmuDH73kYDfRwYT7t4SrOSQytLxtAwwl3I1K9yrMCXDmpZDNRYJMtwAh1zUlDFBeKxUr27pGfkbEuB8jW7lZ493uXzPvtAaC789hDEYxeLTuYOFvHe-CvV2lEUxJ-VQLYi-j3sjekrCtwd-fTarbdYre3bTLHf9qgyLR3sZDRdiYD5IIGnePAsdQ9BIuGb6m4UTckK_xLzJgUTGemEM4_uRpl_eTir9imsyDARB5cNolutC5oZ0iMtKKJbCSYpV3aOTZ28OfpEdOfCEXKGAfl8VA5Pi5V-p60C5ZwEu856OwlJv7ZoHH2ZhQKmEYkYHTn7EyTdCrJ5Wg7VE_RH5I7zuIbBOsOgXRaR38zr9XRYFuL_zj2DYkQ4u95CqyClNNV6uRBFCj9FPpbqwjUT_2weo_47cJP73uX3TByD16ShG8kOrPjIxMg8KatQnF6UjA4iySodg_LXbsWXBNja5pnBt4EEep476uXgMytX0nLvN-7i4DeJINnM2Td0y7F5Bf9sVkAC5mRULjppb8fao84LSFAxoHLIXl4BvMY6tKT6ywy54zbmr99YPuUqXt2GZ0TsSBOPXlYUXz_jAsloMrqeSgxGDnsm1tBrvbECnnBELENi9r9PUE6lTJ5Fn3pXDYIJ2RJcGT9sebJo-QjsOlAl8nIbydH8wH_EqPmWIncWhFSfpv0mue8KLsNEE5QV6d5zV4CNioVdf34uezwiG4zeLzlJ0VZmf5ByQXWD1FoiZKC7vOBZw=s64",
      "userId": "11336038813033628796"
     },
     "user_tz": -60
    },
    "id": "Gz0isKqw288H",
    "outputId": "3767a7e6-b1e3-4a39-a8a9-7731e056ae7b"
   },
   "outputs": [
    {
     "data": {
      "image/png": "[encoded data removed]",
      "text/plain": [
       "<Figure size 432x288 with 1 Axes>"
      ]
     },
     "metadata": {
      "needs_background": "light"
     },
     "output_type": "display_data"
    }
   ],
   "source": [
    "plt.plot(range(num_sec),results_table.iloc[4,:], 'b') # green\n",
    "plt.title(\"SMAPE score vs. forecast time index\",fontsize=18)\n",
    "plt.xlabel(\"time\", fontsize=15)\n",
    "plt.ylabel(\"SMAPE\",fontsize=15);\n",
    "plt.show()"
   ]
  },
  {
   "cell_type": "code",
   "execution_count": 48,
   "metadata": {
    "colab": {
     "base_uri": "https://localhost:8080/",
     "height": 304
    },
    "colab_type": "code",
    "executionInfo": {
     "elapsed": 47208,
     "status": "ok",
     "timestamp": 1584717162231,
     "user": {
      "displayName": "Manuel López Martín",
      "photoUrl": "https://lh3.googleusercontent.com/a-/AOh14Gjkbx9ZcgNrx28G-E9vmuDH73kYDfRwYT7t4SrOSQytLxtAwwl3I1K9yrMCXDmpZDNRYJMtwAh1zUlDFBeKxUr27pGfkbEuB8jW7lZ493uXzPvtAaC789hDEYxeLTuYOFvHe-CvV2lEUxJ-VQLYi-j3sjekrCtwd-fTarbdYre3bTLHf9qgyLR3sZDRdiYD5IIGnePAsdQ9BIuGb6m4UTckK_xLzJgUTGemEM4_uRpl_eTir9imsyDARB5cNolutC5oZ0iMtKKJbCSYpV3aOTZ28OfpEdOfCEXKGAfl8VA5Pi5V-p60C5ZwEu856OwlJv7ZoHH2ZhQKmEYkYHTn7EyTdCrJ5Wg7VE_RH5I7zuIbBOsOgXRaR38zr9XRYFuL_zj2DYkQ4u95CqyClNNV6uRBFCj9FPpbqwjUT_2weo_47cJP73uX3TByD16ShG8kOrPjIxMg8KatQnF6UjA4iySodg_LXbsWXBNja5pnBt4EEep476uXgMytX0nLvN-7i4DeJINnM2Td0y7F5Bf9sVkAC5mRULjppb8fao84LSFAxoHLIXl4BvMY6tKT6ywy54zbmr99YPuUqXt2GZ0TsSBOPXlYUXz_jAsloMrqeSgxGDnsm1tBrvbECnnBELENi9r9PUE6lTJ5Fn3pXDYIJ2RJcGT9sebJo-QjsOlAl8nIbydH8wH_EqPmWIncWhFSfpv0mue8KLsNEE5QV6d5zV4CNioVdf34uezwiG4zeLzlJ0VZmf5ByQXWD1FoiZKC7vOBZw=s64",
      "userId": "11336038813033628796"
     },
     "user_tz": -60
    },
    "id": "FDnqNI56YSSf",
    "outputId": "7b7ebf84-40d2-4d69-b7d0-fc98c1d6e755"
   },
   "outputs": [
    {
     "data": {
      "image/png": "[encoded data removed]",
      "text/plain": [
       "<Figure size 432x288 with 1 Axes>"
      ]
     },
     "metadata": {
      "needs_background": "light"
     },
     "output_type": "display_data"
    }
   ],
   "source": [
    "plt.plot(range(num_sec),results_table.iloc[5,:], 'b') # green\n",
    "plt.title(\"RRMSE score vs. forecast time index\",fontsize=18)\n",
    "plt.xlabel(\"time\", fontsize=15)\n",
    "plt.ylabel(\"RRMSE\",fontsize=15);\n",
    "plt.show()"
   ]
  },
  {
   "cell_type": "code",
   "execution_count": null,
   "metadata": {},
   "outputs": [],
   "source": []
  },
  {
   "cell_type": "markdown",
   "metadata": {},
   "source": [
    "## 4.4 Output values"
   ]
  },
  {
   "cell_type": "code",
   "execution_count": 50,
   "metadata": {},
   "outputs": [
    {
     "name": "stdout",
     "output_type": "stream",
     "text": [
      "36/36 [==============================] - 0s 2ms/step\n",
      "(180, 6, 20)\n",
      "(180, 6, 20)\n",
      "(180, 6)\n"
     ]
    }
   ],
   "source": [
    "Ytest_hat_fl = model.predict(test_generator, verbose=1) \n",
    "\n",
    "# Create the multidimensional arrays for the results and ground-truth values\n",
    "mat_pred = np.zeros((Ytest_fl[0].shape[0],p,Ytest_fl[0].shape[1]))\n",
    "mat_ground_truth = np.zeros((Ytest_fl[0].shape[0],p,Ytest_fl[0].shape[1]))\n",
    "mat_time_slice_index = np.zeros((Ytest_fl[0].shape[0],p),dtype=int)\n",
    "print(mat_pred.shape)\n",
    "print(mat_ground_truth.shape)\n",
    "print(mat_time_slice_index.shape)\n",
    "\n",
    "# Fill the output arrays\n",
    "for i in range(p):\n",
    "    for j in range(Ytest_fl[0].shape[0]):\n",
    "        mat_pred[j,i,:]=Ytest_hat_fl[i][j,:]\n",
    "        \n",
    "for i in range(p):\n",
    "    for j in range(Ytest_fl[0].shape[0]):\n",
    "        mat_ground_truth[j,i,:]=tensor.T[test_idxs[j]+k+i,:]\n",
    "\n",
    "for i in range(p):\n",
    "    for j in range(Ytest_fl[0].shape[0]):\n",
    "        mat_time_slice_index[j,i]=test_idxs[j]+k+i     \n",
    "  \n",
    "# Predicitions not scaled\n",
    "mat_pred = mat_pred * range_val + min_val\n"
   ]
  },
  {
   "cell_type": "code",
   "execution_count": 58,
   "metadata": {
    "scrolled": false
   },
   "outputs": [
    {
     "data": {
      "text/html": [
       "<div>\n",
       "<style scoped>\n",
       "    .dataframe tbody tr th:only-of-type {\n",
       "        vertical-align: middle;\n",
       "    }\n",
       "\n",
       "    .dataframe tbody tr th {\n",
       "        vertical-align: top;\n",
       "    }\n",
       "\n",
       "    .dataframe thead th {\n",
       "        text-align: right;\n",
       "    }\n",
       "</style>\n",
       "<table border=\"1\" class=\"dataframe\">\n",
       "  <thead>\n",
       "    <tr style=\"text-align: right;\">\n",
       "      <th></th>\n",
       "      <th>0</th>\n",
       "      <th>1</th>\n",
       "      <th>2</th>\n",
       "      <th>3</th>\n",
       "      <th>4</th>\n",
       "      <th>5</th>\n",
       "    </tr>\n",
       "  </thead>\n",
       "  <tbody>\n",
       "    <tr>\n",
       "      <th>0</th>\n",
       "      <td>-471.496986</td>\n",
       "      <td>-472.534036</td>\n",
       "      <td>-471.848552</td>\n",
       "      <td>-472.749320</td>\n",
       "      <td>-471.892269</td>\n",
       "      <td>-471.788204</td>\n",
       "    </tr>\n",
       "    <tr>\n",
       "      <th>1</th>\n",
       "      <td>-472.534036</td>\n",
       "      <td>-471.848552</td>\n",
       "      <td>-472.749320</td>\n",
       "      <td>-471.892269</td>\n",
       "      <td>-471.788204</td>\n",
       "      <td>-472.447265</td>\n",
       "    </tr>\n",
       "    <tr>\n",
       "      <th>2</th>\n",
       "      <td>-471.848552</td>\n",
       "      <td>-472.749320</td>\n",
       "      <td>-471.892269</td>\n",
       "      <td>-471.788204</td>\n",
       "      <td>-472.447265</td>\n",
       "      <td>-471.924983</td>\n",
       "    </tr>\n",
       "    <tr>\n",
       "      <th>3</th>\n",
       "      <td>-472.749320</td>\n",
       "      <td>-471.892269</td>\n",
       "      <td>-471.788204</td>\n",
       "      <td>-472.447265</td>\n",
       "      <td>-471.924983</td>\n",
       "      <td>-472.846218</td>\n",
       "    </tr>\n",
       "    <tr>\n",
       "      <th>4</th>\n",
       "      <td>-471.892269</td>\n",
       "      <td>-471.788204</td>\n",
       "      <td>-472.447265</td>\n",
       "      <td>-471.924983</td>\n",
       "      <td>-472.846218</td>\n",
       "      <td>-471.519833</td>\n",
       "    </tr>\n",
       "    <tr>\n",
       "      <th>...</th>\n",
       "      <td>...</td>\n",
       "      <td>...</td>\n",
       "      <td>...</td>\n",
       "      <td>...</td>\n",
       "      <td>...</td>\n",
       "      <td>...</td>\n",
       "    </tr>\n",
       "    <tr>\n",
       "      <th>175</th>\n",
       "      <td>-471.358914</td>\n",
       "      <td>-472.402244</td>\n",
       "      <td>-471.879936</td>\n",
       "      <td>-472.478993</td>\n",
       "      <td>-472.197641</td>\n",
       "      <td>-471.500800</td>\n",
       "    </tr>\n",
       "    <tr>\n",
       "      <th>176</th>\n",
       "      <td>-472.402244</td>\n",
       "      <td>-471.879936</td>\n",
       "      <td>-472.478993</td>\n",
       "      <td>-472.197641</td>\n",
       "      <td>-471.500800</td>\n",
       "      <td>-472.481238</td>\n",
       "    </tr>\n",
       "    <tr>\n",
       "      <th>177</th>\n",
       "      <td>-471.879936</td>\n",
       "      <td>-472.478993</td>\n",
       "      <td>-472.197641</td>\n",
       "      <td>-471.500800</td>\n",
       "      <td>-472.481238</td>\n",
       "      <td>-471.795742</td>\n",
       "    </tr>\n",
       "    <tr>\n",
       "      <th>178</th>\n",
       "      <td>-472.478993</td>\n",
       "      <td>-472.197641</td>\n",
       "      <td>-471.500800</td>\n",
       "      <td>-472.481238</td>\n",
       "      <td>-471.795742</td>\n",
       "      <td>-472.746209</td>\n",
       "    </tr>\n",
       "    <tr>\n",
       "      <th>179</th>\n",
       "      <td>-472.197641</td>\n",
       "      <td>-471.500800</td>\n",
       "      <td>-472.481238</td>\n",
       "      <td>-471.795742</td>\n",
       "      <td>-472.746209</td>\n",
       "      <td>-471.733611</td>\n",
       "    </tr>\n",
       "  </tbody>\n",
       "</table>\n",
       "<p>180 rows × 6 columns</p>\n",
       "</div>"
      ],
      "text/plain": [
       "              0           1           2           3           4           5\n",
       "0   -471.496986 -472.534036 -471.848552 -472.749320 -471.892269 -471.788204\n",
       "1   -472.534036 -471.848552 -472.749320 -471.892269 -471.788204 -472.447265\n",
       "2   -471.848552 -472.749320 -471.892269 -471.788204 -472.447265 -471.924983\n",
       "3   -472.749320 -471.892269 -471.788204 -472.447265 -471.924983 -472.846218\n",
       "4   -471.892269 -471.788204 -472.447265 -471.924983 -472.846218 -471.519833\n",
       "..          ...         ...         ...         ...         ...         ...\n",
       "175 -471.358914 -472.402244 -471.879936 -472.478993 -472.197641 -471.500800\n",
       "176 -472.402244 -471.879936 -472.478993 -472.197641 -471.500800 -472.481238\n",
       "177 -471.879936 -472.478993 -472.197641 -471.500800 -472.481238 -471.795742\n",
       "178 -472.478993 -472.197641 -471.500800 -472.481238 -471.795742 -472.746209\n",
       "179 -472.197641 -471.500800 -472.481238 -471.795742 -472.746209 -471.733611\n",
       "\n",
       "[180 rows x 6 columns]"
      ]
     },
     "execution_count": 58,
     "metadata": {},
     "output_type": "execute_result"
    }
   ],
   "source": [
    "pd.DataFrame(mat_ground_truth[:,:,0])"
   ]
  },
  {
   "cell_type": "code",
   "execution_count": 59,
   "metadata": {},
   "outputs": [
    {
     "data": {
      "text/html": [
       "<div>\n",
       "<style scoped>\n",
       "    .dataframe tbody tr th:only-of-type {\n",
       "        vertical-align: middle;\n",
       "    }\n",
       "\n",
       "    .dataframe tbody tr th {\n",
       "        vertical-align: top;\n",
       "    }\n",
       "\n",
       "    .dataframe thead th {\n",
       "        text-align: right;\n",
       "    }\n",
       "</style>\n",
       "<table border=\"1\" class=\"dataframe\">\n",
       "  <thead>\n",
       "    <tr style=\"text-align: right;\">\n",
       "      <th></th>\n",
       "      <th>0</th>\n",
       "      <th>1</th>\n",
       "      <th>2</th>\n",
       "      <th>3</th>\n",
       "      <th>4</th>\n",
       "      <th>5</th>\n",
       "    </tr>\n",
       "  </thead>\n",
       "  <tbody>\n",
       "    <tr>\n",
       "      <th>0</th>\n",
       "      <td>-474.675826</td>\n",
       "      <td>-474.927661</td>\n",
       "      <td>-473.912555</td>\n",
       "      <td>-474.627341</td>\n",
       "      <td>-475.022137</td>\n",
       "      <td>-475.640967</td>\n",
       "    </tr>\n",
       "    <tr>\n",
       "      <th>1</th>\n",
       "      <td>-474.962621</td>\n",
       "      <td>-473.599337</td>\n",
       "      <td>-472.880901</td>\n",
       "      <td>-473.947453</td>\n",
       "      <td>-475.593821</td>\n",
       "      <td>-474.223825</td>\n",
       "    </tr>\n",
       "    <tr>\n",
       "      <th>2</th>\n",
       "      <td>-473.857803</td>\n",
       "      <td>-474.153926</td>\n",
       "      <td>-474.773932</td>\n",
       "      <td>-474.003746</td>\n",
       "      <td>-475.162138</td>\n",
       "      <td>-472.806480</td>\n",
       "    </tr>\n",
       "    <tr>\n",
       "      <th>3</th>\n",
       "      <td>-474.453273</td>\n",
       "      <td>-474.952847</td>\n",
       "      <td>-474.622413</td>\n",
       "      <td>-474.073847</td>\n",
       "      <td>-472.472863</td>\n",
       "      <td>-474.820856</td>\n",
       "    </tr>\n",
       "    <tr>\n",
       "      <th>4</th>\n",
       "      <td>-474.159340</td>\n",
       "      <td>-474.956923</td>\n",
       "      <td>-473.877615</td>\n",
       "      <td>-474.023111</td>\n",
       "      <td>-473.257285</td>\n",
       "      <td>-475.595727</td>\n",
       "    </tr>\n",
       "    <tr>\n",
       "      <th>...</th>\n",
       "      <td>...</td>\n",
       "      <td>...</td>\n",
       "      <td>...</td>\n",
       "      <td>...</td>\n",
       "      <td>...</td>\n",
       "      <td>...</td>\n",
       "    </tr>\n",
       "    <tr>\n",
       "      <th>175</th>\n",
       "      <td>-474.494539</td>\n",
       "      <td>-474.839978</td>\n",
       "      <td>-473.943966</td>\n",
       "      <td>-474.560423</td>\n",
       "      <td>-474.366482</td>\n",
       "      <td>-475.663801</td>\n",
       "    </tr>\n",
       "    <tr>\n",
       "      <th>176</th>\n",
       "      <td>-475.025605</td>\n",
       "      <td>-474.123651</td>\n",
       "      <td>-472.930785</td>\n",
       "      <td>-474.029377</td>\n",
       "      <td>-475.614302</td>\n",
       "      <td>-474.793156</td>\n",
       "    </tr>\n",
       "    <tr>\n",
       "      <th>177</th>\n",
       "      <td>-474.192657</td>\n",
       "      <td>-474.018326</td>\n",
       "      <td>-474.511917</td>\n",
       "      <td>-473.736378</td>\n",
       "      <td>-475.351395</td>\n",
       "      <td>-472.918172</td>\n",
       "    </tr>\n",
       "    <tr>\n",
       "      <th>178</th>\n",
       "      <td>-474.319072</td>\n",
       "      <td>-474.785288</td>\n",
       "      <td>-474.770221</td>\n",
       "      <td>-474.291757</td>\n",
       "      <td>-472.716242</td>\n",
       "      <td>-474.492430</td>\n",
       "    </tr>\n",
       "    <tr>\n",
       "      <th>179</th>\n",
       "      <td>-474.242663</td>\n",
       "      <td>-475.099985</td>\n",
       "      <td>-473.940944</td>\n",
       "      <td>-473.854133</td>\n",
       "      <td>-473.073098</td>\n",
       "      <td>-475.502812</td>\n",
       "    </tr>\n",
       "  </tbody>\n",
       "</table>\n",
       "<p>180 rows × 6 columns</p>\n",
       "</div>"
      ],
      "text/plain": [
       "              0           1           2           3           4           5\n",
       "0   -474.675826 -474.927661 -473.912555 -474.627341 -475.022137 -475.640967\n",
       "1   -474.962621 -473.599337 -472.880901 -473.947453 -475.593821 -474.223825\n",
       "2   -473.857803 -474.153926 -474.773932 -474.003746 -475.162138 -472.806480\n",
       "3   -474.453273 -474.952847 -474.622413 -474.073847 -472.472863 -474.820856\n",
       "4   -474.159340 -474.956923 -473.877615 -474.023111 -473.257285 -475.595727\n",
       "..          ...         ...         ...         ...         ...         ...\n",
       "175 -474.494539 -474.839978 -473.943966 -474.560423 -474.366482 -475.663801\n",
       "176 -475.025605 -474.123651 -472.930785 -474.029377 -475.614302 -474.793156\n",
       "177 -474.192657 -474.018326 -474.511917 -473.736378 -475.351395 -472.918172\n",
       "178 -474.319072 -474.785288 -474.770221 -474.291757 -472.716242 -474.492430\n",
       "179 -474.242663 -475.099985 -473.940944 -473.854133 -473.073098 -475.502812\n",
       "\n",
       "[180 rows x 6 columns]"
      ]
     },
     "execution_count": 59,
     "metadata": {},
     "output_type": "execute_result"
    }
   ],
   "source": [
    "pd.DataFrame(mat_pred[:,:,0])"
   ]
  },
  {
   "cell_type": "markdown",
   "metadata": {},
   "source": [
    "### Codigo a meter por Rodrigo"
   ]
  },
  {
   "cell_type": "code",
   "execution_count": null,
   "metadata": {},
   "outputs": [],
   "source": []
  },
  {
   "cell_type": "code",
   "execution_count": null,
   "metadata": {},
   "outputs": [],
   "source": []
  },
  {
   "cell_type": "code",
   "execution_count": null,
   "metadata": {},
   "outputs": [],
   "source": []
  },
  {
   "cell_type": "code",
   "execution_count": null,
   "metadata": {},
   "outputs": [],
   "source": []
  },
  {
   "cell_type": "markdown",
   "metadata": {
    "colab_type": "text",
    "id": "mF2GcfGxc7wf"
   },
   "source": [
    "# 5 Model CNN 1D"
   ]
  },
  {
   "cell_type": "markdown",
   "metadata": {
    "colab_type": "text",
    "id": "BofHsjg5c7wk"
   },
   "source": [
    "## 5.1 Prepare model"
   ]
  },
  {
   "cell_type": "code",
   "execution_count": 64,
   "metadata": {
    "colab": {},
    "colab_type": "code",
    "id": "Cuffsg2-c7ws"
   },
   "outputs": [],
   "source": [
    "def create_model_cnn(in_shape,  out_dim, p = 3, shared_dim = 1000, act_fun= 'relu'):\n",
    "    x = Input(shape=in_shape)\n",
    "    \n",
    "    v = Convolution1D(30,3)(x)\n",
    "    v = Convolution1D(60,3)(v)\n",
    "    #v = Dense(p*100, activation= act_fun)(v) # it shares weights https://stackoverflow.com/questions/52089601/keras-dense-layers-input-is-not-flattened\n",
    "    v = Dense(100, activation= act_fun)(v)\n",
    "    #v = Reshape((p,100))(v)\n",
    "\n",
    "    tt = [1]*p\n",
    "    \n",
    "    r = TimeDistributed( Dense(shared_dim, activation=act_fun))(v)\n",
    "    s = tf.split(r, tt, 1)\n",
    "    for i in range(p):\n",
    "      s[i] = Flatten()(s[i])\n",
    "\n",
    "    o = []\n",
    "    for i in range(p):\n",
    "      o.append( Dense(out_dim, activation='sigmoid')(s[i]) )\n",
    "  \n",
    "    m = Model(inputs=x, outputs=o)\n",
    "    m.compile(loss='mse', optimizer='adam', metrics=['mse'])\n",
    "    return(m)"
   ]
  },
  {
   "cell_type": "code",
   "execution_count": 65,
   "metadata": {
    "colab": {
     "base_uri": "https://localhost:8080/",
     "height": 70
    },
    "colab_type": "code",
    "executionInfo": {
     "elapsed": 1666,
     "status": "ok",
     "timestamp": 1584716228922,
     "user": {
      "displayName": "Manuel López Martín",
      "photoUrl": "https://lh3.googleusercontent.com/a-/AOh14Gjkbx9ZcgNrx28G-E9vmuDH73kYDfRwYT7t4SrOSQytLxtAwwl3I1K9yrMCXDmpZDNRYJMtwAh1zUlDFBeKxUr27pGfkbEuB8jW7lZ493uXzPvtAaC789hDEYxeLTuYOFvHe-CvV2lEUxJ-VQLYi-j3sjekrCtwd-fTarbdYre3bTLHf9qgyLR3sZDRdiYD5IIGnePAsdQ9BIuGb6m4UTckK_xLzJgUTGemEM4_uRpl_eTir9imsyDARB5cNolutC5oZ0iMtKKJbCSYpV3aOTZ28OfpEdOfCEXKGAfl8VA5Pi5V-p60C5ZwEu856OwlJv7ZoHH2ZhQKmEYkYHTn7EyTdCrJ5Wg7VE_RH5I7zuIbBOsOgXRaR38zr9XRYFuL_zj2DYkQ4u95CqyClNNV6uRBFCj9FPpbqwjUT_2weo_47cJP73uX3TByD16ShG8kOrPjIxMg8KatQnF6UjA4iySodg_LXbsWXBNja5pnBt4EEep476uXgMytX0nLvN-7i4DeJINnM2Td0y7F5Bf9sVkAC5mRULjppb8fao84LSFAxoHLIXl4BvMY6tKT6ywy54zbmr99YPuUqXt2GZ0TsSBOPXlYUXz_jAsloMrqeSgxGDnsm1tBrvbECnnBELENi9r9PUE6lTJ5Fn3pXDYIJ2RJcGT9sebJo-QjsOlAl8nIbydH8wH_EqPmWIncWhFSfpv0mue8KLsNEE5QV6d5zV4CNioVdf34uezwiG4zeLzlJ0VZmf5ByQXWD1FoiZKC7vOBZw=s64",
      "userId": "11336038813033628796"
     },
     "user_tz": -60
    },
    "id": "d-3tveMac7wv",
    "outputId": "98adb119-4b39-475a-ef85-31ece53845fd",
    "scrolled": true
   },
   "outputs": [
    {
     "name": "stdout",
     "output_type": "stream",
     "text": [
      "[10, 20]\n",
      "20\n",
      "100\n"
     ]
    }
   ],
   "source": [
    "#Create the model\n",
    "\n",
    "in_shape = [k, dim_x]\n",
    "out_dim = dim_x \n",
    "shared_dim = 100\n",
    "print(in_shape)\n",
    "print(out_dim)\n",
    "print(shared_dim)\n",
    "\n",
    "\n",
    "model= create_model_cnn(in_shape,out_dim,p,shared_dim) "
   ]
  },
  {
   "cell_type": "code",
   "execution_count": 66,
   "metadata": {
    "colab": {
     "base_uri": "https://localhost:8080/",
     "height": 1000
    },
    "colab_type": "code",
    "executionInfo": {
     "elapsed": 519,
     "status": "ok",
     "timestamp": 1584716233595,
     "user": {
      "displayName": "Manuel López Martín",
      "photoUrl": "https://lh3.googleusercontent.com/a-/AOh14Gjkbx9ZcgNrx28G-E9vmuDH73kYDfRwYT7t4SrOSQytLxtAwwl3I1K9yrMCXDmpZDNRYJMtwAh1zUlDFBeKxUr27pGfkbEuB8jW7lZ493uXzPvtAaC789hDEYxeLTuYOFvHe-CvV2lEUxJ-VQLYi-j3sjekrCtwd-fTarbdYre3bTLHf9qgyLR3sZDRdiYD5IIGnePAsdQ9BIuGb6m4UTckK_xLzJgUTGemEM4_uRpl_eTir9imsyDARB5cNolutC5oZ0iMtKKJbCSYpV3aOTZ28OfpEdOfCEXKGAfl8VA5Pi5V-p60C5ZwEu856OwlJv7ZoHH2ZhQKmEYkYHTn7EyTdCrJ5Wg7VE_RH5I7zuIbBOsOgXRaR38zr9XRYFuL_zj2DYkQ4u95CqyClNNV6uRBFCj9FPpbqwjUT_2weo_47cJP73uX3TByD16ShG8kOrPjIxMg8KatQnF6UjA4iySodg_LXbsWXBNja5pnBt4EEep476uXgMytX0nLvN-7i4DeJINnM2Td0y7F5Bf9sVkAC5mRULjppb8fao84LSFAxoHLIXl4BvMY6tKT6ywy54zbmr99YPuUqXt2GZ0TsSBOPXlYUXz_jAsloMrqeSgxGDnsm1tBrvbECnnBELENi9r9PUE6lTJ5Fn3pXDYIJ2RJcGT9sebJo-QjsOlAl8nIbydH8wH_EqPmWIncWhFSfpv0mue8KLsNEE5QV6d5zV4CNioVdf34uezwiG4zeLzlJ0VZmf5ByQXWD1FoiZKC7vOBZw=s64",
      "userId": "11336038813033628796"
     },
     "user_tz": -60
    },
    "id": "JEsEcfTFc7wz",
    "outputId": "a6f5d57a-9e3f-4a41-e82e-ceb3075a77f7",
    "scrolled": false
   },
   "outputs": [
    {
     "name": "stdout",
     "output_type": "stream",
     "text": [
      "Model: \"model_3\"\n",
      "__________________________________________________________________________________________________\n",
      "Layer (type)                    Output Shape         Param #     Connected to                     \n",
      "==================================================================================================\n",
      "input_4 (InputLayer)            [(None, 10, 20)]     0                                            \n",
      "__________________________________________________________________________________________________\n",
      "conv1d_2 (Conv1D)               (None, 8, 30)        1830        input_4[0][0]                    \n",
      "__________________________________________________________________________________________________\n",
      "conv1d_3 (Conv1D)               (None, 6, 60)        5460        conv1d_2[0][0]                   \n",
      "__________________________________________________________________________________________________\n",
      "dense_24 (Dense)                (None, 6, 100)       6100        conv1d_3[0][0]                   \n",
      "__________________________________________________________________________________________________\n",
      "time_distributed_3 (TimeDistrib (None, 6, 100)       10100       dense_24[0][0]                   \n",
      "__________________________________________________________________________________________________\n",
      "tf_op_layer_split_3 (TensorFlow [(None, 1, 100), (No 0           time_distributed_3[0][0]         \n",
      "__________________________________________________________________________________________________\n",
      "flatten_18 (Flatten)            (None, 100)          0           tf_op_layer_split_3[0][0]        \n",
      "__________________________________________________________________________________________________\n",
      "flatten_19 (Flatten)            (None, 100)          0           tf_op_layer_split_3[0][1]        \n",
      "__________________________________________________________________________________________________\n",
      "flatten_20 (Flatten)            (None, 100)          0           tf_op_layer_split_3[0][2]        \n",
      "__________________________________________________________________________________________________\n",
      "flatten_21 (Flatten)            (None, 100)          0           tf_op_layer_split_3[0][3]        \n",
      "__________________________________________________________________________________________________\n",
      "flatten_22 (Flatten)            (None, 100)          0           tf_op_layer_split_3[0][4]        \n",
      "__________________________________________________________________________________________________\n",
      "flatten_23 (Flatten)            (None, 100)          0           tf_op_layer_split_3[0][5]        \n",
      "__________________________________________________________________________________________________\n",
      "dense_26 (Dense)                (None, 20)           2020        flatten_18[0][0]                 \n",
      "__________________________________________________________________________________________________\n",
      "dense_27 (Dense)                (None, 20)           2020        flatten_19[0][0]                 \n",
      "__________________________________________________________________________________________________\n",
      "dense_28 (Dense)                (None, 20)           2020        flatten_20[0][0]                 \n",
      "__________________________________________________________________________________________________\n",
      "dense_29 (Dense)                (None, 20)           2020        flatten_21[0][0]                 \n",
      "__________________________________________________________________________________________________\n",
      "dense_30 (Dense)                (None, 20)           2020        flatten_22[0][0]                 \n",
      "__________________________________________________________________________________________________\n",
      "dense_31 (Dense)                (None, 20)           2020        flatten_23[0][0]                 \n",
      "==================================================================================================\n",
      "Total params: 35,610\n",
      "Trainable params: 35,610\n",
      "Non-trainable params: 0\n",
      "__________________________________________________________________________________________________\n"
     ]
    }
   ],
   "source": [
    "model.summary()"
   ]
  },
  {
   "cell_type": "code",
   "execution_count": 67,
   "metadata": {
    "colab": {
     "base_uri": "https://localhost:8080/",
     "height": 35
    },
    "colab_type": "code",
    "executionInfo": {
     "elapsed": 508,
     "status": "ok",
     "timestamp": 1584716239079,
     "user": {
      "displayName": "Manuel López Martín",
      "photoUrl": "https://lh3.googleusercontent.com/a-/AOh14Gjkbx9ZcgNrx28G-E9vmuDH73kYDfRwYT7t4SrOSQytLxtAwwl3I1K9yrMCXDmpZDNRYJMtwAh1zUlDFBeKxUr27pGfkbEuB8jW7lZ493uXzPvtAaC789hDEYxeLTuYOFvHe-CvV2lEUxJ-VQLYi-j3sjekrCtwd-fTarbdYre3bTLHf9qgyLR3sZDRdiYD5IIGnePAsdQ9BIuGb6m4UTckK_xLzJgUTGemEM4_uRpl_eTir9imsyDARB5cNolutC5oZ0iMtKKJbCSYpV3aOTZ28OfpEdOfCEXKGAfl8VA5Pi5V-p60C5ZwEu856OwlJv7ZoHH2ZhQKmEYkYHTn7EyTdCrJ5Wg7VE_RH5I7zuIbBOsOgXRaR38zr9XRYFuL_zj2DYkQ4u95CqyClNNV6uRBFCj9FPpbqwjUT_2weo_47cJP73uX3TByD16ShG8kOrPjIxMg8KatQnF6UjA4iySodg_LXbsWXBNja5pnBt4EEep476uXgMytX0nLvN-7i4DeJINnM2Td0y7F5Bf9sVkAC5mRULjppb8fao84LSFAxoHLIXl4BvMY6tKT6ywy54zbmr99YPuUqXt2GZ0TsSBOPXlYUXz_jAsloMrqeSgxGDnsm1tBrvbECnnBELENi9r9PUE6lTJ5Fn3pXDYIJ2RJcGT9sebJo-QjsOlAl8nIbydH8wH_EqPmWIncWhFSfpv0mue8KLsNEE5QV6d5zV4CNioVdf34uezwiG4zeLzlJ0VZmf5ByQXWD1FoiZKC7vOBZw=s64",
      "userId": "11336038813033628796"
     },
     "user_tz": -60
    },
    "id": "hRBx40Rsc7xD",
    "outputId": "fce063ba-adab-42b5-9bbd-bf897dba857d"
   },
   "outputs": [],
   "source": [
    "# save the best weights \n",
    "import sys\n",
    "save_string = 'colab_Cilin3D_AML_20_CNN1D_1 v1'\n",
    "\n",
    "# save the best weights \n",
    "save_best_weights = save_string + '.h5'\n",
    "save_summary_stats = save_string + '.csv'\n",
    "save_last_weights = save_string + '_last_w.h5'\n",
    "save_results_metrics = save_string + '_results_metrics.csv'\n"
   ]
  },
  {
   "cell_type": "markdown",
   "metadata": {
    "colab_type": "text",
    "id": "hpAZDegcc7xH"
   },
   "source": [
    "## 5.2 Training "
   ]
  },
  {
   "cell_type": "code",
   "execution_count": 112,
   "metadata": {
    "colab": {
     "base_uri": "https://localhost:8080/",
     "height": 1000
    },
    "colab_type": "code",
    "executionInfo": {
     "elapsed": 843219,
     "status": "ok",
     "timestamp": 1584717114757,
     "user": {
      "displayName": "Manuel López Martín",
      "photoUrl": "https://lh3.googleusercontent.com/a-/AOh14Gjkbx9ZcgNrx28G-E9vmuDH73kYDfRwYT7t4SrOSQytLxtAwwl3I1K9yrMCXDmpZDNRYJMtwAh1zUlDFBeKxUr27pGfkbEuB8jW7lZ493uXzPvtAaC789hDEYxeLTuYOFvHe-CvV2lEUxJ-VQLYi-j3sjekrCtwd-fTarbdYre3bTLHf9qgyLR3sZDRdiYD5IIGnePAsdQ9BIuGb6m4UTckK_xLzJgUTGemEM4_uRpl_eTir9imsyDARB5cNolutC5oZ0iMtKKJbCSYpV3aOTZ28OfpEdOfCEXKGAfl8VA5Pi5V-p60C5ZwEu856OwlJv7ZoHH2ZhQKmEYkYHTn7EyTdCrJ5Wg7VE_RH5I7zuIbBOsOgXRaR38zr9XRYFuL_zj2DYkQ4u95CqyClNNV6uRBFCj9FPpbqwjUT_2weo_47cJP73uX3TByD16ShG8kOrPjIxMg8KatQnF6UjA4iySodg_LXbsWXBNja5pnBt4EEep476uXgMytX0nLvN-7i4DeJINnM2Td0y7F5Bf9sVkAC5mRULjppb8fao84LSFAxoHLIXl4BvMY6tKT6ywy54zbmr99YPuUqXt2GZ0TsSBOPXlYUXz_jAsloMrqeSgxGDnsm1tBrvbECnnBELENi9r9PUE6lTJ5Fn3pXDYIJ2RJcGT9sebJo-QjsOlAl8nIbydH8wH_EqPmWIncWhFSfpv0mue8KLsNEE5QV6d5zV4CNioVdf34uezwiG4zeLzlJ0VZmf5ByQXWD1FoiZKC7vOBZw=s64",
      "userId": "11336038813033628796"
     },
     "user_tz": -60
    },
    "id": "BSeYacJuc7xL",
    "outputId": "97ac458d-ab57-4a3a-ccc0-b8dc78ed157f",
    "scrolled": true
   },
   "outputs": [
    {
     "name": "stdout",
     "output_type": "stream",
     "text": [
      "Epoch 1/70\n",
      "47/47 [==============================] - 3s 56ms/step - loss: 0.1031 - dense_18_loss: 0.0154 - dense_19_loss: 0.0168 - dense_20_loss: 0.0190 - dense_21_loss: 0.0202 - dense_22_loss: 0.0150 - dense_23_loss: 0.0167 - dense_18_mse: 0.0154 - dense_19_mse: 0.0168 - dense_20_mse: 0.0190 - dense_21_mse: 0.0202 - dense_22_mse: 0.0150 - dense_23_mse: 0.0167 - val_loss: 0.0260 - val_dense_18_loss: 0.0042 - val_dense_19_loss: 0.0047 - val_dense_20_loss: 0.0040 - val_dense_21_loss: 0.0045 - val_dense_22_loss: 0.0042 - val_dense_23_loss: 0.0044 - val_dense_18_mse: 0.0042 - val_dense_19_mse: 0.0047 - val_dense_20_mse: 0.0040 - val_dense_21_mse: 0.0045 - val_dense_22_mse: 0.0042 - val_dense_23_mse: 0.0044\n",
      "Epoch 2/70\n",
      "47/47 [==============================] - 2s 53ms/step - loss: 0.0264 - dense_18_loss: 0.0043 - dense_19_loss: 0.0046 - dense_20_loss: 0.0043 - dense_21_loss: 0.0045 - dense_22_loss: 0.0042 - dense_23_loss: 0.0045 - dense_18_mse: 0.0043 - dense_19_mse: 0.0046 - dense_20_mse: 0.0043 - dense_21_mse: 0.0045 - dense_22_mse: 0.0042 - dense_23_mse: 0.0045 - val_loss: 0.0192 - val_dense_18_loss: 0.0031 - val_dense_19_loss: 0.0034 - val_dense_20_loss: 0.0031 - val_dense_21_loss: 0.0032 - val_dense_22_loss: 0.0032 - val_dense_23_loss: 0.0032 - val_dense_18_mse: 0.0031 - val_dense_19_mse: 0.0034 - val_dense_20_mse: 0.0031 - val_dense_21_mse: 0.0032 - val_dense_22_mse: 0.0032 - val_dense_23_mse: 0.0032\n",
      "Epoch 3/70\n",
      "47/47 [==============================] - 3s 55ms/step - loss: 0.0184 - dense_18_loss: 0.0031 - dense_19_loss: 0.0033 - dense_20_loss: 0.0029 - dense_21_loss: 0.0030 - dense_22_loss: 0.0029 - dense_23_loss: 0.0031 - dense_18_mse: 0.0031 - dense_19_mse: 0.0033 - dense_20_mse: 0.0029 - dense_21_mse: 0.0030 - dense_22_mse: 0.0029 - dense_23_mse: 0.0031 - val_loss: 0.0120 - val_dense_18_loss: 0.0021 - val_dense_19_loss: 0.0023 - val_dense_20_loss: 0.0019 - val_dense_21_loss: 0.0019 - val_dense_22_loss: 0.0019 - val_dense_23_loss: 0.0018 - val_dense_18_mse: 0.0021 - val_dense_19_mse: 0.0023 - val_dense_20_mse: 0.0019 - val_dense_21_mse: 0.0019 - val_dense_22_mse: 0.0019 - val_dense_23_mse: 0.0018\n",
      "Epoch 4/70\n",
      "47/47 [==============================] - 3s 54ms/step - loss: 0.0084 - dense_18_loss: 0.0016 - dense_19_loss: 0.0017 - dense_20_loss: 0.0013 - dense_21_loss: 0.0012 - dense_22_loss: 0.0013 - dense_23_loss: 0.0013 - dense_18_mse: 0.0016 - dense_19_mse: 0.0017 - dense_20_mse: 0.0013 - dense_21_mse: 0.0012 - dense_22_mse: 0.0013 - dense_23_mse: 0.0013 - val_loss: 0.0041 - val_dense_18_loss: 7.3924e-04 - val_dense_19_loss: 7.0197e-04 - val_dense_20_loss: 7.1550e-04 - val_dense_21_loss: 6.9569e-04 - val_dense_22_loss: 6.7412e-04 - val_dense_23_loss: 5.4084e-04 - val_dense_18_mse: 7.3924e-04 - val_dense_19_mse: 7.0197e-04 - val_dense_20_mse: 7.1550e-04 - val_dense_21_mse: 6.9569e-04 - val_dense_22_mse: 6.7412e-04 - val_dense_23_mse: 5.4084e-04\n",
      "Epoch 5/70\n",
      "47/47 [==============================] - 3s 56ms/step - loss: 0.0026 - dense_18_loss: 4.7019e-04 - dense_19_loss: 4.5222e-04 - dense_20_loss: 4.2938e-04 - dense_21_loss: 4.1779e-04 - dense_22_loss: 4.2614e-04 - dense_23_loss: 3.9985e-04 - dense_18_mse: 4.7019e-04 - dense_19_mse: 4.5222e-04 - dense_20_mse: 4.2938e-04 - dense_21_mse: 4.1779e-04 - dense_22_mse: 4.2614e-04 - dense_23_mse: 3.9985e-04 - val_loss: 0.0023 - val_dense_18_loss: 3.8984e-04 - val_dense_19_loss: 3.7699e-04 - val_dense_20_loss: 3.7865e-04 - val_dense_21_loss: 3.7985e-04 - val_dense_22_loss: 3.8135e-04 - val_dense_23_loss: 4.1732e-04 - val_dense_18_mse: 3.8984e-04 - val_dense_19_mse: 3.7699e-04 - val_dense_20_mse: 3.7865e-04 - val_dense_21_mse: 3.7985e-04 - val_dense_22_mse: 3.8135e-04 - val_dense_23_mse: 4.1732e-04\n",
      "Epoch 6/70\n",
      "47/47 [==============================] - 3s 58ms/step - loss: 0.0019 - dense_18_loss: 3.1341e-04 - dense_19_loss: 3.2793e-04 - dense_20_loss: 3.0153e-04 - dense_21_loss: 3.0811e-04 - dense_22_loss: 2.9429e-04 - dense_23_loss: 3.1846e-04 - dense_18_mse: 3.1341e-04 - dense_19_mse: 3.2793e-04 - dense_20_mse: 3.0153e-04 - dense_21_mse: 3.0811e-04 - dense_22_mse: 2.9429e-04 - dense_23_mse: 3.1846e-04 - val_loss: 0.0021 - val_dense_18_loss: 3.4598e-04 - val_dense_19_loss: 3.7436e-04 - val_dense_20_loss: 3.4138e-04 - val_dense_21_loss: 3.4509e-04 - val_dense_22_loss: 3.2987e-04 - val_dense_23_loss: 3.6368e-04 - val_dense_18_mse: 3.4598e-04 - val_dense_19_mse: 3.7436e-04 - val_dense_20_mse: 3.4138e-04 - val_dense_21_mse: 3.4509e-04 - val_dense_22_mse: 3.2987e-04 - val_dense_23_mse: 3.6368e-04\n",
      "Epoch 7/70\n",
      "47/47 [==============================] - 3s 57ms/step - loss: 0.0017 - dense_18_loss: 2.8517e-04 - dense_19_loss: 2.9703e-04 - dense_20_loss: 2.7167e-04 - dense_21_loss: 2.8566e-04 - dense_22_loss: 2.6738e-04 - dense_23_loss: 3.0052e-04 - dense_18_mse: 2.8517e-04 - dense_19_mse: 2.9703e-04 - dense_20_mse: 2.7167e-04 - dense_21_mse: 2.8566e-04 - dense_22_mse: 2.6738e-04 - dense_23_mse: 3.0052e-04 - val_loss: 0.0020 - val_dense_18_loss: 3.1921e-04 - val_dense_19_loss: 3.4270e-04 - val_dense_20_loss: 3.3001e-04 - val_dense_21_loss: 3.4040e-04 - val_dense_22_loss: 3.1407e-04 - val_dense_23_loss: 3.5755e-04 - val_dense_18_mse: 3.1921e-04 - val_dense_19_mse: 3.4270e-04 - val_dense_20_mse: 3.3001e-04 - val_dense_21_mse: 3.4040e-04 - val_dense_22_mse: 3.1407e-04 - val_dense_23_mse: 3.5755e-04\n",
      "Epoch 8/70\n",
      "47/47 [==============================] - 3s 56ms/step - loss: 0.0015 - dense_18_loss: 2.3976e-04 - dense_19_loss: 2.5555e-04 - dense_20_loss: 2.3208e-04 - dense_21_loss: 2.5101e-04 - dense_22_loss: 2.3322e-04 - dense_23_loss: 2.5487e-04 - dense_18_mse: 2.3976e-04 - dense_19_mse: 2.5555e-04 - dense_20_mse: 2.3208e-04 - dense_21_mse: 2.5101e-04 - dense_22_mse: 2.3322e-04 - dense_23_mse: 2.5487e-04 - val_loss: 0.0018 - val_dense_18_loss: 2.8576e-04 - val_dense_19_loss: 3.1913e-04 - val_dense_20_loss: 2.8277e-04 - val_dense_21_loss: 3.1253e-04 - val_dense_22_loss: 2.8680e-04 - val_dense_23_loss: 2.9318e-04 - val_dense_18_mse: 2.8576e-04 - val_dense_19_mse: 3.1913e-04 - val_dense_20_mse: 2.8277e-04 - val_dense_21_mse: 3.1253e-04 - val_dense_22_mse: 2.8680e-04 - val_dense_23_mse: 2.9318e-04\n",
      "Epoch 9/70\n",
      "47/47 [==============================] - 3s 58ms/step - loss: 0.0013 - dense_18_loss: 1.9680e-04 - dense_19_loss: 2.1694e-04 - dense_20_loss: 2.0322e-04 - dense_21_loss: 2.2862e-04 - dense_22_loss: 2.0945e-04 - dense_23_loss: 2.1954e-04 - dense_18_mse: 1.9680e-04 - dense_19_mse: 2.1694e-04 - dense_20_mse: 2.0322e-04 - dense_21_mse: 2.2862e-04 - dense_22_mse: 2.0945e-04 - dense_23_mse: 2.1954e-04 - val_loss: 0.0018 - val_dense_18_loss: 2.8429e-04 - val_dense_19_loss: 2.9834e-04 - val_dense_20_loss: 2.9772e-04 - val_dense_21_loss: 3.1001e-04 - val_dense_22_loss: 2.7932e-04 - val_dense_23_loss: 3.0175e-04 - val_dense_18_mse: 2.8429e-04 - val_dense_19_mse: 2.9834e-04 - val_dense_20_mse: 2.9772e-04 - val_dense_21_mse: 3.1001e-04 - val_dense_22_mse: 2.7932e-04 - val_dense_23_mse: 3.0175e-04\n",
      "Epoch 10/70\n",
      "47/47 [==============================] - 3s 59ms/step - loss: 0.0012 - dense_18_loss: 1.7759e-04 - dense_19_loss: 1.9751e-04 - dense_20_loss: 1.8848e-04 - dense_21_loss: 2.1219e-04 - dense_22_loss: 1.9378e-04 - dense_23_loss: 2.0483e-04 - dense_18_mse: 1.7759e-04 - dense_19_mse: 1.9751e-04 - dense_20_mse: 1.8848e-04 - dense_21_mse: 2.1219e-04 - dense_22_mse: 1.9378e-04 - dense_23_mse: 2.0483e-04 - val_loss: 0.0017 - val_dense_18_loss: 2.5125e-04 - val_dense_19_loss: 2.8210e-04 - val_dense_20_loss: 2.9278e-04 - val_dense_21_loss: 3.0092e-04 - val_dense_22_loss: 2.6188e-04 - val_dense_23_loss: 2.9436e-04 - val_dense_18_mse: 2.5125e-04 - val_dense_19_mse: 2.8210e-04 - val_dense_20_mse: 2.9278e-04 - val_dense_21_mse: 3.0092e-04 - val_dense_22_mse: 2.6188e-04 - val_dense_23_mse: 2.9436e-04\n",
      "Epoch 11/70\n",
      "47/47 [==============================] - 3s 63ms/step - loss: 0.0011 - dense_18_loss: 1.5793e-04 - dense_19_loss: 1.7492e-04 - dense_20_loss: 1.6917e-04 - dense_21_loss: 1.9642e-04 - dense_22_loss: 1.7450e-04 - dense_23_loss: 1.8030e-04 - dense_18_mse: 1.5793e-04 - dense_19_mse: 1.7492e-04 - dense_20_mse: 1.6917e-04 - dense_21_mse: 1.9642e-04 - dense_22_mse: 1.7450e-04 - dense_23_mse: 1.8030e-04 - val_loss: 0.0015 - val_dense_18_loss: 2.5310e-04 - val_dense_19_loss: 2.5671e-04 - val_dense_20_loss: 2.5893e-04 - val_dense_21_loss: 2.5749e-04 - val_dense_22_loss: 2.5357e-04 - val_dense_23_loss: 2.5123e-04 - val_dense_18_mse: 2.5310e-04 - val_dense_19_mse: 2.5671e-04 - val_dense_20_mse: 2.5893e-04 - val_dense_21_mse: 2.5749e-04 - val_dense_22_mse: 2.5357e-04 - val_dense_23_mse: 2.5123e-04\n",
      "Epoch 12/70\n",
      "47/47 [==============================] - 3s 61ms/step - loss: 9.7561e-04 - dense_18_loss: 1.4539e-04 - dense_19_loss: 1.6450e-04 - dense_20_loss: 1.5516e-04 - dense_21_loss: 1.8407e-04 - dense_22_loss: 1.6080e-04 - dense_23_loss: 1.6570e-04 - dense_18_mse: 1.4538e-04 - dense_19_mse: 1.6450e-04 - dense_20_mse: 1.5516e-04 - dense_21_mse: 1.8407e-04 - dense_22_mse: 1.6080e-04 - dense_23_mse: 1.6570e-04 - val_loss: 0.0015 - val_dense_18_loss: 2.2996e-04 - val_dense_19_loss: 2.7382e-04 - val_dense_20_loss: 2.5411e-04 - val_dense_21_loss: 2.3765e-04 - val_dense_22_loss: 2.3944e-04 - val_dense_23_loss: 2.4021e-04 - val_dense_18_mse: 2.2996e-04 - val_dense_19_mse: 2.7382e-04 - val_dense_20_mse: 2.5411e-04 - val_dense_21_mse: 2.3765e-04 - val_dense_22_mse: 2.3944e-04 - val_dense_23_mse: 2.4021e-04\n",
      "Epoch 13/70\n",
      "47/47 [==============================] - 3s 59ms/step - loss: 8.7867e-04 - dense_18_loss: 1.3301e-04 - dense_19_loss: 1.4804e-04 - dense_20_loss: 1.3733e-04 - dense_21_loss: 1.6736e-04 - dense_22_loss: 1.4256e-04 - dense_23_loss: 1.5037e-04 - dense_18_mse: 1.3301e-04 - dense_19_mse: 1.4804e-04 - dense_20_mse: 1.3733e-04 - dense_21_mse: 1.6736e-04 - dense_22_mse: 1.4256e-04 - dense_23_mse: 1.5037e-04 - val_loss: 0.0014 - val_dense_18_loss: 2.3203e-04 - val_dense_19_loss: 2.4871e-04 - val_dense_20_loss: 2.3615e-04 - val_dense_21_loss: 2.4486e-04 - val_dense_22_loss: 2.4633e-04 - val_dense_23_loss: 2.3801e-04 - val_dense_18_mse: 2.3203e-04 - val_dense_19_mse: 2.4871e-04 - val_dense_20_mse: 2.3615e-04 - val_dense_21_mse: 2.4486e-04 - val_dense_22_mse: 2.4633e-04 - val_dense_23_mse: 2.3801e-04\n",
      "Epoch 14/70\n",
      "47/47 [==============================] - 3s 59ms/step - loss: 8.0480e-04 - dense_18_loss: 1.2663e-04 - dense_19_loss: 1.3825e-04 - dense_20_loss: 1.2522e-04 - dense_21_loss: 1.5378e-04 - dense_22_loss: 1.2389e-04 - dense_23_loss: 1.3702e-04 - dense_18_mse: 1.2663e-04 - dense_19_mse: 1.3825e-04 - dense_20_mse: 1.2522e-04 - dense_21_mse: 1.5378e-04 - dense_22_mse: 1.2389e-04 - dense_23_mse: 1.3702e-04 - val_loss: 0.0015 - val_dense_18_loss: 2.5058e-04 - val_dense_19_loss: 2.5103e-04 - val_dense_20_loss: 2.4379e-04 - val_dense_21_loss: 2.5862e-04 - val_dense_22_loss: 2.1570e-04 - val_dense_23_loss: 2.4683e-04 - val_dense_18_mse: 2.5058e-04 - val_dense_19_mse: 2.5103e-04 - val_dense_20_mse: 2.4379e-04 - val_dense_21_mse: 2.5862e-04 - val_dense_22_mse: 2.1570e-04 - val_dense_23_mse: 2.4683e-04\n",
      "Epoch 15/70\n",
      "47/47 [==============================] - 3s 62ms/step - loss: 7.3832e-04 - dense_18_loss: 1.1321e-04 - dense_19_loss: 1.2961e-04 - dense_20_loss: 1.1596e-04 - dense_21_loss: 1.4293e-04 - dense_22_loss: 1.1047e-04 - dense_23_loss: 1.2615e-04 - dense_18_mse: 1.1321e-04 - dense_19_mse: 1.2961e-04 - dense_20_mse: 1.1596e-04 - dense_21_mse: 1.4293e-04 - dense_22_mse: 1.1047e-04 - dense_23_mse: 1.2615e-04 - val_loss: 0.0014 - val_dense_18_loss: 2.4028e-04 - val_dense_19_loss: 2.3887e-04 - val_dense_20_loss: 2.3600e-04 - val_dense_21_loss: 2.4314e-04 - val_dense_22_loss: 2.1312e-04 - val_dense_23_loss: 2.3495e-04 - val_dense_18_mse: 2.4028e-04 - val_dense_19_mse: 2.3887e-04 - val_dense_20_mse: 2.3600e-04 - val_dense_21_mse: 2.4314e-04 - val_dense_22_mse: 2.1312e-04 - val_dense_23_mse: 2.3495e-04\n",
      "Epoch 16/70\n",
      "47/47 [==============================] - 3s 58ms/step - loss: 6.3513e-04 - dense_18_loss: 9.9102e-05 - dense_19_loss: 1.1361e-04 - dense_20_loss: 9.9437e-05 - dense_21_loss: 1.2309e-04 - dense_22_loss: 9.1329e-05 - dense_23_loss: 1.0856e-04 - dense_18_mse: 9.9102e-05 - dense_19_mse: 1.1361e-04 - dense_20_mse: 9.9437e-05 - dense_21_mse: 1.2309e-04 - dense_22_mse: 9.1329e-05 - dense_23_mse: 1.0856e-04 - val_loss: 0.0013 - val_dense_18_loss: 2.1155e-04 - val_dense_19_loss: 2.2503e-04 - val_dense_20_loss: 2.1048e-04 - val_dense_21_loss: 2.1951e-04 - val_dense_22_loss: 2.0077e-04 - val_dense_23_loss: 2.3174e-04 - val_dense_18_mse: 2.1155e-04 - val_dense_19_mse: 2.2503e-04 - val_dense_20_mse: 2.1048e-04 - val_dense_21_mse: 2.1951e-04 - val_dense_22_mse: 2.0077e-04 - val_dense_23_mse: 2.3174e-04\n",
      "Epoch 17/70\n",
      "47/47 [==============================] - 3s 61ms/step - loss: 6.0203e-04 - dense_18_loss: 9.2614e-05 - dense_19_loss: 1.0917e-04 - dense_20_loss: 9.5614e-05 - dense_21_loss: 1.1735e-04 - dense_22_loss: 8.4343e-05 - dense_23_loss: 1.0295e-04 - dense_18_mse: 9.2614e-05 - dense_19_mse: 1.0917e-04 - dense_20_mse: 9.5614e-05 - dense_21_mse: 1.1735e-04 - dense_22_mse: 8.4343e-05 - dense_23_mse: 1.0295e-04 - val_loss: 0.0013 - val_dense_18_loss: 2.0631e-04 - val_dense_19_loss: 2.2414e-04 - val_dense_20_loss: 2.2371e-04 - val_dense_21_loss: 1.9519e-04 - val_dense_22_loss: 2.0611e-04 - val_dense_23_loss: 2.2806e-04 - val_dense_18_mse: 2.0631e-04 - val_dense_19_mse: 2.2414e-04 - val_dense_20_mse: 2.2371e-04 - val_dense_21_mse: 1.9519e-04 - val_dense_22_mse: 2.0611e-04 - val_dense_23_mse: 2.2806e-04\n",
      "Epoch 18/70\n",
      "47/47 [==============================] - 3s 64ms/step - loss: 5.8325e-04 - dense_18_loss: 9.0037e-05 - dense_19_loss: 1.0362e-04 - dense_20_loss: 9.2990e-05 - dense_21_loss: 1.1235e-04 - dense_22_loss: 8.4861e-05 - dense_23_loss: 9.9398e-05 - dense_18_mse: 9.0037e-05 - dense_19_mse: 1.0362e-04 - dense_20_mse: 9.2990e-05 - dense_21_mse: 1.1235e-04 - dense_22_mse: 8.4861e-05 - dense_23_mse: 9.9398e-05 - val_loss: 0.0013 - val_dense_18_loss: 2.0716e-04 - val_dense_19_loss: 2.2802e-04 - val_dense_20_loss: 2.1558e-04 - val_dense_21_loss: 2.0266e-04 - val_dense_22_loss: 2.0231e-04 - val_dense_23_loss: 2.0735e-04 - val_dense_18_mse: 2.0716e-04 - val_dense_19_mse: 2.2802e-04 - val_dense_20_mse: 2.1558e-04 - val_dense_21_mse: 2.0266e-04 - val_dense_22_mse: 2.0231e-04 - val_dense_23_mse: 2.0735e-04\n",
      "Epoch 19/70\n",
      "47/47 [==============================] - 3s 61ms/step - loss: 5.3455e-04 - dense_18_loss: 8.4803e-05 - dense_19_loss: 9.5432e-05 - dense_20_loss: 8.2114e-05 - dense_21_loss: 1.0403e-04 - dense_22_loss: 7.6224e-05 - dense_23_loss: 9.1947e-05 - dense_18_mse: 8.4803e-05 - dense_19_mse: 9.5432e-05 - dense_20_mse: 8.2114e-05 - dense_21_mse: 1.0403e-04 - dense_22_mse: 7.6224e-05 - dense_23_mse: 9.1947e-05 - val_loss: 0.0012 - val_dense_18_loss: 1.9292e-04 - val_dense_19_loss: 2.1499e-04 - val_dense_20_loss: 2.0354e-04 - val_dense_21_loss: 1.9433e-04 - val_dense_22_loss: 1.8725e-04 - val_dense_23_loss: 1.9878e-04 - val_dense_18_mse: 1.9292e-04 - val_dense_19_mse: 2.1499e-04 - val_dense_20_mse: 2.0354e-04 - val_dense_21_mse: 1.9433e-04 - val_dense_22_mse: 1.8725e-04 - val_dense_23_mse: 1.9878e-04\n",
      "Epoch 20/70\n",
      "47/47 [==============================] - 3s 59ms/step - loss: 5.1753e-04 - dense_18_loss: 7.9764e-05 - dense_19_loss: 9.6750e-05 - dense_20_loss: 7.9565e-05 - dense_21_loss: 9.4467e-05 - dense_22_loss: 7.8872e-05 - dense_23_loss: 8.8116e-05 - dense_18_mse: 7.9764e-05 - dense_19_mse: 9.6750e-05 - dense_20_mse: 7.9565e-05 - dense_21_mse: 9.4467e-05 - dense_22_mse: 7.8872e-05 - dense_23_mse: 8.8116e-05 - val_loss: 0.0014 - val_dense_18_loss: 2.4101e-04 - val_dense_19_loss: 2.2772e-04 - val_dense_20_loss: 2.1332e-04 - val_dense_21_loss: 2.4053e-04 - val_dense_22_loss: 2.0916e-04 - val_dense_23_loss: 2.1977e-04 - val_dense_18_mse: 2.4101e-04 - val_dense_19_mse: 2.2772e-04 - val_dense_20_mse: 2.1332e-04 - val_dense_21_mse: 2.4053e-04 - val_dense_22_mse: 2.0916e-04 - val_dense_23_mse: 2.1977e-04\n",
      "Epoch 21/70\n"
     ]
    },
    {
     "name": "stdout",
     "output_type": "stream",
     "text": [
      "47/47 [==============================] - 3s 60ms/step - loss: 4.8672e-04 - dense_18_loss: 7.5856e-05 - dense_19_loss: 8.9689e-05 - dense_20_loss: 7.3644e-05 - dense_21_loss: 9.3674e-05 - dense_22_loss: 7.1817e-05 - dense_23_loss: 8.2037e-05 - dense_18_mse: 7.5856e-05 - dense_19_mse: 8.9689e-05 - dense_20_mse: 7.3644e-05 - dense_21_mse: 9.3674e-05 - dense_22_mse: 7.1817e-05 - dense_23_mse: 8.2037e-05 - val_loss: 0.0012 - val_dense_18_loss: 2.0240e-04 - val_dense_19_loss: 2.0853e-04 - val_dense_20_loss: 2.0543e-04 - val_dense_21_loss: 1.9892e-04 - val_dense_22_loss: 1.8470e-04 - val_dense_23_loss: 1.8464e-04 - val_dense_18_mse: 2.0240e-04 - val_dense_19_mse: 2.0853e-04 - val_dense_20_mse: 2.0543e-04 - val_dense_21_mse: 1.9892e-04 - val_dense_22_mse: 1.8470e-04 - val_dense_23_mse: 1.8464e-04\n",
      "Epoch 22/70\n",
      "47/47 [==============================] - 3s 60ms/step - loss: 4.6287e-04 - dense_18_loss: 7.3185e-05 - dense_19_loss: 8.5300e-05 - dense_20_loss: 7.1312e-05 - dense_21_loss: 8.8826e-05 - dense_22_loss: 6.7928e-05 - dense_23_loss: 7.6322e-05 - dense_18_mse: 7.3185e-05 - dense_19_mse: 8.5300e-05 - dense_20_mse: 7.1312e-05 - dense_21_mse: 8.8826e-05 - dense_22_mse: 6.7928e-05 - dense_23_mse: 7.6322e-05 - val_loss: 0.0012 - val_dense_18_loss: 2.1014e-04 - val_dense_19_loss: 2.1607e-04 - val_dense_20_loss: 1.9375e-04 - val_dense_21_loss: 2.1135e-04 - val_dense_22_loss: 1.7637e-04 - val_dense_23_loss: 2.1584e-04 - val_dense_18_mse: 2.1014e-04 - val_dense_19_mse: 2.1607e-04 - val_dense_20_mse: 1.9375e-04 - val_dense_21_mse: 2.1135e-04 - val_dense_22_mse: 1.7637e-04 - val_dense_23_mse: 2.1584e-04\n",
      "Epoch 23/70\n",
      "47/47 [==============================] - 3s 61ms/step - loss: 4.6500e-04 - dense_18_loss: 7.4849e-05 - dense_19_loss: 8.5876e-05 - dense_20_loss: 7.1132e-05 - dense_21_loss: 8.7205e-05 - dense_22_loss: 6.8668e-05 - dense_23_loss: 7.7267e-05 - dense_18_mse: 7.4849e-05 - dense_19_mse: 8.5876e-05 - dense_20_mse: 7.1132e-05 - dense_21_mse: 8.7205e-05 - dense_22_mse: 6.8667e-05 - dense_23_mse: 7.7267e-05 - val_loss: 0.0011 - val_dense_18_loss: 1.8668e-04 - val_dense_19_loss: 1.9974e-04 - val_dense_20_loss: 1.9947e-04 - val_dense_21_loss: 1.7254e-04 - val_dense_22_loss: 1.8767e-04 - val_dense_23_loss: 1.8493e-04 - val_dense_18_mse: 1.8668e-04 - val_dense_19_mse: 1.9974e-04 - val_dense_20_mse: 1.9947e-04 - val_dense_21_mse: 1.7254e-04 - val_dense_22_mse: 1.8767e-04 - val_dense_23_mse: 1.8493e-04\n",
      "Epoch 24/70\n",
      "47/47 [==============================] - 3s 64ms/step - loss: 4.7562e-04 - dense_18_loss: 7.5555e-05 - dense_19_loss: 8.5137e-05 - dense_20_loss: 7.1739e-05 - dense_21_loss: 8.9117e-05 - dense_22_loss: 7.0579e-05 - dense_23_loss: 8.3491e-05 - dense_18_mse: 7.5555e-05 - dense_19_mse: 8.5137e-05 - dense_20_mse: 7.1739e-05 - dense_21_mse: 8.9117e-05 - dense_22_mse: 7.0579e-05 - dense_23_mse: 8.3491e-05 - val_loss: 0.0013 - val_dense_18_loss: 1.9124e-04 - val_dense_19_loss: 2.0901e-04 - val_dense_20_loss: 2.0319e-04 - val_dense_21_loss: 2.1297e-04 - val_dense_22_loss: 2.1702e-04 - val_dense_23_loss: 2.3956e-04 - val_dense_18_mse: 1.9124e-04 - val_dense_19_mse: 2.0901e-04 - val_dense_20_mse: 2.0319e-04 - val_dense_21_mse: 2.1297e-04 - val_dense_22_mse: 2.1702e-04 - val_dense_23_mse: 2.3956e-04\n",
      "Epoch 25/70\n",
      "47/47 [==============================] - 3s 59ms/step - loss: 4.3526e-04 - dense_18_loss: 6.8782e-05 - dense_19_loss: 8.0699e-05 - dense_20_loss: 6.4327e-05 - dense_21_loss: 8.0747e-05 - dense_22_loss: 6.4391e-05 - dense_23_loss: 7.6311e-05 - dense_18_mse: 6.8782e-05 - dense_19_mse: 8.0699e-05 - dense_20_mse: 6.4327e-05 - dense_21_mse: 8.0747e-05 - dense_22_mse: 6.4391e-05 - dense_23_mse: 7.6311e-05 - val_loss: 0.0012 - val_dense_18_loss: 2.0057e-04 - val_dense_19_loss: 1.9600e-04 - val_dense_20_loss: 2.0884e-04 - val_dense_21_loss: 1.9345e-04 - val_dense_22_loss: 1.9415e-04 - val_dense_23_loss: 1.9457e-04 - val_dense_18_mse: 2.0057e-04 - val_dense_19_mse: 1.9600e-04 - val_dense_20_mse: 2.0884e-04 - val_dense_21_mse: 1.9345e-04 - val_dense_22_mse: 1.9415e-04 - val_dense_23_mse: 1.9457e-04\n",
      "Epoch 26/70\n",
      "47/47 [==============================] - 3s 62ms/step - loss: 4.1764e-04 - dense_18_loss: 6.5799e-05 - dense_19_loss: 7.8642e-05 - dense_20_loss: 6.5222e-05 - dense_21_loss: 7.8067e-05 - dense_22_loss: 5.9560e-05 - dense_23_loss: 7.0350e-05 - dense_18_mse: 6.5799e-05 - dense_19_mse: 7.8642e-05 - dense_20_mse: 6.5222e-05 - dense_21_mse: 7.8067e-05 - dense_22_mse: 5.9560e-05 - dense_23_mse: 7.0350e-05 - val_loss: 0.0013 - val_dense_18_loss: 2.2769e-04 - val_dense_19_loss: 2.3074e-04 - val_dense_20_loss: 2.0632e-04 - val_dense_21_loss: 2.3538e-04 - val_dense_22_loss: 2.1514e-04 - val_dense_23_loss: 2.1268e-04 - val_dense_18_mse: 2.2769e-04 - val_dense_19_mse: 2.3074e-04 - val_dense_20_mse: 2.0632e-04 - val_dense_21_mse: 2.3538e-04 - val_dense_22_mse: 2.1514e-04 - val_dense_23_mse: 2.1268e-04\n",
      "Epoch 27/70\n",
      "47/47 [==============================] - 3s 62ms/step - loss: 4.1836e-04 - dense_18_loss: 6.2259e-05 - dense_19_loss: 7.7136e-05 - dense_20_loss: 6.6566e-05 - dense_21_loss: 7.5849e-05 - dense_22_loss: 6.3282e-05 - dense_23_loss: 7.3270e-05 - dense_18_mse: 6.2259e-05 - dense_19_mse: 7.7136e-05 - dense_20_mse: 6.6566e-05 - dense_21_mse: 7.5849e-05 - dense_22_mse: 6.3282e-05 - dense_23_mse: 7.3270e-05 - val_loss: 0.0012 - val_dense_18_loss: 1.8312e-04 - val_dense_19_loss: 2.1678e-04 - val_dense_20_loss: 2.1155e-04 - val_dense_21_loss: 1.7796e-04 - val_dense_22_loss: 1.8761e-04 - val_dense_23_loss: 2.0764e-04 - val_dense_18_mse: 1.8312e-04 - val_dense_19_mse: 2.1678e-04 - val_dense_20_mse: 2.1155e-04 - val_dense_21_mse: 1.7796e-04 - val_dense_22_mse: 1.8761e-04 - val_dense_23_mse: 2.0764e-04\n",
      "Epoch 28/70\n",
      "47/47 [==============================] - 3s 64ms/step - loss: 3.7628e-04 - dense_18_loss: 5.8171e-05 - dense_19_loss: 7.0652e-05 - dense_20_loss: 5.7893e-05 - dense_21_loss: 6.9916e-05 - dense_22_loss: 5.4988e-05 - dense_23_loss: 6.4656e-05 - dense_18_mse: 5.8171e-05 - dense_19_mse: 7.0652e-05 - dense_20_mse: 5.7893e-05 - dense_21_mse: 6.9916e-05 - dense_22_mse: 5.4988e-05 - dense_23_mse: 6.4656e-05 - val_loss: 0.0012 - val_dense_18_loss: 1.8945e-04 - val_dense_19_loss: 2.0089e-04 - val_dense_20_loss: 1.8856e-04 - val_dense_21_loss: 1.8444e-04 - val_dense_22_loss: 2.0710e-04 - val_dense_23_loss: 1.9473e-04 - val_dense_18_mse: 1.8945e-04 - val_dense_19_mse: 2.0089e-04 - val_dense_20_mse: 1.8856e-04 - val_dense_21_mse: 1.8444e-04 - val_dense_22_mse: 2.0710e-04 - val_dense_23_mse: 1.9473e-04\n",
      "Epoch 29/70\n",
      "47/47 [==============================] - 3s 61ms/step - loss: 3.6211e-04 - dense_18_loss: 5.5444e-05 - dense_19_loss: 6.6510e-05 - dense_20_loss: 5.6552e-05 - dense_21_loss: 6.6473e-05 - dense_22_loss: 5.4610e-05 - dense_23_loss: 6.2520e-05 - dense_18_mse: 5.5444e-05 - dense_19_mse: 6.6510e-05 - dense_20_mse: 5.6552e-05 - dense_21_mse: 6.6473e-05 - dense_22_mse: 5.4610e-05 - dense_23_mse: 6.2520e-05 - val_loss: 0.0012 - val_dense_18_loss: 1.8860e-04 - val_dense_19_loss: 2.0367e-04 - val_dense_20_loss: 2.2055e-04 - val_dense_21_loss: 1.8925e-04 - val_dense_22_loss: 2.0779e-04 - val_dense_23_loss: 1.9928e-04 - val_dense_18_mse: 1.8860e-04 - val_dense_19_mse: 2.0367e-04 - val_dense_20_mse: 2.2055e-04 - val_dense_21_mse: 1.8925e-04 - val_dense_22_mse: 2.0779e-04 - val_dense_23_mse: 1.9928e-04\n",
      "Epoch 30/70\n",
      "47/47 [==============================] - 3s 64ms/step - loss: 3.5943e-04 - dense_18_loss: 5.5877e-05 - dense_19_loss: 6.6378e-05 - dense_20_loss: 5.5775e-05 - dense_21_loss: 6.7698e-05 - dense_22_loss: 5.2062e-05 - dense_23_loss: 6.1638e-05 - dense_18_mse: 5.5877e-05 - dense_19_mse: 6.6378e-05 - dense_20_mse: 5.5774e-05 - dense_21_mse: 6.7698e-05 - dense_22_mse: 5.2062e-05 - dense_23_mse: 6.1638e-05 - val_loss: 0.0011 - val_dense_18_loss: 1.8340e-04 - val_dense_19_loss: 2.0226e-04 - val_dense_20_loss: 1.8480e-04 - val_dense_21_loss: 1.8638e-04 - val_dense_22_loss: 1.8379e-04 - val_dense_23_loss: 1.7984e-04 - val_dense_18_mse: 1.8340e-04 - val_dense_19_mse: 2.0226e-04 - val_dense_20_mse: 1.8480e-04 - val_dense_21_mse: 1.8638e-04 - val_dense_22_mse: 1.8379e-04 - val_dense_23_mse: 1.7984e-04\n",
      "Epoch 31/70\n",
      "47/47 [==============================] - 3s 63ms/step - loss: 3.3861e-04 - dense_18_loss: 5.2650e-05 - dense_19_loss: 6.1831e-05 - dense_20_loss: 5.2801e-05 - dense_21_loss: 6.1322e-05 - dense_22_loss: 5.0398e-05 - dense_23_loss: 5.9606e-05 - dense_18_mse: 5.2650e-05 - dense_19_mse: 6.1831e-05 - dense_20_mse: 5.2801e-05 - dense_21_mse: 6.1322e-05 - dense_22_mse: 5.0398e-05 - dense_23_mse: 5.9606e-05 - val_loss: 0.0011 - val_dense_18_loss: 1.8709e-04 - val_dense_19_loss: 2.1526e-04 - val_dense_20_loss: 1.9313e-04 - val_dense_21_loss: 1.7712e-04 - val_dense_22_loss: 1.6858e-04 - val_dense_23_loss: 1.7248e-04 - val_dense_18_mse: 1.8709e-04 - val_dense_19_mse: 2.1526e-04 - val_dense_20_mse: 1.9313e-04 - val_dense_21_mse: 1.7712e-04 - val_dense_22_mse: 1.6858e-04 - val_dense_23_mse: 1.7248e-04\n",
      "Epoch 32/70\n",
      "47/47 [==============================] - 3s 62ms/step - loss: 3.1896e-04 - dense_18_loss: 4.9264e-05 - dense_19_loss: 5.5740e-05 - dense_20_loss: 4.9516e-05 - dense_21_loss: 5.8739e-05 - dense_22_loss: 4.9865e-05 - dense_23_loss: 5.5838e-05 - dense_18_mse: 4.9264e-05 - dense_19_mse: 5.5740e-05 - dense_20_mse: 4.9516e-05 - dense_21_mse: 5.8739e-05 - dense_22_mse: 4.9865e-05 - dense_23_mse: 5.5838e-05 - val_loss: 0.0011 - val_dense_18_loss: 1.7750e-04 - val_dense_19_loss: 1.6963e-04 - val_dense_20_loss: 1.8290e-04 - val_dense_21_loss: 1.8261e-04 - val_dense_22_loss: 1.9384e-04 - val_dense_23_loss: 1.8108e-04 - val_dense_18_mse: 1.7750e-04 - val_dense_19_mse: 1.6963e-04 - val_dense_20_mse: 1.8290e-04 - val_dense_21_mse: 1.8261e-04 - val_dense_22_mse: 1.9384e-04 - val_dense_23_mse: 1.8108e-04\n",
      "Epoch 33/70\n",
      "47/47 [==============================] - 3s 62ms/step - loss: 2.9880e-04 - dense_18_loss: 4.5502e-05 - dense_19_loss: 5.2640e-05 - dense_20_loss: 4.9073e-05 - dense_21_loss: 5.6776e-05 - dense_22_loss: 4.3453e-05 - dense_23_loss: 5.1356e-05 - dense_18_mse: 4.5502e-05 - dense_19_mse: 5.2640e-05 - dense_20_mse: 4.9073e-05 - dense_21_mse: 5.6776e-05 - dense_22_mse: 4.3453e-05 - dense_23_mse: 5.1356e-05 - val_loss: 0.0011 - val_dense_18_loss: 1.7300e-04 - val_dense_19_loss: 2.0898e-04 - val_dense_20_loss: 1.7949e-04 - val_dense_21_loss: 1.7721e-04 - val_dense_22_loss: 1.9435e-04 - val_dense_23_loss: 1.9897e-04 - val_dense_18_mse: 1.7300e-04 - val_dense_19_mse: 2.0898e-04 - val_dense_20_mse: 1.7949e-04 - val_dense_21_mse: 1.7721e-04 - val_dense_22_mse: 1.9435e-04 - val_dense_23_mse: 1.9897e-04\n",
      "Epoch 34/70\n",
      "47/47 [==============================] - 3s 63ms/step - loss: 3.1716e-04 - dense_18_loss: 4.9764e-05 - dense_19_loss: 5.6565e-05 - dense_20_loss: 4.8239e-05 - dense_21_loss: 5.7380e-05 - dense_22_loss: 4.9050e-05 - dense_23_loss: 5.6156e-05 - dense_18_mse: 4.9764e-05 - dense_19_mse: 5.6565e-05 - dense_20_mse: 4.8239e-05 - dense_21_mse: 5.7380e-05 - dense_22_mse: 4.9050e-05 - dense_23_mse: 5.6156e-05 - val_loss: 0.0011 - val_dense_18_loss: 1.6783e-04 - val_dense_19_loss: 1.8725e-04 - val_dense_20_loss: 1.8252e-04 - val_dense_21_loss: 1.7326e-04 - val_dense_22_loss: 1.9136e-04 - val_dense_23_loss: 1.7507e-04 - val_dense_18_mse: 1.6783e-04 - val_dense_19_mse: 1.8725e-04 - val_dense_20_mse: 1.8252e-04 - val_dense_21_mse: 1.7326e-04 - val_dense_22_mse: 1.9136e-04 - val_dense_23_mse: 1.7507e-04\n",
      "Epoch 35/70\n",
      "47/47 [==============================] - 3s 60ms/step - loss: 2.9911e-04 - dense_18_loss: 4.5010e-05 - dense_19_loss: 5.1224e-05 - dense_20_loss: 4.7070e-05 - dense_21_loss: 5.6024e-05 - dense_22_loss: 4.7973e-05 - dense_23_loss: 5.1806e-05 - dense_18_mse: 4.5010e-05 - dense_19_mse: 5.1224e-05 - dense_20_mse: 4.7070e-05 - dense_21_mse: 5.6024e-05 - dense_22_mse: 4.7973e-05 - dense_23_mse: 5.1806e-05 - val_loss: 0.0012 - val_dense_18_loss: 1.7779e-04 - val_dense_19_loss: 2.0200e-04 - val_dense_20_loss: 2.0618e-04 - val_dense_21_loss: 1.7622e-04 - val_dense_22_loss: 2.1343e-04 - val_dense_23_loss: 1.8858e-04 - val_dense_18_mse: 1.7779e-04 - val_dense_19_mse: 2.0200e-04 - val_dense_20_mse: 2.0618e-04 - val_dense_21_mse: 1.7622e-04 - val_dense_22_mse: 2.1343e-04 - val_dense_23_mse: 1.8858e-04\n",
      "Epoch 36/70\n",
      "47/47 [==============================] - 3s 62ms/step - loss: 2.6659e-04 - dense_18_loss: 4.0765e-05 - dense_19_loss: 4.5761e-05 - dense_20_loss: 4.2256e-05 - dense_21_loss: 4.9269e-05 - dense_22_loss: 4.2478e-05 - dense_23_loss: 4.6063e-05 - dense_18_mse: 4.0765e-05 - dense_19_mse: 4.5761e-05 - dense_20_mse: 4.2256e-05 - dense_21_mse: 4.9269e-05 - dense_22_mse: 4.2478e-05 - dense_23_mse: 4.6063e-05 - val_loss: 0.0012 - val_dense_18_loss: 1.8092e-04 - val_dense_19_loss: 2.0049e-04 - val_dense_20_loss: 2.0062e-04 - val_dense_21_loss: 1.7493e-04 - val_dense_22_loss: 2.0420e-04 - val_dense_23_loss: 2.0553e-04 - val_dense_18_mse: 1.8092e-04 - val_dense_19_mse: 2.0049e-04 - val_dense_20_mse: 2.0062e-04 - val_dense_21_mse: 1.7493e-04 - val_dense_22_mse: 2.0420e-04 - val_dense_23_mse: 2.0553e-04\n",
      "Epoch 37/70\n",
      "47/47 [==============================] - 3s 68ms/step - loss: 2.5415e-04 - dense_18_loss: 3.9439e-05 - dense_19_loss: 4.4580e-05 - dense_20_loss: 3.9054e-05 - dense_21_loss: 4.6299e-05 - dense_22_loss: 3.9849e-05 - dense_23_loss: 4.4933e-05 - dense_18_mse: 3.9439e-05 - dense_19_mse: 4.4580e-05 - dense_20_mse: 3.9054e-05 - dense_21_mse: 4.6299e-05 - dense_22_mse: 3.9849e-05 - dense_23_mse: 4.4933e-05 - val_loss: 0.0010 - val_dense_18_loss: 1.8363e-04 - val_dense_19_loss: 1.8029e-04 - val_dense_20_loss: 1.7010e-04 - val_dense_21_loss: 1.9091e-04 - val_dense_22_loss: 1.6697e-04 - val_dense_23_loss: 1.5776e-04 - val_dense_18_mse: 1.8363e-04 - val_dense_19_mse: 1.8029e-04 - val_dense_20_mse: 1.7010e-04 - val_dense_21_mse: 1.9091e-04 - val_dense_22_mse: 1.6697e-04 - val_dense_23_mse: 1.5776e-04\n",
      "Epoch 38/70\n",
      "47/47 [==============================] - 3s 65ms/step - loss: 2.4303e-04 - dense_18_loss: 3.8316e-05 - dense_19_loss: 4.1080e-05 - dense_20_loss: 3.8513e-05 - dense_21_loss: 4.4691e-05 - dense_22_loss: 3.7839e-05 - dense_23_loss: 4.2594e-05 - dense_18_mse: 3.8316e-05 - dense_19_mse: 4.1080e-05 - dense_20_mse: 3.8513e-05 - dense_21_mse: 4.4691e-05 - dense_22_mse: 3.7839e-05 - dense_23_mse: 4.2594e-05 - val_loss: 0.0012 - val_dense_18_loss: 1.8422e-04 - val_dense_19_loss: 1.9448e-04 - val_dense_20_loss: 2.1546e-04 - val_dense_21_loss: 1.9356e-04 - val_dense_22_loss: 1.9516e-04 - val_dense_23_loss: 1.9995e-04 - val_dense_18_mse: 1.8422e-04 - val_dense_19_mse: 1.9448e-04 - val_dense_20_mse: 2.1546e-04 - val_dense_21_mse: 1.9356e-04 - val_dense_22_mse: 1.9516e-04 - val_dense_23_mse: 1.9995e-04\n",
      "Epoch 39/70\n",
      "47/47 [==============================] - 3s 62ms/step - loss: 2.4965e-04 - dense_18_loss: 4.0219e-05 - dense_19_loss: 4.0789e-05 - dense_20_loss: 3.9317e-05 - dense_21_loss: 4.4013e-05 - dense_22_loss: 3.9813e-05 - dense_23_loss: 4.5502e-05 - dense_18_mse: 4.0220e-05 - dense_19_mse: 4.0789e-05 - dense_20_mse: 3.9317e-05 - dense_21_mse: 4.4013e-05 - dense_22_mse: 3.9813e-05 - dense_23_mse: 4.5502e-05 - val_loss: 0.0011 - val_dense_18_loss: 1.8888e-04 - val_dense_19_loss: 1.8422e-04 - val_dense_20_loss: 1.9120e-04 - val_dense_21_loss: 1.8655e-04 - val_dense_22_loss: 1.7907e-04 - val_dense_23_loss: 1.9160e-04 - val_dense_18_mse: 1.8888e-04 - val_dense_19_mse: 1.8422e-04 - val_dense_20_mse: 1.9120e-04 - val_dense_21_mse: 1.8655e-04 - val_dense_22_mse: 1.7907e-04 - val_dense_23_mse: 1.9160e-04\n",
      "Epoch 40/70\n",
      "47/47 [==============================] - 3s 62ms/step - loss: 2.3225e-04 - dense_18_loss: 3.6515e-05 - dense_19_loss: 4.0057e-05 - dense_20_loss: 3.5532e-05 - dense_21_loss: 4.0920e-05 - dense_22_loss: 3.7745e-05 - dense_23_loss: 4.1481e-05 - dense_18_mse: 3.6515e-05 - dense_19_mse: 4.0057e-05 - dense_20_mse: 3.5532e-05 - dense_21_mse: 4.0920e-05 - dense_22_mse: 3.7745e-05 - dense_23_mse: 4.1481e-05 - val_loss: 0.0011 - val_dense_18_loss: 1.8730e-04 - val_dense_19_loss: 1.7538e-04 - val_dense_20_loss: 1.8848e-04 - val_dense_21_loss: 1.7554e-04 - val_dense_22_loss: 2.0057e-04 - val_dense_23_loss: 1.8120e-04 - val_dense_18_mse: 1.8730e-04 - val_dense_19_mse: 1.7538e-04 - val_dense_20_mse: 1.8848e-04 - val_dense_21_mse: 1.7554e-04 - val_dense_22_mse: 2.0057e-04 - val_dense_23_mse: 1.8120e-04\n",
      "Epoch 41/70\n"
     ]
    },
    {
     "name": "stdout",
     "output_type": "stream",
     "text": [
      "47/47 [==============================] - 3s 63ms/step - loss: 2.2572e-04 - dense_18_loss: 3.6114e-05 - dense_19_loss: 3.9337e-05 - dense_20_loss: 3.3234e-05 - dense_21_loss: 3.8414e-05 - dense_22_loss: 3.7153e-05 - dense_23_loss: 4.1473e-05 - dense_18_mse: 3.6114e-05 - dense_19_mse: 3.9337e-05 - dense_20_mse: 3.3234e-05 - dense_21_mse: 3.8414e-05 - dense_22_mse: 3.7153e-05 - dense_23_mse: 4.1473e-05 - val_loss: 0.0011 - val_dense_18_loss: 1.7613e-04 - val_dense_19_loss: 1.9152e-04 - val_dense_20_loss: 1.7051e-04 - val_dense_21_loss: 1.6779e-04 - val_dense_22_loss: 1.6999e-04 - val_dense_23_loss: 1.9875e-04 - val_dense_18_mse: 1.7613e-04 - val_dense_19_mse: 1.9152e-04 - val_dense_20_mse: 1.7051e-04 - val_dense_21_mse: 1.6779e-04 - val_dense_22_mse: 1.6999e-04 - val_dense_23_mse: 1.9875e-04\n",
      "Epoch 42/70\n",
      "47/47 [==============================] - 3s 65ms/step - loss: 2.0522e-04 - dense_18_loss: 3.3340e-05 - dense_19_loss: 3.4388e-05 - dense_20_loss: 3.1559e-05 - dense_21_loss: 3.5044e-05 - dense_22_loss: 3.2936e-05 - dense_23_loss: 3.7952e-05 - dense_18_mse: 3.3340e-05 - dense_19_mse: 3.4388e-05 - dense_20_mse: 3.1559e-05 - dense_21_mse: 3.5044e-05 - dense_22_mse: 3.2936e-05 - dense_23_mse: 3.7952e-05 - val_loss: 9.8801e-04 - val_dense_18_loss: 1.7117e-04 - val_dense_19_loss: 1.6373e-04 - val_dense_20_loss: 1.7364e-04 - val_dense_21_loss: 1.5430e-04 - val_dense_22_loss: 1.6358e-04 - val_dense_23_loss: 1.6161e-04 - val_dense_18_mse: 1.7117e-04 - val_dense_19_mse: 1.6373e-04 - val_dense_20_mse: 1.7363e-04 - val_dense_21_mse: 1.5430e-04 - val_dense_22_mse: 1.6358e-04 - val_dense_23_mse: 1.6161e-04\n",
      "Epoch 43/70\n",
      "47/47 [==============================] - 3s 65ms/step - loss: 2.0736e-04 - dense_18_loss: 3.3013e-05 - dense_19_loss: 3.3925e-05 - dense_20_loss: 3.1936e-05 - dense_21_loss: 3.5806e-05 - dense_22_loss: 3.5258e-05 - dense_23_loss: 3.7425e-05 - dense_18_mse: 3.3013e-05 - dense_19_mse: 3.3925e-05 - dense_20_mse: 3.1936e-05 - dense_21_mse: 3.5806e-05 - dense_22_mse: 3.5258e-05 - dense_23_mse: 3.7425e-05 - val_loss: 0.0010 - val_dense_18_loss: 1.7227e-04 - val_dense_19_loss: 1.8246e-04 - val_dense_20_loss: 1.6926e-04 - val_dense_21_loss: 1.7762e-04 - val_dense_22_loss: 1.7584e-04 - val_dense_23_loss: 1.6921e-04 - val_dense_18_mse: 1.7227e-04 - val_dense_19_mse: 1.8246e-04 - val_dense_20_mse: 1.6926e-04 - val_dense_21_mse: 1.7762e-04 - val_dense_22_mse: 1.7584e-04 - val_dense_23_mse: 1.6921e-04\n",
      "Epoch 44/70\n",
      "47/47 [==============================] - 3s 63ms/step - loss: 2.0132e-04 - dense_18_loss: 3.2972e-05 - dense_19_loss: 3.3135e-05 - dense_20_loss: 3.0213e-05 - dense_21_loss: 3.5834e-05 - dense_22_loss: 3.3613e-05 - dense_23_loss: 3.5558e-05 - dense_18_mse: 3.2972e-05 - dense_19_mse: 3.3135e-05 - dense_20_mse: 3.0213e-05 - dense_21_mse: 3.5834e-05 - dense_22_mse: 3.3613e-05 - dense_23_mse: 3.5558e-05 - val_loss: 0.0011 - val_dense_18_loss: 1.7859e-04 - val_dense_19_loss: 1.7926e-04 - val_dense_20_loss: 1.7717e-04 - val_dense_21_loss: 1.8176e-04 - val_dense_22_loss: 1.7762e-04 - val_dense_23_loss: 1.7283e-04 - val_dense_18_mse: 1.7859e-04 - val_dense_19_mse: 1.7926e-04 - val_dense_20_mse: 1.7717e-04 - val_dense_21_mse: 1.8176e-04 - val_dense_22_mse: 1.7762e-04 - val_dense_23_mse: 1.7283e-04\n",
      "Epoch 45/70\n",
      "47/47 [==============================] - 3s 62ms/step - loss: 2.0208e-04 - dense_18_loss: 3.2571e-05 - dense_19_loss: 3.3114e-05 - dense_20_loss: 3.0406e-05 - dense_21_loss: 3.6078e-05 - dense_22_loss: 3.3702e-05 - dense_23_loss: 3.6208e-05 - dense_18_mse: 3.2571e-05 - dense_19_mse: 3.3114e-05 - dense_20_mse: 3.0406e-05 - dense_21_mse: 3.6078e-05 - dense_22_mse: 3.3702e-05 - dense_23_mse: 3.6208e-05 - val_loss: 0.0010 - val_dense_18_loss: 1.6631e-04 - val_dense_19_loss: 1.6135e-04 - val_dense_20_loss: 1.7186e-04 - val_dense_21_loss: 1.5537e-04 - val_dense_22_loss: 1.8831e-04 - val_dense_23_loss: 1.9666e-04 - val_dense_18_mse: 1.6631e-04 - val_dense_19_mse: 1.6135e-04 - val_dense_20_mse: 1.7186e-04 - val_dense_21_mse: 1.5537e-04 - val_dense_22_mse: 1.8831e-04 - val_dense_23_mse: 1.9666e-04\n",
      "Epoch 46/70\n",
      "47/47 [==============================] - 3s 68ms/step - loss: 1.9785e-04 - dense_18_loss: 3.1934e-05 - dense_19_loss: 3.1239e-05 - dense_20_loss: 3.0334e-05 - dense_21_loss: 3.5000e-05 - dense_22_loss: 3.3402e-05 - dense_23_loss: 3.5940e-05 - dense_18_mse: 3.1934e-05 - dense_19_mse: 3.1239e-05 - dense_20_mse: 3.0334e-05 - dense_21_mse: 3.5000e-05 - dense_22_mse: 3.3402e-05 - dense_23_mse: 3.5940e-05 - val_loss: 0.0011 - val_dense_18_loss: 1.7579e-04 - val_dense_19_loss: 1.8160e-04 - val_dense_20_loss: 1.9421e-04 - val_dense_21_loss: 1.8559e-04 - val_dense_22_loss: 1.8585e-04 - val_dense_23_loss: 1.9281e-04 - val_dense_18_mse: 1.7579e-04 - val_dense_19_mse: 1.8160e-04 - val_dense_20_mse: 1.9421e-04 - val_dense_21_mse: 1.8559e-04 - val_dense_22_mse: 1.8585e-04 - val_dense_23_mse: 1.9281e-04\n",
      "Epoch 47/70\n",
      "47/47 [==============================] - 3s 66ms/step - loss: 1.8117e-04 - dense_18_loss: 3.0377e-05 - dense_19_loss: 2.9129e-05 - dense_20_loss: 2.8106e-05 - dense_21_loss: 3.1950e-05 - dense_22_loss: 2.9330e-05 - dense_23_loss: 3.2281e-05 - dense_18_mse: 3.0377e-05 - dense_19_mse: 2.9129e-05 - dense_20_mse: 2.8106e-05 - dense_21_mse: 3.1950e-05 - dense_22_mse: 2.9330e-05 - dense_23_mse: 3.2281e-05 - val_loss: 0.0010 - val_dense_18_loss: 1.7118e-04 - val_dense_19_loss: 1.7140e-04 - val_dense_20_loss: 1.6402e-04 - val_dense_21_loss: 1.6603e-04 - val_dense_22_loss: 1.7586e-04 - val_dense_23_loss: 1.8169e-04 - val_dense_18_mse: 1.7118e-04 - val_dense_19_mse: 1.7140e-04 - val_dense_20_mse: 1.6402e-04 - val_dense_21_mse: 1.6603e-04 - val_dense_22_mse: 1.7586e-04 - val_dense_23_mse: 1.8169e-04\n",
      "Epoch 48/70\n",
      "47/47 [==============================] - 3s 66ms/step - loss: 1.9313e-04 - dense_18_loss: 3.2713e-05 - dense_19_loss: 3.2165e-05 - dense_20_loss: 2.9917e-05 - dense_21_loss: 3.1953e-05 - dense_22_loss: 3.1855e-05 - dense_23_loss: 3.4522e-05 - dense_18_mse: 3.2713e-05 - dense_19_mse: 3.2165e-05 - dense_20_mse: 2.9917e-05 - dense_21_mse: 3.1953e-05 - dense_22_mse: 3.1855e-05 - dense_23_mse: 3.4522e-05 - val_loss: 9.9454e-04 - val_dense_18_loss: 1.6468e-04 - val_dense_19_loss: 1.6971e-04 - val_dense_20_loss: 1.6180e-04 - val_dense_21_loss: 1.5755e-04 - val_dense_22_loss: 1.6206e-04 - val_dense_23_loss: 1.7874e-04 - val_dense_18_mse: 1.6468e-04 - val_dense_19_mse: 1.6971e-04 - val_dense_20_mse: 1.6180e-04 - val_dense_21_mse: 1.5755e-04 - val_dense_22_mse: 1.6206e-04 - val_dense_23_mse: 1.7874e-04\n",
      "Epoch 49/70\n",
      "47/47 [==============================] - 3s 65ms/step - loss: 1.8904e-04 - dense_18_loss: 3.2332e-05 - dense_19_loss: 3.2365e-05 - dense_20_loss: 2.8731e-05 - dense_21_loss: 3.1720e-05 - dense_22_loss: 3.0293e-05 - dense_23_loss: 3.3595e-05 - dense_18_mse: 3.2332e-05 - dense_19_mse: 3.2365e-05 - dense_20_mse: 2.8731e-05 - dense_21_mse: 3.1720e-05 - dense_22_mse: 3.0293e-05 - dense_23_mse: 3.3595e-05 - val_loss: 0.0011 - val_dense_18_loss: 1.7243e-04 - val_dense_19_loss: 1.7278e-04 - val_dense_20_loss: 1.6981e-04 - val_dense_21_loss: 1.7273e-04 - val_dense_22_loss: 1.8373e-04 - val_dense_23_loss: 1.8145e-04 - val_dense_18_mse: 1.7243e-04 - val_dense_19_mse: 1.7278e-04 - val_dense_20_mse: 1.6981e-04 - val_dense_21_mse: 1.7273e-04 - val_dense_22_mse: 1.8373e-04 - val_dense_23_mse: 1.8145e-04\n",
      "Epoch 50/70\n",
      "47/47 [==============================] - 3s 62ms/step - loss: 1.8551e-04 - dense_18_loss: 3.0447e-05 - dense_19_loss: 3.0124e-05 - dense_20_loss: 2.8251e-05 - dense_21_loss: 3.2321e-05 - dense_22_loss: 3.0174e-05 - dense_23_loss: 3.4197e-05 - dense_18_mse: 3.0447e-05 - dense_19_mse: 3.0124e-05 - dense_20_mse: 2.8251e-05 - dense_21_mse: 3.2321e-05 - dense_22_mse: 3.0174e-05 - dense_23_mse: 3.4197e-05 - val_loss: 0.0010 - val_dense_18_loss: 1.6234e-04 - val_dense_19_loss: 1.7934e-04 - val_dense_20_loss: 1.6967e-04 - val_dense_21_loss: 1.7144e-04 - val_dense_22_loss: 1.6387e-04 - val_dense_23_loss: 1.7975e-04 - val_dense_18_mse: 1.6234e-04 - val_dense_19_mse: 1.7934e-04 - val_dense_20_mse: 1.6967e-04 - val_dense_21_mse: 1.7144e-04 - val_dense_22_mse: 1.6387e-04 - val_dense_23_mse: 1.7975e-04\n",
      "Epoch 51/70\n",
      "47/47 [==============================] - 3s 62ms/step - loss: 1.7305e-04 - dense_18_loss: 2.7931e-05 - dense_19_loss: 2.7875e-05 - dense_20_loss: 2.7585e-05 - dense_21_loss: 2.9239e-05 - dense_22_loss: 2.7982e-05 - dense_23_loss: 3.2434e-05 - dense_18_mse: 2.7931e-05 - dense_19_mse: 2.7875e-05 - dense_20_mse: 2.7585e-05 - dense_21_mse: 2.9239e-05 - dense_22_mse: 2.7982e-05 - dense_23_mse: 3.2434e-05 - val_loss: 0.0010 - val_dense_18_loss: 1.7333e-04 - val_dense_19_loss: 1.6225e-04 - val_dense_20_loss: 1.7331e-04 - val_dense_21_loss: 1.6335e-04 - val_dense_22_loss: 1.6463e-04 - val_dense_23_loss: 1.8175e-04 - val_dense_18_mse: 1.7333e-04 - val_dense_19_mse: 1.6225e-04 - val_dense_20_mse: 1.7331e-04 - val_dense_21_mse: 1.6335e-04 - val_dense_22_mse: 1.6463e-04 - val_dense_23_mse: 1.8175e-04\n",
      "Epoch 52/70\n",
      "47/47 [==============================] - 3s 62ms/step - loss: 1.7331e-04 - dense_18_loss: 2.9133e-05 - dense_19_loss: 2.8083e-05 - dense_20_loss: 2.7694e-05 - dense_21_loss: 2.8845e-05 - dense_22_loss: 2.8185e-05 - dense_23_loss: 3.1368e-05 - dense_18_mse: 2.9133e-05 - dense_19_mse: 2.8083e-05 - dense_20_mse: 2.7694e-05 - dense_21_mse: 2.8844e-05 - dense_22_mse: 2.8185e-05 - dense_23_mse: 3.1368e-05 - val_loss: 0.0011 - val_dense_18_loss: 1.7291e-04 - val_dense_19_loss: 1.8003e-04 - val_dense_20_loss: 1.8754e-04 - val_dense_21_loss: 1.7344e-04 - val_dense_22_loss: 1.7230e-04 - val_dense_23_loss: 1.8363e-04 - val_dense_18_mse: 1.7291e-04 - val_dense_19_mse: 1.8003e-04 - val_dense_20_mse: 1.8754e-04 - val_dense_21_mse: 1.7344e-04 - val_dense_22_mse: 1.7230e-04 - val_dense_23_mse: 1.8363e-04\n",
      "Epoch 00052: early stopping\n",
      "Minutes elapsed: 2.508692\n"
     ]
    }
   ],
   "source": [
    "t0 = time.time()\n",
    "# Train the model\n",
    "callbacks = [ModelCheckpoint(save_best_weights, monitor='val_loss', save_best_only=True, mode='auto'),\n",
    "             EarlyStopping(monitor='val_loss', patience=10, verbose=1, mode='auto')\n",
    "             #,tensorboard\n",
    "            ]\n",
    "num_epochs = 70\n",
    "\n",
    "history = model.fit_generator(generator=training_generator,\n",
    "                              validation_data=validation_generator,\n",
    "                              epochs=num_epochs,\n",
    "                              verbose=1,\n",
    "                              callbacks=callbacks)\n",
    "t1 = time.time()\n",
    "print(\"Minutes elapsed: %f\" % ((t1 - t0) / 60.))"
   ]
  },
  {
   "cell_type": "code",
   "execution_count": 113,
   "metadata": {
    "colab": {},
    "colab_type": "code",
    "id": "xtSAkc4Pc7xb"
   },
   "outputs": [],
   "source": [
    "# save the last weights \n",
    "model.save_weights(save_last_weights)"
   ]
  },
  {
   "cell_type": "code",
   "execution_count": 114,
   "metadata": {
    "colab": {},
    "colab_type": "code",
    "id": "DxjLnclCc7xP"
   },
   "outputs": [],
   "source": [
    "# Aggregate the summary statistics\n",
    "summary_stats = pd.DataFrame({'epoch': [ i + 1 for i in history.epoch ],\n",
    "                              #'train_acc': history.history['mean_squared_error'],\n",
    "                              #'valid_acc': history.history['val_mean_squared_error'],\n",
    "                              'train_loss': history.history['loss'],\n",
    "                              'valid_loss': history.history['val_loss']})"
   ]
  },
  {
   "cell_type": "code",
   "execution_count": 115,
   "metadata": {
    "colab": {},
    "colab_type": "code",
    "id": "SzVb0B9fc7xS"
   },
   "outputs": [],
   "source": [
    "# Aggregate the summary statistics\n",
    "summary_stats = pd.DataFrame({'epoch': [ i + 1 for i in history.epoch ],\n",
    "                              #'train_acc': history.history['mean_squared_error'],\n",
    "                              #'valid_acc': history.history['val_mean_squared_error'],\n",
    "                              'train_loss': history.history['loss'],\n",
    "                              'valid_loss': history.history['val_loss']})"
   ]
  },
  {
   "cell_type": "code",
   "execution_count": 116,
   "metadata": {
    "colab": {},
    "colab_type": "code",
    "id": "up8gwtvuc7xW"
   },
   "outputs": [],
   "source": [
    "summary_stats.to_csv(save_summary_stats)    "
   ]
  },
  {
   "cell_type": "code",
   "execution_count": 117,
   "metadata": {
    "colab": {
     "base_uri": "https://localhost:8080/",
     "height": 283
    },
    "colab_type": "code",
    "executionInfo": {
     "elapsed": 1664,
     "status": "ok",
     "timestamp": 1584717116478,
     "user": {
      "displayName": "Manuel López Martín",
      "photoUrl": "https://lh3.googleusercontent.com/a-/AOh14Gjkbx9ZcgNrx28G-E9vmuDH73kYDfRwYT7t4SrOSQytLxtAwwl3I1K9yrMCXDmpZDNRYJMtwAh1zUlDFBeKxUr27pGfkbEuB8jW7lZ493uXzPvtAaC789hDEYxeLTuYOFvHe-CvV2lEUxJ-VQLYi-j3sjekrCtwd-fTarbdYre3bTLHf9qgyLR3sZDRdiYD5IIGnePAsdQ9BIuGb6m4UTckK_xLzJgUTGemEM4_uRpl_eTir9imsyDARB5cNolutC5oZ0iMtKKJbCSYpV3aOTZ28OfpEdOfCEXKGAfl8VA5Pi5V-p60C5ZwEu856OwlJv7ZoHH2ZhQKmEYkYHTn7EyTdCrJ5Wg7VE_RH5I7zuIbBOsOgXRaR38zr9XRYFuL_zj2DYkQ4u95CqyClNNV6uRBFCj9FPpbqwjUT_2weo_47cJP73uX3TByD16ShG8kOrPjIxMg8KatQnF6UjA4iySodg_LXbsWXBNja5pnBt4EEep476uXgMytX0nLvN-7i4DeJINnM2Td0y7F5Bf9sVkAC5mRULjppb8fao84LSFAxoHLIXl4BvMY6tKT6ywy54zbmr99YPuUqXt2GZ0TsSBOPXlYUXz_jAsloMrqeSgxGDnsm1tBrvbECnnBELENi9r9PUE6lTJ5Fn3pXDYIJ2RJcGT9sebJo-QjsOlAl8nIbydH8wH_EqPmWIncWhFSfpv0mue8KLsNEE5QV6d5zV4CNioVdf34uezwiG4zeLzlJ0VZmf5ByQXWD1FoiZKC7vOBZw=s64",
      "userId": "11336038813033628796"
     },
     "user_tz": -60
    },
    "id": "7HknOGkAc7xY",
    "outputId": "6589bd87-f2d1-49e8-d121-aae5f5d3fad7"
   },
   "outputs": [
    {
     "data": {
      "image/png": "[encoded data removed]",
      "text/plain": [
       "<Figure size 432x288 with 1 Axes>"
      ]
     },
     "metadata": {
      "needs_background": "light"
     },
     "output_type": "display_data"
    },
    {
     "name": "stdout",
     "output_type": "stream",
     "text": [
      "Minimum val_loss at epoch 42 = 0.0010\n"
     ]
    }
   ],
   "source": [
    "plt.plot(summary_stats.train_loss, 'b') # blue\n",
    "plt.plot(summary_stats.valid_loss, 'g') # green\n",
    "plt.show()\n",
    "\n",
    "# Find the min validation loss during the training\n",
    "min_loss, idx = min((loss, idx) for (idx, loss) in enumerate(history.history['val_loss']))\n",
    "print('Minimum val_loss at epoch', '{:d}'.format(idx+1), '=', '{:.4f}'.format(min_loss))\n",
    "min_loss = round(min_loss, 4)\n"
   ]
  },
  {
   "cell_type": "markdown",
   "metadata": {
    "colab_type": "text",
    "id": "OMYUDY04c7xe"
   },
   "source": [
    "## 5.3 Inference"
   ]
  },
  {
   "cell_type": "code",
   "execution_count": 68,
   "metadata": {
    "colab": {
     "base_uri": "https://localhost:8080/",
     "height": 52
    },
    "colab_type": "code",
    "executionInfo": {
     "elapsed": 6905,
     "status": "ok",
     "timestamp": 1584717121741,
     "user": {
      "displayName": "Manuel López Martín",
      "photoUrl": "https://lh3.googleusercontent.com/a-/AOh14Gjkbx9ZcgNrx28G-E9vmuDH73kYDfRwYT7t4SrOSQytLxtAwwl3I1K9yrMCXDmpZDNRYJMtwAh1zUlDFBeKxUr27pGfkbEuB8jW7lZ493uXzPvtAaC789hDEYxeLTuYOFvHe-CvV2lEUxJ-VQLYi-j3sjekrCtwd-fTarbdYre3bTLHf9qgyLR3sZDRdiYD5IIGnePAsdQ9BIuGb6m4UTckK_xLzJgUTGemEM4_uRpl_eTir9imsyDARB5cNolutC5oZ0iMtKKJbCSYpV3aOTZ28OfpEdOfCEXKGAfl8VA5Pi5V-p60C5ZwEu856OwlJv7ZoHH2ZhQKmEYkYHTn7EyTdCrJ5Wg7VE_RH5I7zuIbBOsOgXRaR38zr9XRYFuL_zj2DYkQ4u95CqyClNNV6uRBFCj9FPpbqwjUT_2weo_47cJP73uX3TByD16ShG8kOrPjIxMg8KatQnF6UjA4iySodg_LXbsWXBNja5pnBt4EEep476uXgMytX0nLvN-7i4DeJINnM2Td0y7F5Bf9sVkAC5mRULjppb8fao84LSFAxoHLIXl4BvMY6tKT6ywy54zbmr99YPuUqXt2GZ0TsSBOPXlYUXz_jAsloMrqeSgxGDnsm1tBrvbECnnBELENi9r9PUE6lTJ5Fn3pXDYIJ2RJcGT9sebJo-QjsOlAl8nIbydH8wH_EqPmWIncWhFSfpv0mue8KLsNEE5QV6d5zV4CNioVdf34uezwiG4zeLzlJ0VZmf5ByQXWD1FoiZKC7vOBZw=s64",
      "userId": "11336038813033628796"
     },
     "user_tz": -60
    },
    "id": "blumb9kgc7xf",
    "outputId": "7b98ca85-36b3-4235-80ca-2343532f06a9"
   },
   "outputs": [
    {
     "name": "stdout",
     "output_type": "stream",
     "text": [
      "36/36 [==============================] - 0s 10ms/step\n",
      "Minutes elapsed: 0.006948\n"
     ]
    }
   ],
   "source": [
    "t0 = time.time()\n",
    "\n",
    "model.load_weights(save_best_weights)\n",
    "#Ytest_hat_fl = model.predict(test_generator, max_queue_size=10, workers=6, use_multiprocessing=True, verbose=1)  \n",
    "Ytest_hat_fl = model.predict(test_generator, verbose=1) \n",
    "    \n",
    "t1 = time.time()\n",
    "print(\"Minutes elapsed: %f\" % ((t1 - t0) / 60.))"
   ]
  },
  {
   "cell_type": "code",
   "execution_count": 69,
   "metadata": {
    "colab": {
     "base_uri": "https://localhost:8080/",
     "height": 307
    },
    "colab_type": "code",
    "executionInfo": {
     "elapsed": 24248,
     "status": "ok",
     "timestamp": 1584717139138,
     "user": {
      "displayName": "Manuel López Martín",
      "photoUrl": "https://lh3.googleusercontent.com/a-/AOh14Gjkbx9ZcgNrx28G-E9vmuDH73kYDfRwYT7t4SrOSQytLxtAwwl3I1K9yrMCXDmpZDNRYJMtwAh1zUlDFBeKxUr27pGfkbEuB8jW7lZ493uXzPvtAaC789hDEYxeLTuYOFvHe-CvV2lEUxJ-VQLYi-j3sjekrCtwd-fTarbdYre3bTLHf9qgyLR3sZDRdiYD5IIGnePAsdQ9BIuGb6m4UTckK_xLzJgUTGemEM4_uRpl_eTir9imsyDARB5cNolutC5oZ0iMtKKJbCSYpV3aOTZ28OfpEdOfCEXKGAfl8VA5Pi5V-p60C5ZwEu856OwlJv7ZoHH2ZhQKmEYkYHTn7EyTdCrJ5Wg7VE_RH5I7zuIbBOsOgXRaR38zr9XRYFuL_zj2DYkQ4u95CqyClNNV6uRBFCj9FPpbqwjUT_2weo_47cJP73uX3TByD16ShG8kOrPjIxMg8KatQnF6UjA4iySodg_LXbsWXBNja5pnBt4EEep476uXgMytX0nLvN-7i4DeJINnM2Td0y7F5Bf9sVkAC5mRULjppb8fao84LSFAxoHLIXl4BvMY6tKT6ywy54zbmr99YPuUqXt2GZ0TsSBOPXlYUXz_jAsloMrqeSgxGDnsm1tBrvbECnnBELENi9r9PUE6lTJ5Fn3pXDYIJ2RJcGT9sebJo-QjsOlAl8nIbydH8wH_EqPmWIncWhFSfpv0mue8KLsNEE5QV6d5zV4CNioVdf34uezwiG4zeLzlJ0VZmf5ByQXWD1FoiZKC7vOBZw=s64",
      "userId": "11336038813033628796"
     },
     "user_tz": -60
    },
    "id": "B9mTBBvgQo_y",
    "outputId": "03a8acd4-1403-47af-8372-bd88eef46578"
   },
   "outputs": [
    {
     "name": "stdout",
     "output_type": "stream",
     "text": [
      "Performance measures on Test data, per sec\n"
     ]
    },
    {
     "data": {
      "text/html": [
       "<div>\n",
       "<style scoped>\n",
       "    .dataframe tbody tr th:only-of-type {\n",
       "        vertical-align: middle;\n",
       "    }\n",
       "\n",
       "    .dataframe tbody tr th {\n",
       "        vertical-align: top;\n",
       "    }\n",
       "\n",
       "    .dataframe thead th {\n",
       "        text-align: right;\n",
       "    }\n",
       "</style>\n",
       "<table border=\"1\" class=\"dataframe\">\n",
       "  <thead>\n",
       "    <tr style=\"text-align: right;\">\n",
       "      <th></th>\n",
       "      <th>0</th>\n",
       "      <th>1</th>\n",
       "      <th>2</th>\n",
       "      <th>3</th>\n",
       "      <th>4</th>\n",
       "      <th>5</th>\n",
       "      <th>6</th>\n",
       "      <th>7</th>\n",
       "      <th>8</th>\n",
       "      <th>9</th>\n",
       "      <th>10</th>\n",
       "      <th>11</th>\n",
       "      <th>12</th>\n",
       "      <th>13</th>\n",
       "      <th>14</th>\n",
       "      <th>15</th>\n",
       "      <th>16</th>\n",
       "      <th>17</th>\n",
       "      <th>18</th>\n",
       "      <th>19</th>\n",
       "      <th>20</th>\n",
       "      <th>21</th>\n",
       "      <th>22</th>\n",
       "      <th>23</th>\n",
       "      <th>24</th>\n",
       "      <th>25</th>\n",
       "      <th>26</th>\n",
       "      <th>27</th>\n",
       "      <th>28</th>\n",
       "      <th>29</th>\n",
       "      <th>30</th>\n",
       "      <th>31</th>\n",
       "      <th>32</th>\n",
       "      <th>33</th>\n",
       "      <th>34</th>\n",
       "      <th>35</th>\n",
       "      <th>36</th>\n",
       "      <th>37</th>\n",
       "      <th>38</th>\n",
       "      <th>39</th>\n",
       "      <th>40</th>\n",
       "      <th>41</th>\n",
       "      <th>42</th>\n",
       "      <th>43</th>\n",
       "      <th>44</th>\n",
       "      <th>45</th>\n",
       "      <th>46</th>\n",
       "      <th>47</th>\n",
       "      <th>48</th>\n",
       "      <th>49</th>\n",
       "      <th>...</th>\n",
       "      <th>130</th>\n",
       "      <th>131</th>\n",
       "      <th>132</th>\n",
       "      <th>133</th>\n",
       "      <th>134</th>\n",
       "      <th>135</th>\n",
       "      <th>136</th>\n",
       "      <th>137</th>\n",
       "      <th>138</th>\n",
       "      <th>139</th>\n",
       "      <th>140</th>\n",
       "      <th>141</th>\n",
       "      <th>142</th>\n",
       "      <th>143</th>\n",
       "      <th>144</th>\n",
       "      <th>145</th>\n",
       "      <th>146</th>\n",
       "      <th>147</th>\n",
       "      <th>148</th>\n",
       "      <th>149</th>\n",
       "      <th>150</th>\n",
       "      <th>151</th>\n",
       "      <th>152</th>\n",
       "      <th>153</th>\n",
       "      <th>154</th>\n",
       "      <th>155</th>\n",
       "      <th>156</th>\n",
       "      <th>157</th>\n",
       "      <th>158</th>\n",
       "      <th>159</th>\n",
       "      <th>160</th>\n",
       "      <th>161</th>\n",
       "      <th>162</th>\n",
       "      <th>163</th>\n",
       "      <th>164</th>\n",
       "      <th>165</th>\n",
       "      <th>166</th>\n",
       "      <th>167</th>\n",
       "      <th>168</th>\n",
       "      <th>169</th>\n",
       "      <th>170</th>\n",
       "      <th>171</th>\n",
       "      <th>172</th>\n",
       "      <th>173</th>\n",
       "      <th>174</th>\n",
       "      <th>175</th>\n",
       "      <th>176</th>\n",
       "      <th>177</th>\n",
       "      <th>178</th>\n",
       "      <th>179</th>\n",
       "    </tr>\n",
       "  </thead>\n",
       "  <tbody>\n",
       "    <tr>\n",
       "      <th>MSE</th>\n",
       "      <td>0.000140128</td>\n",
       "      <td>0.000164667</td>\n",
       "      <td>0.000195106</td>\n",
       "      <td>0.000179067</td>\n",
       "      <td>0.000165188</td>\n",
       "      <td>0.000172479</td>\n",
       "      <td>0.000182627</td>\n",
       "      <td>0.000186797</td>\n",
       "      <td>0.000151437</td>\n",
       "      <td>0.000156333</td>\n",
       "      <td>0.000169533</td>\n",
       "      <td>0.000194842</td>\n",
       "      <td>0.000185784</td>\n",
       "      <td>0.000132649</td>\n",
       "      <td>0.000152035</td>\n",
       "      <td>0.000151283</td>\n",
       "      <td>0.00020031</td>\n",
       "      <td>0.000187626</td>\n",
       "      <td>0.000153588</td>\n",
       "      <td>0.000139431</td>\n",
       "      <td>0.000168489</td>\n",
       "      <td>0.000195151</td>\n",
       "      <td>0.000175524</td>\n",
       "      <td>0.000180752</td>\n",
       "      <td>0.000186824</td>\n",
       "      <td>0.000185992</td>\n",
       "      <td>0.00019178</td>\n",
       "      <td>0.00013941</td>\n",
       "      <td>0.000151454</td>\n",
       "      <td>0.000157677</td>\n",
       "      <td>0.000197802</td>\n",
       "      <td>0.000185889</td>\n",
       "      <td>0.000157604</td>\n",
       "      <td>0.000151945</td>\n",
       "      <td>0.000151783</td>\n",
       "      <td>0.000195516</td>\n",
       "      <td>0.000186087</td>\n",
       "      <td>0.000152588</td>\n",
       "      <td>0.000146181</td>\n",
       "      <td>0.000174288</td>\n",
       "      <td>0.000197788</td>\n",
       "      <td>0.000171505</td>\n",
       "      <td>0.000166749</td>\n",
       "      <td>0.000184967</td>\n",
       "      <td>0.000191572</td>\n",
       "      <td>0.000208134</td>\n",
       "      <td>0.000130183</td>\n",
       "      <td>0.000147809</td>\n",
       "      <td>0.000152865</td>\n",
       "      <td>0.000214733</td>\n",
       "      <td>...</td>\n",
       "      <td>0.000198333</td>\n",
       "      <td>0.000169171</td>\n",
       "      <td>0.00016238</td>\n",
       "      <td>0.000179843</td>\n",
       "      <td>0.000193826</td>\n",
       "      <td>0.000197332</td>\n",
       "      <td>0.0001254</td>\n",
       "      <td>0.00014642</td>\n",
       "      <td>0.000152065</td>\n",
       "      <td>0.000219756</td>\n",
       "      <td>0.000187565</td>\n",
       "      <td>0.000156233</td>\n",
       "      <td>0.000144128</td>\n",
       "      <td>0.000154053</td>\n",
       "      <td>0.000194893</td>\n",
       "      <td>0.00018222</td>\n",
       "      <td>0.000157772</td>\n",
       "      <td>0.000157867</td>\n",
       "      <td>0.000181377</td>\n",
       "      <td>0.000189044</td>\n",
       "      <td>0.00016398</td>\n",
       "      <td>0.00016112</td>\n",
       "      <td>0.000171314</td>\n",
       "      <td>0.000195271</td>\n",
       "      <td>0.00018657</td>\n",
       "      <td>0.000123399</td>\n",
       "      <td>0.000146346</td>\n",
       "      <td>0.00015147</td>\n",
       "      <td>0.000210342</td>\n",
       "      <td>0.000188217</td>\n",
       "      <td>0.000155449</td>\n",
       "      <td>0.000140091</td>\n",
       "      <td>0.000167251</td>\n",
       "      <td>0.000195063</td>\n",
       "      <td>0.000179022</td>\n",
       "      <td>0.000166535</td>\n",
       "      <td>0.000174306</td>\n",
       "      <td>0.000183217</td>\n",
       "      <td>0.000187012</td>\n",
       "      <td>0.000150462</td>\n",
       "      <td>0.000155973</td>\n",
       "      <td>0.00016865</td>\n",
       "      <td>0.000195052</td>\n",
       "      <td>0.000186045</td>\n",
       "      <td>0.000134638</td>\n",
       "      <td>0.000152889</td>\n",
       "      <td>0.000151728</td>\n",
       "      <td>0.000199897</td>\n",
       "      <td>0.000187713</td>\n",
       "      <td>0.000153691</td>\n",
       "    </tr>\n",
       "    <tr>\n",
       "      <th>MAE</th>\n",
       "      <td>0.0089809</td>\n",
       "      <td>0.00928648</td>\n",
       "      <td>0.0101163</td>\n",
       "      <td>0.0105421</td>\n",
       "      <td>0.0100652</td>\n",
       "      <td>0.0105975</td>\n",
       "      <td>0.0111428</td>\n",
       "      <td>0.0102385</td>\n",
       "      <td>0.00919895</td>\n",
       "      <td>0.00969179</td>\n",
       "      <td>0.0106896</td>\n",
       "      <td>0.0113396</td>\n",
       "      <td>0.0108693</td>\n",
       "      <td>0.00907321</td>\n",
       "      <td>0.0102402</td>\n",
       "      <td>0.00926381</td>\n",
       "      <td>0.0109895</td>\n",
       "      <td>0.0106763</td>\n",
       "      <td>0.0105432</td>\n",
       "      <td>0.00905104</td>\n",
       "      <td>0.009495</td>\n",
       "      <td>0.00991245</td>\n",
       "      <td>0.0100604</td>\n",
       "      <td>0.0103133</td>\n",
       "      <td>0.0109083</td>\n",
       "      <td>0.0114494</td>\n",
       "      <td>0.0105985</td>\n",
       "      <td>0.00853472</td>\n",
       "      <td>0.00986924</td>\n",
       "      <td>0.0101774</td>\n",
       "      <td>0.010972</td>\n",
       "      <td>0.0105244</td>\n",
       "      <td>0.0102535</td>\n",
       "      <td>0.0101433</td>\n",
       "      <td>0.00914389</td>\n",
       "      <td>0.010709</td>\n",
       "      <td>0.0111656</td>\n",
       "      <td>0.0104936</td>\n",
       "      <td>0.00922925</td>\n",
       "      <td>0.0100723</td>\n",
       "      <td>0.010189</td>\n",
       "      <td>0.00989339</td>\n",
       "      <td>0.0100348</td>\n",
       "      <td>0.010708</td>\n",
       "      <td>0.0118206</td>\n",
       "      <td>0.0114718</td>\n",
       "      <td>0.00864821</td>\n",
       "      <td>0.0102599</td>\n",
       "      <td>0.00947207</td>\n",
       "      <td>0.0111345</td>\n",
       "      <td>...</td>\n",
       "      <td>0.0102796</td>\n",
       "      <td>0.00992828</td>\n",
       "      <td>0.00978958</td>\n",
       "      <td>0.0107473</td>\n",
       "      <td>0.0118092</td>\n",
       "      <td>0.0111008</td>\n",
       "      <td>0.00859164</td>\n",
       "      <td>0.0103026</td>\n",
       "      <td>0.00920139</td>\n",
       "      <td>0.0113369</td>\n",
       "      <td>0.0103508</td>\n",
       "      <td>0.0107952</td>\n",
       "      <td>0.00940269</td>\n",
       "      <td>0.00880372</td>\n",
       "      <td>0.0102144</td>\n",
       "      <td>0.0109732</td>\n",
       "      <td>0.0100965</td>\n",
       "      <td>0.0102378</td>\n",
       "      <td>0.0110116</td>\n",
       "      <td>0.0103342</td>\n",
       "      <td>0.00981589</td>\n",
       "      <td>0.00953274</td>\n",
       "      <td>0.0107861</td>\n",
       "      <td>0.0116799</td>\n",
       "      <td>0.0108965</td>\n",
       "      <td>0.00861098</td>\n",
       "      <td>0.0102908</td>\n",
       "      <td>0.00911689</td>\n",
       "      <td>0.0112734</td>\n",
       "      <td>0.0104795</td>\n",
       "      <td>0.0108221</td>\n",
       "      <td>0.00897897</td>\n",
       "      <td>0.00936878</td>\n",
       "      <td>0.010108</td>\n",
       "      <td>0.0105154</td>\n",
       "      <td>0.0100839</td>\n",
       "      <td>0.0106262</td>\n",
       "      <td>0.0111599</td>\n",
       "      <td>0.0102578</td>\n",
       "      <td>0.00913709</td>\n",
       "      <td>0.00969719</td>\n",
       "      <td>0.0106409</td>\n",
       "      <td>0.0113281</td>\n",
       "      <td>0.0108552</td>\n",
       "      <td>0.00918728</td>\n",
       "      <td>0.0102357</td>\n",
       "      <td>0.00929222</td>\n",
       "      <td>0.010974</td>\n",
       "      <td>0.0107494</td>\n",
       "      <td>0.0105474</td>\n",
       "    </tr>\n",
       "    <tr>\n",
       "      <th>MAD</th>\n",
       "      <td>0.00702738</td>\n",
       "      <td>0.0071315</td>\n",
       "      <td>0.00730091</td>\n",
       "      <td>0.00911663</td>\n",
       "      <td>0.00746193</td>\n",
       "      <td>0.00882647</td>\n",
       "      <td>0.0107832</td>\n",
       "      <td>0.00931847</td>\n",
       "      <td>0.0051562</td>\n",
       "      <td>0.00609127</td>\n",
       "      <td>0.00977958</td>\n",
       "      <td>0.0106466</td>\n",
       "      <td>0.00925389</td>\n",
       "      <td>0.00666877</td>\n",
       "      <td>0.00994076</td>\n",
       "      <td>0.00677471</td>\n",
       "      <td>0.00856664</td>\n",
       "      <td>0.00862282</td>\n",
       "      <td>0.0101677</td>\n",
       "      <td>0.00593896</td>\n",
       "      <td>0.00784002</td>\n",
       "      <td>0.00565848</td>\n",
       "      <td>0.00729488</td>\n",
       "      <td>0.0089291</td>\n",
       "      <td>0.00702371</td>\n",
       "      <td>0.0111332</td>\n",
       "      <td>0.0100519</td>\n",
       "      <td>0.00511461</td>\n",
       "      <td>0.00751347</td>\n",
       "      <td>0.00720732</td>\n",
       "      <td>0.00765387</td>\n",
       "      <td>0.00771029</td>\n",
       "      <td>0.0100261</td>\n",
       "      <td>0.00889039</td>\n",
       "      <td>0.00631059</td>\n",
       "      <td>0.00802154</td>\n",
       "      <td>0.00978449</td>\n",
       "      <td>0.0100428</td>\n",
       "      <td>0.00771912</td>\n",
       "      <td>0.00782163</td>\n",
       "      <td>0.00625204</td>\n",
       "      <td>0.00786527</td>\n",
       "      <td>0.00737299</td>\n",
       "      <td>0.00806469</td>\n",
       "      <td>0.00997812</td>\n",
       "      <td>0.00972887</td>\n",
       "      <td>0.00543616</td>\n",
       "      <td>0.0084436</td>\n",
       "      <td>0.00647206</td>\n",
       "      <td>0.00943045</td>\n",
       "      <td>...</td>\n",
       "      <td>0.00717125</td>\n",
       "      <td>0.00686097</td>\n",
       "      <td>0.00735163</td>\n",
       "      <td>0.00847521</td>\n",
       "      <td>0.01015</td>\n",
       "      <td>0.0106831</td>\n",
       "      <td>0.00655186</td>\n",
       "      <td>0.00867995</td>\n",
       "      <td>0.0060124</td>\n",
       "      <td>0.0115053</td>\n",
       "      <td>0.00564886</td>\n",
       "      <td>0.0101463</td>\n",
       "      <td>0.00703747</td>\n",
       "      <td>0.00527094</td>\n",
       "      <td>0.00748807</td>\n",
       "      <td>0.00975614</td>\n",
       "      <td>0.00834929</td>\n",
       "      <td>0.00835926</td>\n",
       "      <td>0.00914419</td>\n",
       "      <td>0.0093403</td>\n",
       "      <td>0.00711217</td>\n",
       "      <td>0.00741802</td>\n",
       "      <td>0.0113103</td>\n",
       "      <td>0.0125133</td>\n",
       "      <td>0.00937602</td>\n",
       "      <td>0.00693109</td>\n",
       "      <td>0.0104594</td>\n",
       "      <td>0.00592595</td>\n",
       "      <td>0.00909268</td>\n",
       "      <td>0.00636431</td>\n",
       "      <td>0.0108724</td>\n",
       "      <td>0.00690874</td>\n",
       "      <td>0.00732402</td>\n",
       "      <td>0.00720003</td>\n",
       "      <td>0.00893083</td>\n",
       "      <td>0.00783144</td>\n",
       "      <td>0.00861213</td>\n",
       "      <td>0.010637</td>\n",
       "      <td>0.00915753</td>\n",
       "      <td>0.00505217</td>\n",
       "      <td>0.00609546</td>\n",
       "      <td>0.0101111</td>\n",
       "      <td>0.0102497</td>\n",
       "      <td>0.00928598</td>\n",
       "      <td>0.00695598</td>\n",
       "      <td>0.00989472</td>\n",
       "      <td>0.00670915</td>\n",
       "      <td>0.00872166</td>\n",
       "      <td>0.00892826</td>\n",
       "      <td>0.00992738</td>\n",
       "    </tr>\n",
       "    <tr>\n",
       "      <th>R2</th>\n",
       "      <td>0.994966</td>\n",
       "      <td>0.993957</td>\n",
       "      <td>0.992362</td>\n",
       "      <td>0.992929</td>\n",
       "      <td>0.993886</td>\n",
       "      <td>0.993788</td>\n",
       "      <td>0.993216</td>\n",
       "      <td>0.992589</td>\n",
       "      <td>0.994086</td>\n",
       "      <td>0.99436</td>\n",
       "      <td>0.993872</td>\n",
       "      <td>0.992639</td>\n",
       "      <td>0.992618</td>\n",
       "      <td>0.99486</td>\n",
       "      <td>0.994544</td>\n",
       "      <td>0.994491</td>\n",
       "      <td>0.992278</td>\n",
       "      <td>0.992561</td>\n",
       "      <td>0.994153</td>\n",
       "      <td>0.994988</td>\n",
       "      <td>0.993802</td>\n",
       "      <td>0.99233</td>\n",
       "      <td>0.993083</td>\n",
       "      <td>0.993362</td>\n",
       "      <td>0.993267</td>\n",
       "      <td>0.993067</td>\n",
       "      <td>0.992382</td>\n",
       "      <td>0.994568</td>\n",
       "      <td>0.994549</td>\n",
       "      <td>0.994292</td>\n",
       "      <td>0.992494</td>\n",
       "      <td>0.992617</td>\n",
       "      <td>0.993905</td>\n",
       "      <td>0.994547</td>\n",
       "      <td>0.994461</td>\n",
       "      <td>0.992428</td>\n",
       "      <td>0.992627</td>\n",
       "      <td>0.994235</td>\n",
       "      <td>0.994742</td>\n",
       "      <td>0.993571</td>\n",
       "      <td>0.992199</td>\n",
       "      <td>0.993258</td>\n",
       "      <td>0.993918</td>\n",
       "      <td>0.993329</td>\n",
       "      <td>0.992833</td>\n",
       "      <td>0.991727</td>\n",
       "      <td>0.994937</td>\n",
       "      <td>0.994689</td>\n",
       "      <td>0.994458</td>\n",
       "      <td>0.991815</td>\n",
       "      <td>...</td>\n",
       "      <td>0.992164</td>\n",
       "      <td>0.993359</td>\n",
       "      <td>0.994095</td>\n",
       "      <td>0.99351</td>\n",
       "      <td>0.992733</td>\n",
       "      <td>0.992154</td>\n",
       "      <td>0.995127</td>\n",
       "      <td>0.994741</td>\n",
       "      <td>0.994481</td>\n",
       "      <td>0.991602</td>\n",
       "      <td>0.992556</td>\n",
       "      <td>0.993988</td>\n",
       "      <td>0.994824</td>\n",
       "      <td>0.994358</td>\n",
       "      <td>0.992398</td>\n",
       "      <td>0.992792</td>\n",
       "      <td>0.994115</td>\n",
       "      <td>0.994316</td>\n",
       "      <td>0.99328</td>\n",
       "      <td>0.992512</td>\n",
       "      <td>0.99358</td>\n",
       "      <td>0.994168</td>\n",
       "      <td>0.993812</td>\n",
       "      <td>0.99265</td>\n",
       "      <td>0.992583</td>\n",
       "      <td>0.995211</td>\n",
       "      <td>0.994747</td>\n",
       "      <td>0.994493</td>\n",
       "      <td>0.991924</td>\n",
       "      <td>0.992533</td>\n",
       "      <td>0.994047</td>\n",
       "      <td>0.994966</td>\n",
       "      <td>0.99386</td>\n",
       "      <td>0.99236</td>\n",
       "      <td>0.99293</td>\n",
       "      <td>0.99384</td>\n",
       "      <td>0.993721</td>\n",
       "      <td>0.99319</td>\n",
       "      <td>0.992579</td>\n",
       "      <td>0.994124</td>\n",
       "      <td>0.994374</td>\n",
       "      <td>0.993902</td>\n",
       "      <td>0.992627</td>\n",
       "      <td>0.992606</td>\n",
       "      <td>0.994783</td>\n",
       "      <td>0.994513</td>\n",
       "      <td>0.994473</td>\n",
       "      <td>0.99229</td>\n",
       "      <td>0.992557</td>\n",
       "      <td>0.994152</td>\n",
       "    </tr>\n",
       "    <tr>\n",
       "      <th>SMAPE</th>\n",
       "      <td>6.50232</td>\n",
       "      <td>2.81187</td>\n",
       "      <td>2.02018</td>\n",
       "      <td>3.22059</td>\n",
       "      <td>4.41367</td>\n",
       "      <td>6.03541</td>\n",
       "      <td>3.02607</td>\n",
       "      <td>1.88794</td>\n",
       "      <td>3.54321</td>\n",
       "      <td>5.52401</td>\n",
       "      <td>4.76285</td>\n",
       "      <td>3.09315</td>\n",
       "      <td>1.67613</td>\n",
       "      <td>3.87979</td>\n",
       "      <td>6.50733</td>\n",
       "      <td>3.45072</td>\n",
       "      <td>2.67997</td>\n",
       "      <td>2.62855</td>\n",
       "      <td>4.32324</td>\n",
       "      <td>6.48011</td>\n",
       "      <td>2.76228</td>\n",
       "      <td>1.80804</td>\n",
       "      <td>3.30539</td>\n",
       "      <td>4.46746</td>\n",
       "      <td>5.81584</td>\n",
       "      <td>3.13062</td>\n",
       "      <td>2.13952</td>\n",
       "      <td>3.56281</td>\n",
       "      <td>5.84516</td>\n",
       "      <td>4.45524</td>\n",
       "      <td>3.04013</td>\n",
       "      <td>1.71623</td>\n",
       "      <td>4.06672</td>\n",
       "      <td>6.58893</td>\n",
       "      <td>3.24591</td>\n",
       "      <td>2.50671</td>\n",
       "      <td>2.91928</td>\n",
       "      <td>4.3898</td>\n",
       "      <td>6.44214</td>\n",
       "      <td>2.80964</td>\n",
       "      <td>1.63994</td>\n",
       "      <td>3.41384</td>\n",
       "      <td>4.80101</td>\n",
       "      <td>5.51454</td>\n",
       "      <td>3.19562</td>\n",
       "      <td>2.43874</td>\n",
       "      <td>3.68433</td>\n",
       "      <td>6.15462</td>\n",
       "      <td>4.10599</td>\n",
       "      <td>3.03179</td>\n",
       "      <td>...</td>\n",
       "      <td>1.56943</td>\n",
       "      <td>3.51743</td>\n",
       "      <td>4.98278</td>\n",
       "      <td>5.3871</td>\n",
       "      <td>3.22508</td>\n",
       "      <td>2.20227</td>\n",
       "      <td>3.78326</td>\n",
       "      <td>6.29937</td>\n",
       "      <td>3.96182</td>\n",
       "      <td>3.0343</td>\n",
       "      <td>2.1724</td>\n",
       "      <td>4.27139</td>\n",
       "      <td>6.60081</td>\n",
       "      <td>2.94617</td>\n",
       "      <td>2.23662</td>\n",
       "      <td>3.21444</td>\n",
       "      <td>4.44499</td>\n",
       "      <td>6.25482</td>\n",
       "      <td>3.01563</td>\n",
       "      <td>1.67125</td>\n",
       "      <td>3.6025</td>\n",
       "      <td>5.26015</td>\n",
       "      <td>5.0953</td>\n",
       "      <td>3.20551</td>\n",
       "      <td>1.86716</td>\n",
       "      <td>3.86817</td>\n",
       "      <td>6.46203</td>\n",
       "      <td>3.70787</td>\n",
       "      <td>2.89345</td>\n",
       "      <td>2.4509</td>\n",
       "      <td>4.35202</td>\n",
       "      <td>6.54048</td>\n",
       "      <td>2.88623</td>\n",
       "      <td>2.06124</td>\n",
       "      <td>3.30753</td>\n",
       "      <td>4.47288</td>\n",
       "      <td>6.06009</td>\n",
       "      <td>3.10083</td>\n",
       "      <td>1.85199</td>\n",
       "      <td>3.61705</td>\n",
       "      <td>5.59663</td>\n",
       "      <td>4.78951</td>\n",
       "      <td>3.15069</td>\n",
       "      <td>1.58892</td>\n",
       "      <td>3.96073</td>\n",
       "      <td>6.55012</td>\n",
       "      <td>3.49377</td>\n",
       "      <td>2.71952</td>\n",
       "      <td>2.72252</td>\n",
       "      <td>4.3829</td>\n",
       "    </tr>\n",
       "    <tr>\n",
       "      <th>RRMSE</th>\n",
       "      <td>0.0167641</td>\n",
       "      <td>0.0185243</td>\n",
       "      <td>0.0208853</td>\n",
       "      <td>0.020055</td>\n",
       "      <td>0.018699</td>\n",
       "      <td>0.0186428</td>\n",
       "      <td>0.0196816</td>\n",
       "      <td>0.0205346</td>\n",
       "      <td>0.0183596</td>\n",
       "      <td>0.0178298</td>\n",
       "      <td>0.0185514</td>\n",
       "      <td>0.0205372</td>\n",
       "      <td>0.0204841</td>\n",
       "      <td>0.0171295</td>\n",
       "      <td>0.0174482</td>\n",
       "      <td>0.0176461</td>\n",
       "      <td>0.0210292</td>\n",
       "      <td>0.0205623</td>\n",
       "      <td>0.0182971</td>\n",
       "      <td>0.0167316</td>\n",
       "      <td>0.0187732</td>\n",
       "      <td>0.0209189</td>\n",
       "      <td>0.0198384</td>\n",
       "      <td>0.0194613</td>\n",
       "      <td>0.0194137</td>\n",
       "      <td>0.0199062</td>\n",
       "      <td>0.0208149</td>\n",
       "      <td>0.017599</td>\n",
       "      <td>0.0174973</td>\n",
       "      <td>0.0179148</td>\n",
       "      <td>0.0207409</td>\n",
       "      <td>0.0204847</td>\n",
       "      <td>0.0186572</td>\n",
       "      <td>0.0174411</td>\n",
       "      <td>0.0177067</td>\n",
       "      <td>0.0208174</td>\n",
       "      <td>0.0204715</td>\n",
       "      <td>0.0181729</td>\n",
       "      <td>0.0171412</td>\n",
       "      <td>0.0191305</td>\n",
       "      <td>0.0210866</td>\n",
       "      <td>0.0195901</td>\n",
       "      <td>0.0186004</td>\n",
       "      <td>0.0193304</td>\n",
       "      <td>0.0202486</td>\n",
       "      <td>0.0216878</td>\n",
       "      <td>0.0169937</td>\n",
       "      <td>0.0172474</td>\n",
       "      <td>0.0176657</td>\n",
       "      <td>0.0216595</td>\n",
       "      <td>...</td>\n",
       "      <td>0.0211281</td>\n",
       "      <td>0.0194448</td>\n",
       "      <td>0.0183088</td>\n",
       "      <td>0.0190692</td>\n",
       "      <td>0.020393</td>\n",
       "      <td>0.0211176</td>\n",
       "      <td>0.0166729</td>\n",
       "      <td>0.0171509</td>\n",
       "      <td>0.0176346</td>\n",
       "      <td>0.0219377</td>\n",
       "      <td>0.0205687</td>\n",
       "      <td>0.0185391</td>\n",
       "      <td>0.016994</td>\n",
       "      <td>0.017888</td>\n",
       "      <td>0.020843</td>\n",
       "      <td>0.0202433</td>\n",
       "      <td>0.0183552</td>\n",
       "      <td>0.0178272</td>\n",
       "      <td>0.0195766</td>\n",
       "      <td>0.0206458</td>\n",
       "      <td>0.0191231</td>\n",
       "      <td>0.0181606</td>\n",
       "      <td>0.0186292</td>\n",
       "      <td>0.0205164</td>\n",
       "      <td>0.0205314</td>\n",
       "      <td>0.0165301</td>\n",
       "      <td>0.0171275</td>\n",
       "      <td>0.0176293</td>\n",
       "      <td>0.0215088</td>\n",
       "      <td>0.0205994</td>\n",
       "      <td>0.0184544</td>\n",
       "      <td>0.0167627</td>\n",
       "      <td>0.0186723</td>\n",
       "      <td>0.0208861</td>\n",
       "      <td>0.0200511</td>\n",
       "      <td>0.0187662</td>\n",
       "      <td>0.0187421</td>\n",
       "      <td>0.0197173</td>\n",
       "      <td>0.0205473</td>\n",
       "      <td>0.0182988</td>\n",
       "      <td>0.017804</td>\n",
       "      <td>0.0185049</td>\n",
       "      <td>0.0205526</td>\n",
       "      <td>0.0204982</td>\n",
       "      <td>0.0172565</td>\n",
       "      <td>0.0174967</td>\n",
       "      <td>0.0176746</td>\n",
       "      <td>0.0210111</td>\n",
       "      <td>0.0205667</td>\n",
       "      <td>0.0182983</td>\n",
       "    </tr>\n",
       "  </tbody>\n",
       "</table>\n",
       "<p>6 rows × 180 columns</p>\n",
       "</div>"
      ],
      "text/plain": [
       "               0            1            2            3            4    \\\n",
       "MSE    0.000140128  0.000164667  0.000195106  0.000179067  0.000165188   \n",
       "MAE      0.0089809   0.00928648    0.0101163    0.0105421    0.0100652   \n",
       "MAD     0.00702738    0.0071315   0.00730091   0.00911663   0.00746193   \n",
       "R2        0.994966     0.993957     0.992362     0.992929     0.993886   \n",
       "SMAPE      6.50232      2.81187      2.02018      3.22059      4.41367   \n",
       "RRMSE    0.0167641    0.0185243    0.0208853     0.020055     0.018699   \n",
       "\n",
       "               5            6            7            8            9    \\\n",
       "MSE    0.000172479  0.000182627  0.000186797  0.000151437  0.000156333   \n",
       "MAE      0.0105975    0.0111428    0.0102385   0.00919895   0.00969179   \n",
       "MAD     0.00882647    0.0107832   0.00931847    0.0051562   0.00609127   \n",
       "R2        0.993788     0.993216     0.992589     0.994086      0.99436   \n",
       "SMAPE      6.03541      3.02607      1.88794      3.54321      5.52401   \n",
       "RRMSE    0.0186428    0.0196816    0.0205346    0.0183596    0.0178298   \n",
       "\n",
       "               10           11           12           13           14   \\\n",
       "MSE    0.000169533  0.000194842  0.000185784  0.000132649  0.000152035   \n",
       "MAE      0.0106896    0.0113396    0.0108693   0.00907321    0.0102402   \n",
       "MAD     0.00977958    0.0106466   0.00925389   0.00666877   0.00994076   \n",
       "R2        0.993872     0.992639     0.992618      0.99486     0.994544   \n",
       "SMAPE      4.76285      3.09315      1.67613      3.87979      6.50733   \n",
       "RRMSE    0.0185514    0.0205372    0.0204841    0.0171295    0.0174482   \n",
       "\n",
       "               15          16           17           18           19   \\\n",
       "MSE    0.000151283  0.00020031  0.000187626  0.000153588  0.000139431   \n",
       "MAE     0.00926381   0.0109895    0.0106763    0.0105432   0.00905104   \n",
       "MAD     0.00677471  0.00856664   0.00862282    0.0101677   0.00593896   \n",
       "R2        0.994491    0.992278     0.992561     0.994153     0.994988   \n",
       "SMAPE      3.45072     2.67997      2.62855      4.32324      6.48011   \n",
       "RRMSE    0.0176461   0.0210292    0.0205623    0.0182971    0.0167316   \n",
       "\n",
       "               20           21           22           23           24   \\\n",
       "MSE    0.000168489  0.000195151  0.000175524  0.000180752  0.000186824   \n",
       "MAE       0.009495   0.00991245    0.0100604    0.0103133    0.0109083   \n",
       "MAD     0.00784002   0.00565848   0.00729488    0.0089291   0.00702371   \n",
       "R2        0.993802      0.99233     0.993083     0.993362     0.993267   \n",
       "SMAPE      2.76228      1.80804      3.30539      4.46746      5.81584   \n",
       "RRMSE    0.0187732    0.0209189    0.0198384    0.0194613    0.0194137   \n",
       "\n",
       "               25          26          27           28           29   \\\n",
       "MSE    0.000185992  0.00019178  0.00013941  0.000151454  0.000157677   \n",
       "MAE      0.0114494   0.0105985  0.00853472   0.00986924    0.0101774   \n",
       "MAD      0.0111332   0.0100519  0.00511461   0.00751347   0.00720732   \n",
       "R2        0.993067    0.992382    0.994568     0.994549     0.994292   \n",
       "SMAPE      3.13062     2.13952     3.56281      5.84516      4.45524   \n",
       "RRMSE    0.0199062   0.0208149    0.017599    0.0174973    0.0179148   \n",
       "\n",
       "               30           31           32           33           34   \\\n",
       "MSE    0.000197802  0.000185889  0.000157604  0.000151945  0.000151783   \n",
       "MAE       0.010972    0.0105244    0.0102535    0.0101433   0.00914389   \n",
       "MAD     0.00765387   0.00771029    0.0100261   0.00889039   0.00631059   \n",
       "R2        0.992494     0.992617     0.993905     0.994547     0.994461   \n",
       "SMAPE      3.04013      1.71623      4.06672      6.58893      3.24591   \n",
       "RRMSE    0.0207409    0.0204847    0.0186572    0.0174411    0.0177067   \n",
       "\n",
       "               35           36           37           38           39   \\\n",
       "MSE    0.000195516  0.000186087  0.000152588  0.000146181  0.000174288   \n",
       "MAE       0.010709    0.0111656    0.0104936   0.00922925    0.0100723   \n",
       "MAD     0.00802154   0.00978449    0.0100428   0.00771912   0.00782163   \n",
       "R2        0.992428     0.992627     0.994235     0.994742     0.993571   \n",
       "SMAPE      2.50671      2.91928       4.3898      6.44214      2.80964   \n",
       "RRMSE    0.0208174    0.0204715    0.0181729    0.0171412    0.0191305   \n",
       "\n",
       "               40           41           42           43           44   \\\n",
       "MSE    0.000197788  0.000171505  0.000166749  0.000184967  0.000191572   \n",
       "MAE       0.010189   0.00989339    0.0100348     0.010708    0.0118206   \n",
       "MAD     0.00625204   0.00786527   0.00737299   0.00806469   0.00997812   \n",
       "R2        0.992199     0.993258     0.993918     0.993329     0.992833   \n",
       "SMAPE      1.63994      3.41384      4.80101      5.51454      3.19562   \n",
       "RRMSE    0.0210866    0.0195901    0.0186004    0.0193304    0.0202486   \n",
       "\n",
       "               45           46           47           48           49   ...  \\\n",
       "MSE    0.000208134  0.000130183  0.000147809  0.000152865  0.000214733  ...   \n",
       "MAE      0.0114718   0.00864821    0.0102599   0.00947207    0.0111345  ...   \n",
       "MAD     0.00972887   0.00543616    0.0084436   0.00647206   0.00943045  ...   \n",
       "R2        0.991727     0.994937     0.994689     0.994458     0.991815  ...   \n",
       "SMAPE      2.43874      3.68433      6.15462      4.10599      3.03179  ...   \n",
       "RRMSE    0.0216878    0.0169937    0.0172474    0.0176657    0.0216595  ...   \n",
       "\n",
       "               130          131         132          133          134  \\\n",
       "MSE    0.000198333  0.000169171  0.00016238  0.000179843  0.000193826   \n",
       "MAE      0.0102796   0.00992828  0.00978958    0.0107473    0.0118092   \n",
       "MAD     0.00717125   0.00686097  0.00735163   0.00847521      0.01015   \n",
       "R2        0.992164     0.993359    0.994095      0.99351     0.992733   \n",
       "SMAPE      1.56943      3.51743     4.98278       5.3871      3.22508   \n",
       "RRMSE    0.0211281    0.0194448   0.0183088    0.0190692     0.020393   \n",
       "\n",
       "               135         136         137          138          139  \\\n",
       "MSE    0.000197332   0.0001254  0.00014642  0.000152065  0.000219756   \n",
       "MAE      0.0111008  0.00859164   0.0103026   0.00920139    0.0113369   \n",
       "MAD      0.0106831  0.00655186  0.00867995    0.0060124    0.0115053   \n",
       "R2        0.992154    0.995127    0.994741     0.994481     0.991602   \n",
       "SMAPE      2.20227     3.78326     6.29937      3.96182       3.0343   \n",
       "RRMSE    0.0211176   0.0166729   0.0171509    0.0176346    0.0219377   \n",
       "\n",
       "               140          141          142          143          144  \\\n",
       "MSE    0.000187565  0.000156233  0.000144128  0.000154053  0.000194893   \n",
       "MAE      0.0103508    0.0107952   0.00940269   0.00880372    0.0102144   \n",
       "MAD     0.00564886    0.0101463   0.00703747   0.00527094   0.00748807   \n",
       "R2        0.992556     0.993988     0.994824     0.994358     0.992398   \n",
       "SMAPE       2.1724      4.27139      6.60081      2.94617      2.23662   \n",
       "RRMSE    0.0205687    0.0185391     0.016994     0.017888     0.020843   \n",
       "\n",
       "              145          146          147          148          149  \\\n",
       "MSE    0.00018222  0.000157772  0.000157867  0.000181377  0.000189044   \n",
       "MAE     0.0109732    0.0100965    0.0102378    0.0110116    0.0103342   \n",
       "MAD    0.00975614   0.00834929   0.00835926   0.00914419    0.0093403   \n",
       "R2       0.992792     0.994115     0.994316      0.99328     0.992512   \n",
       "SMAPE     3.21444      4.44499      6.25482      3.01563      1.67125   \n",
       "RRMSE   0.0202433    0.0183552    0.0178272    0.0195766    0.0206458   \n",
       "\n",
       "              150         151          152          153         154  \\\n",
       "MSE    0.00016398  0.00016112  0.000171314  0.000195271  0.00018657   \n",
       "MAE    0.00981589  0.00953274    0.0107861    0.0116799   0.0108965   \n",
       "MAD    0.00711217  0.00741802    0.0113103    0.0125133  0.00937602   \n",
       "R2        0.99358    0.994168     0.993812      0.99265    0.992583   \n",
       "SMAPE      3.6025     5.26015       5.0953      3.20551     1.86716   \n",
       "RRMSE   0.0191231   0.0181606    0.0186292    0.0205164   0.0205314   \n",
       "\n",
       "               155          156         157          158          159  \\\n",
       "MSE    0.000123399  0.000146346  0.00015147  0.000210342  0.000188217   \n",
       "MAE     0.00861098    0.0102908  0.00911689    0.0112734    0.0104795   \n",
       "MAD     0.00693109    0.0104594  0.00592595   0.00909268   0.00636431   \n",
       "R2        0.995211     0.994747    0.994493     0.991924     0.992533   \n",
       "SMAPE      3.86817      6.46203     3.70787      2.89345       2.4509   \n",
       "RRMSE    0.0165301    0.0171275   0.0176293    0.0215088    0.0205994   \n",
       "\n",
       "               160          161          162          163          164  \\\n",
       "MSE    0.000155449  0.000140091  0.000167251  0.000195063  0.000179022   \n",
       "MAE      0.0108221   0.00897897   0.00936878     0.010108    0.0105154   \n",
       "MAD      0.0108724   0.00690874   0.00732402   0.00720003   0.00893083   \n",
       "R2        0.994047     0.994966      0.99386      0.99236      0.99293   \n",
       "SMAPE      4.35202      6.54048      2.88623      2.06124      3.30753   \n",
       "RRMSE    0.0184544    0.0167627    0.0186723    0.0208861    0.0200511   \n",
       "\n",
       "               165          166          167          168          169  \\\n",
       "MSE    0.000166535  0.000174306  0.000183217  0.000187012  0.000150462   \n",
       "MAE      0.0100839    0.0106262    0.0111599    0.0102578   0.00913709   \n",
       "MAD     0.00783144   0.00861213     0.010637   0.00915753   0.00505217   \n",
       "R2         0.99384     0.993721      0.99319     0.992579     0.994124   \n",
       "SMAPE      4.47288      6.06009      3.10083      1.85199      3.61705   \n",
       "RRMSE    0.0187662    0.0187421    0.0197173    0.0205473    0.0182988   \n",
       "\n",
       "               170         171          172          173          174  \\\n",
       "MSE    0.000155973  0.00016865  0.000195052  0.000186045  0.000134638   \n",
       "MAE     0.00969719   0.0106409    0.0113281    0.0108552   0.00918728   \n",
       "MAD     0.00609546   0.0101111    0.0102497   0.00928598   0.00695598   \n",
       "R2        0.994374    0.993902     0.992627     0.992606     0.994783   \n",
       "SMAPE      5.59663     4.78951      3.15069      1.58892      3.96073   \n",
       "RRMSE     0.017804   0.0185049    0.0205526    0.0204982    0.0172565   \n",
       "\n",
       "               175          176          177          178          179  \n",
       "MSE    0.000152889  0.000151728  0.000199897  0.000187713  0.000153691  \n",
       "MAE      0.0102357   0.00929222     0.010974    0.0107494    0.0105474  \n",
       "MAD     0.00989472   0.00670915   0.00872166   0.00892826   0.00992738  \n",
       "R2        0.994513     0.994473      0.99229     0.992557     0.994152  \n",
       "SMAPE      6.55012      3.49377      2.71952      2.72252       4.3829  \n",
       "RRMSE    0.0174967    0.0176746    0.0210111    0.0205667    0.0182983  \n",
       "\n",
       "[6 rows x 180 columns]"
      ]
     },
     "execution_count": 69,
     "metadata": {},
     "output_type": "execute_result"
    }
   ],
   "source": [
    "print('Performance measures on Test data, per sec')\n",
    "lag = 0\n",
    "num_sec = Ytest_hat_fl[0].shape[0]\n",
    "results_table = pd.DataFrame(index=['MSE','MAE','MAD','R2','SMAPE','RRMSE'],columns=range(num_sec))\n",
    "for i in range(num_sec):\n",
    "    results_table.iloc[0,i] = mean_squared_error( Ytest_fl[lag][i,:], Ytest_hat_fl[lag][i,:])\n",
    "    results_table.iloc[1,i] = mean_absolute_error(   Ytest_fl[lag][i,:], Ytest_hat_fl[lag][i,:])\n",
    "    results_table.iloc[2,i] = median_absolute_error(  Ytest_fl[lag][i,:], Ytest_hat_fl[lag][i,:])\n",
    "    results_table.iloc[3,i] = r2_score(  Ytest_fl[lag][i,:], Ytest_hat_fl[lag][i,:])\n",
    "    results_table.iloc[4,i] = smape(  Ytest_fl[lag][i,:], Ytest_hat_fl[lag][i,:])\n",
    "    results_table.iloc[5,i] = RRMSE( np.reshape(Ytest_fl[lag][i,:],(-1,1)), np.reshape(Ytest_hat_fl[lag][i,:],(-1,1)))\n",
    "results_table"
   ]
  },
  {
   "cell_type": "code",
   "execution_count": 70,
   "metadata": {
    "colab": {
     "base_uri": "https://localhost:8080/",
     "height": 241
    },
    "colab_type": "code",
    "executionInfo": {
     "elapsed": 45599,
     "status": "ok",
     "timestamp": 1584717160514,
     "user": {
      "displayName": "Manuel López Martín",
      "photoUrl": "https://lh3.googleusercontent.com/a-/AOh14Gjkbx9ZcgNrx28G-E9vmuDH73kYDfRwYT7t4SrOSQytLxtAwwl3I1K9yrMCXDmpZDNRYJMtwAh1zUlDFBeKxUr27pGfkbEuB8jW7lZ493uXzPvtAaC789hDEYxeLTuYOFvHe-CvV2lEUxJ-VQLYi-j3sjekrCtwd-fTarbdYre3bTLHf9qgyLR3sZDRdiYD5IIGnePAsdQ9BIuGb6m4UTckK_xLzJgUTGemEM4_uRpl_eTir9imsyDARB5cNolutC5oZ0iMtKKJbCSYpV3aOTZ28OfpEdOfCEXKGAfl8VA5Pi5V-p60C5ZwEu856OwlJv7ZoHH2ZhQKmEYkYHTn7EyTdCrJ5Wg7VE_RH5I7zuIbBOsOgXRaR38zr9XRYFuL_zj2DYkQ4u95CqyClNNV6uRBFCj9FPpbqwjUT_2weo_47cJP73uX3TByD16ShG8kOrPjIxMg8KatQnF6UjA4iySodg_LXbsWXBNja5pnBt4EEep476uXgMytX0nLvN-7i4DeJINnM2Td0y7F5Bf9sVkAC5mRULjppb8fao84LSFAxoHLIXl4BvMY6tKT6ywy54zbmr99YPuUqXt2GZ0TsSBOPXlYUXz_jAsloMrqeSgxGDnsm1tBrvbECnnBELENi9r9PUE6lTJ5Fn3pXDYIJ2RJcGT9sebJo-QjsOlAl8nIbydH8wH_EqPmWIncWhFSfpv0mue8KLsNEE5QV6d5zV4CNioVdf34uezwiG4zeLzlJ0VZmf5ByQXWD1FoiZKC7vOBZw=s64",
      "userId": "11336038813033628796"
     },
     "user_tz": -60
    },
    "id": "RTkCzAn87j-n",
    "outputId": "54fc6aff-0f20-4612-dcc7-c47e3f3a193e",
    "scrolled": true
   },
   "outputs": [
    {
     "name": "stdout",
     "output_type": "stream",
     "text": [
      "Performance measures on Test data, for all time, per time-ahead lag\n"
     ]
    },
    {
     "data": {
      "text/html": [
       "<div>\n",
       "<style scoped>\n",
       "    .dataframe tbody tr th:only-of-type {\n",
       "        vertical-align: middle;\n",
       "    }\n",
       "\n",
       "    .dataframe tbody tr th {\n",
       "        vertical-align: top;\n",
       "    }\n",
       "\n",
       "    .dataframe thead th {\n",
       "        text-align: right;\n",
       "    }\n",
       "</style>\n",
       "<table border=\"1\" class=\"dataframe\">\n",
       "  <thead>\n",
       "    <tr style=\"text-align: right;\">\n",
       "      <th></th>\n",
       "      <th>0</th>\n",
       "      <th>1</th>\n",
       "      <th>2</th>\n",
       "      <th>3</th>\n",
       "      <th>4</th>\n",
       "      <th>5</th>\n",
       "      <th>mean</th>\n",
       "    </tr>\n",
       "  </thead>\n",
       "  <tbody>\n",
       "    <tr>\n",
       "      <th>MSE</th>\n",
       "      <td>0.000170504</td>\n",
       "      <td>0.000162572</td>\n",
       "      <td>0.000169028</td>\n",
       "      <td>0.000153749</td>\n",
       "      <td>0.000163088</td>\n",
       "      <td>0.000160648</td>\n",
       "      <td>0.000163</td>\n",
       "    </tr>\n",
       "    <tr>\n",
       "      <th>MAE</th>\n",
       "      <td>0.0102248</td>\n",
       "      <td>0.0100696</td>\n",
       "      <td>0.00997361</td>\n",
       "      <td>0.0096694</td>\n",
       "      <td>0.00998881</td>\n",
       "      <td>0.00993727</td>\n",
       "      <td>0.009977</td>\n",
       "    </tr>\n",
       "    <tr>\n",
       "      <th>MAD</th>\n",
       "      <td>0.008283</td>\n",
       "      <td>0.0081727</td>\n",
       "      <td>0.00768235</td>\n",
       "      <td>0.00771359</td>\n",
       "      <td>0.0080656</td>\n",
       "      <td>0.00785072</td>\n",
       "      <td>0.007961</td>\n",
       "    </tr>\n",
       "    <tr>\n",
       "      <th>R2</th>\n",
       "      <td>0.993624</td>\n",
       "      <td>0.993921</td>\n",
       "      <td>0.99368</td>\n",
       "      <td>0.994251</td>\n",
       "      <td>0.993902</td>\n",
       "      <td>0.993993</td>\n",
       "      <td>0.993895</td>\n",
       "    </tr>\n",
       "    <tr>\n",
       "      <th>SMAPE</th>\n",
       "      <td>3.82608</td>\n",
       "      <td>2.6931</td>\n",
       "      <td>3.80913</td>\n",
       "      <td>3.36352</td>\n",
       "      <td>3.34693</td>\n",
       "      <td>2.80696</td>\n",
       "      <td>3.307620</td>\n",
       "    </tr>\n",
       "    <tr>\n",
       "      <th>RRMSE</th>\n",
       "      <td>0.0190951</td>\n",
       "      <td>0.0186457</td>\n",
       "      <td>0.0190125</td>\n",
       "      <td>0.018133</td>\n",
       "      <td>0.0186756</td>\n",
       "      <td>0.0185347</td>\n",
       "      <td>0.018683</td>\n",
       "    </tr>\n",
       "  </tbody>\n",
       "</table>\n",
       "</div>"
      ],
      "text/plain": [
       "                 0            1            2            3            4  \\\n",
       "MSE    0.000170504  0.000162572  0.000169028  0.000153749  0.000163088   \n",
       "MAE      0.0102248    0.0100696   0.00997361    0.0096694   0.00998881   \n",
       "MAD       0.008283    0.0081727   0.00768235   0.00771359    0.0080656   \n",
       "R2        0.993624     0.993921      0.99368     0.994251     0.993902   \n",
       "SMAPE      3.82608       2.6931      3.80913      3.36352      3.34693   \n",
       "RRMSE    0.0190951    0.0186457    0.0190125     0.018133    0.0186756   \n",
       "\n",
       "                 5      mean  \n",
       "MSE    0.000160648  0.000163  \n",
       "MAE     0.00993727  0.009977  \n",
       "MAD     0.00785072  0.007961  \n",
       "R2        0.993993  0.993895  \n",
       "SMAPE      2.80696  3.307620  \n",
       "RRMSE    0.0185347  0.018683  "
      ]
     },
     "execution_count": 70,
     "metadata": {},
     "output_type": "execute_result"
    }
   ],
   "source": [
    "print('Performance measures on Test data, for all time, per time-ahead lag')\n",
    "\n",
    "results_table_global = pd.DataFrame(index=['MSE','MAE','MAD','R2','SMAPE','RRMSE'],columns=range(p))\n",
    "for i in range(p):\n",
    "    results_table_global.iloc[0,i] = mean_squared_error(Ytest_fl[i].flatten(), Ytest_hat_fl[i].flatten())\n",
    "    results_table_global.iloc[1,i] = mean_absolute_error(Ytest_fl[i].flatten(), Ytest_hat_fl[i].flatten())\n",
    "    results_table_global.iloc[2,i] = median_absolute_error(Ytest_fl[i].flatten(), Ytest_hat_fl[i].flatten())\n",
    "    results_table_global.iloc[3,i] = r2_score(Ytest_fl[i].flatten(), Ytest_hat_fl[i].flatten())\n",
    "    results_table_global.iloc[4,i] = smape(Ytest_fl[i].flatten(), Ytest_hat_fl[i].flatten())\n",
    "    results_table_global.iloc[5,i] = RRMSE( np.reshape(Ytest_fl[i].flatten(),(-1,1)), np.reshape(Ytest_hat_fl[i].flatten(),(-1,1)))\n",
    "\n",
    "results_table_global['mean'] = results_table_global.mean(axis=1)\n",
    "results_table_global"
   ]
  },
  {
   "cell_type": "code",
   "execution_count": 71,
   "metadata": {
    "colab": {
     "base_uri": "https://localhost:8080/",
     "height": 304
    },
    "colab_type": "code",
    "executionInfo": {
     "elapsed": 46119,
     "status": "ok",
     "timestamp": 1584717161078,
     "user": {
      "displayName": "Manuel López Martín",
      "photoUrl": "https://lh3.googleusercontent.com/a-/AOh14Gjkbx9ZcgNrx28G-E9vmuDH73kYDfRwYT7t4SrOSQytLxtAwwl3I1K9yrMCXDmpZDNRYJMtwAh1zUlDFBeKxUr27pGfkbEuB8jW7lZ493uXzPvtAaC789hDEYxeLTuYOFvHe-CvV2lEUxJ-VQLYi-j3sjekrCtwd-fTarbdYre3bTLHf9qgyLR3sZDRdiYD5IIGnePAsdQ9BIuGb6m4UTckK_xLzJgUTGemEM4_uRpl_eTir9imsyDARB5cNolutC5oZ0iMtKKJbCSYpV3aOTZ28OfpEdOfCEXKGAfl8VA5Pi5V-p60C5ZwEu856OwlJv7ZoHH2ZhQKmEYkYHTn7EyTdCrJ5Wg7VE_RH5I7zuIbBOsOgXRaR38zr9XRYFuL_zj2DYkQ4u95CqyClNNV6uRBFCj9FPpbqwjUT_2weo_47cJP73uX3TByD16ShG8kOrPjIxMg8KatQnF6UjA4iySodg_LXbsWXBNja5pnBt4EEep476uXgMytX0nLvN-7i4DeJINnM2Td0y7F5Bf9sVkAC5mRULjppb8fao84LSFAxoHLIXl4BvMY6tKT6ywy54zbmr99YPuUqXt2GZ0TsSBOPXlYUXz_jAsloMrqeSgxGDnsm1tBrvbECnnBELENi9r9PUE6lTJ5Fn3pXDYIJ2RJcGT9sebJo-QjsOlAl8nIbydH8wH_EqPmWIncWhFSfpv0mue8KLsNEE5QV6d5zV4CNioVdf34uezwiG4zeLzlJ0VZmf5ByQXWD1FoiZKC7vOBZw=s64",
      "userId": "11336038813033628796"
     },
     "user_tz": -60
    },
    "id": "RcpwVPnmc7xt",
    "outputId": "f30adc88-318b-4721-a6b1-e9f824d6105e"
   },
   "outputs": [
    {
     "data": {
      "image/png": "[encoded data removed]",
      "text/plain": [
       "<Figure size 432x288 with 1 Axes>"
      ]
     },
     "metadata": {
      "needs_background": "light"
     },
     "output_type": "display_data"
    }
   ],
   "source": [
    "plt.plot(range(num_sec),results_table.iloc[0,:], 'b') # green\n",
    "plt.title(\"MSE score vs. forecast time index\",fontsize=18)\n",
    "plt.xlabel(\"time\", fontsize=15)\n",
    "plt.ylabel(\"MSE\",fontsize=15);\n",
    "plt.show()"
   ]
  },
  {
   "cell_type": "code",
   "execution_count": 72,
   "metadata": {
    "colab": {
     "base_uri": "https://localhost:8080/",
     "height": 304
    },
    "colab_type": "code",
    "executionInfo": {
     "elapsed": 46403,
     "status": "ok",
     "timestamp": 1584717161380,
     "user": {
      "displayName": "Manuel López Martín",
      "photoUrl": "https://lh3.googleusercontent.com/a-/AOh14Gjkbx9ZcgNrx28G-E9vmuDH73kYDfRwYT7t4SrOSQytLxtAwwl3I1K9yrMCXDmpZDNRYJMtwAh1zUlDFBeKxUr27pGfkbEuB8jW7lZ493uXzPvtAaC789hDEYxeLTuYOFvHe-CvV2lEUxJ-VQLYi-j3sjekrCtwd-fTarbdYre3bTLHf9qgyLR3sZDRdiYD5IIGnePAsdQ9BIuGb6m4UTckK_xLzJgUTGemEM4_uRpl_eTir9imsyDARB5cNolutC5oZ0iMtKKJbCSYpV3aOTZ28OfpEdOfCEXKGAfl8VA5Pi5V-p60C5ZwEu856OwlJv7ZoHH2ZhQKmEYkYHTn7EyTdCrJ5Wg7VE_RH5I7zuIbBOsOgXRaR38zr9XRYFuL_zj2DYkQ4u95CqyClNNV6uRBFCj9FPpbqwjUT_2weo_47cJP73uX3TByD16ShG8kOrPjIxMg8KatQnF6UjA4iySodg_LXbsWXBNja5pnBt4EEep476uXgMytX0nLvN-7i4DeJINnM2Td0y7F5Bf9sVkAC5mRULjppb8fao84LSFAxoHLIXl4BvMY6tKT6ywy54zbmr99YPuUqXt2GZ0TsSBOPXlYUXz_jAsloMrqeSgxGDnsm1tBrvbECnnBELENi9r9PUE6lTJ5Fn3pXDYIJ2RJcGT9sebJo-QjsOlAl8nIbydH8wH_EqPmWIncWhFSfpv0mue8KLsNEE5QV6d5zV4CNioVdf34uezwiG4zeLzlJ0VZmf5ByQXWD1FoiZKC7vOBZw=s64",
      "userId": "11336038813033628796"
     },
     "user_tz": -60
    },
    "id": "SugBxsEJ3Qam",
    "outputId": "0c102ce7-05e3-4b77-d544-ff65040df801"
   },
   "outputs": [
    {
     "data": {
      "image/png": "[encoded data removed]",
      "text/plain": [
       "<Figure size 432x288 with 1 Axes>"
      ]
     },
     "metadata": {
      "needs_background": "light"
     },
     "output_type": "display_data"
    }
   ],
   "source": [
    "plt.plot(range(num_sec),results_table.iloc[1,:], 'b') # green\n",
    "plt.title(\"MAE score vs. forecast time index\",fontsize=18)\n",
    "plt.xlabel(\"time\", fontsize=15)\n",
    "plt.ylabel(\"MAE\",fontsize=15);\n",
    "plt.show()"
   ]
  },
  {
   "cell_type": "code",
   "execution_count": 73,
   "metadata": {
    "colab": {
     "base_uri": "https://localhost:8080/",
     "height": 304
    },
    "colab_type": "code",
    "executionInfo": {
     "elapsed": 46806,
     "status": "ok",
     "timestamp": 1584717161795,
     "user": {
      "displayName": "Manuel López Martín",
      "photoUrl": "https://lh3.googleusercontent.com/a-/AOh14Gjkbx9ZcgNrx28G-E9vmuDH73kYDfRwYT7t4SrOSQytLxtAwwl3I1K9yrMCXDmpZDNRYJMtwAh1zUlDFBeKxUr27pGfkbEuB8jW7lZ493uXzPvtAaC789hDEYxeLTuYOFvHe-CvV2lEUxJ-VQLYi-j3sjekrCtwd-fTarbdYre3bTLHf9qgyLR3sZDRdiYD5IIGnePAsdQ9BIuGb6m4UTckK_xLzJgUTGemEM4_uRpl_eTir9imsyDARB5cNolutC5oZ0iMtKKJbCSYpV3aOTZ28OfpEdOfCEXKGAfl8VA5Pi5V-p60C5ZwEu856OwlJv7ZoHH2ZhQKmEYkYHTn7EyTdCrJ5Wg7VE_RH5I7zuIbBOsOgXRaR38zr9XRYFuL_zj2DYkQ4u95CqyClNNV6uRBFCj9FPpbqwjUT_2weo_47cJP73uX3TByD16ShG8kOrPjIxMg8KatQnF6UjA4iySodg_LXbsWXBNja5pnBt4EEep476uXgMytX0nLvN-7i4DeJINnM2Td0y7F5Bf9sVkAC5mRULjppb8fao84LSFAxoHLIXl4BvMY6tKT6ywy54zbmr99YPuUqXt2GZ0TsSBOPXlYUXz_jAsloMrqeSgxGDnsm1tBrvbECnnBELENi9r9PUE6lTJ5Fn3pXDYIJ2RJcGT9sebJo-QjsOlAl8nIbydH8wH_EqPmWIncWhFSfpv0mue8KLsNEE5QV6d5zV4CNioVdf34uezwiG4zeLzlJ0VZmf5ByQXWD1FoiZKC7vOBZw=s64",
      "userId": "11336038813033628796"
     },
     "user_tz": -60
    },
    "id": "azIcUb-p3Q33",
    "outputId": "5548a6fe-9e46-4020-a397-af42f86334e0"
   },
   "outputs": [
    {
     "data": {
      "image/png": "[encoded data removed]",
      "text/plain": [
       "<Figure size 432x288 with 1 Axes>"
      ]
     },
     "metadata": {
      "needs_background": "light"
     },
     "output_type": "display_data"
    }
   ],
   "source": [
    "plt.plot(range(num_sec),results_table.iloc[2,:], 'b') # green\n",
    "plt.title(\"MAD score vs. forecast time index\",fontsize=18)\n",
    "plt.xlabel(\"time\", fontsize=15)\n",
    "plt.ylabel(\"MAD\",fontsize=15);\n",
    "plt.show()"
   ]
  },
  {
   "cell_type": "code",
   "execution_count": 74,
   "metadata": {
    "colab": {
     "base_uri": "https://localhost:8080/",
     "height": 304
    },
    "colab_type": "code",
    "executionInfo": {
     "elapsed": 46798,
     "status": "ok",
     "timestamp": 1584717161797,
     "user": {
      "displayName": "Manuel López Martín",
      "photoUrl": "https://lh3.googleusercontent.com/a-/AOh14Gjkbx9ZcgNrx28G-E9vmuDH73kYDfRwYT7t4SrOSQytLxtAwwl3I1K9yrMCXDmpZDNRYJMtwAh1zUlDFBeKxUr27pGfkbEuB8jW7lZ493uXzPvtAaC789hDEYxeLTuYOFvHe-CvV2lEUxJ-VQLYi-j3sjekrCtwd-fTarbdYre3bTLHf9qgyLR3sZDRdiYD5IIGnePAsdQ9BIuGb6m4UTckK_xLzJgUTGemEM4_uRpl_eTir9imsyDARB5cNolutC5oZ0iMtKKJbCSYpV3aOTZ28OfpEdOfCEXKGAfl8VA5Pi5V-p60C5ZwEu856OwlJv7ZoHH2ZhQKmEYkYHTn7EyTdCrJ5Wg7VE_RH5I7zuIbBOsOgXRaR38zr9XRYFuL_zj2DYkQ4u95CqyClNNV6uRBFCj9FPpbqwjUT_2weo_47cJP73uX3TByD16ShG8kOrPjIxMg8KatQnF6UjA4iySodg_LXbsWXBNja5pnBt4EEep476uXgMytX0nLvN-7i4DeJINnM2Td0y7F5Bf9sVkAC5mRULjppb8fao84LSFAxoHLIXl4BvMY6tKT6ywy54zbmr99YPuUqXt2GZ0TsSBOPXlYUXz_jAsloMrqeSgxGDnsm1tBrvbECnnBELENi9r9PUE6lTJ5Fn3pXDYIJ2RJcGT9sebJo-QjsOlAl8nIbydH8wH_EqPmWIncWhFSfpv0mue8KLsNEE5QV6d5zV4CNioVdf34uezwiG4zeLzlJ0VZmf5ByQXWD1FoiZKC7vOBZw=s64",
      "userId": "11336038813033628796"
     },
     "user_tz": -60
    },
    "id": "5bR90t8G3jmP",
    "outputId": "9e1ea0c0-a009-4372-e7f3-11b91666cb12"
   },
   "outputs": [
    {
     "data": {
      "image/png": "[encoded data removed]",
      "text/plain": [
       "<Figure size 432x288 with 1 Axes>"
      ]
     },
     "metadata": {
      "needs_background": "light"
     },
     "output_type": "display_data"
    }
   ],
   "source": [
    "plt.plot(range(num_sec),results_table.iloc[3,:], 'b') # green\n",
    "plt.title(\"R2 score vs. forecast time index\",fontsize=18)\n",
    "plt.xlabel(\"time\", fontsize=15)\n",
    "plt.ylabel(\"R2\",fontsize=15);\n",
    "plt.show()"
   ]
  },
  {
   "cell_type": "code",
   "execution_count": 75,
   "metadata": {
    "colab": {
     "base_uri": "https://localhost:8080/",
     "height": 304
    },
    "colab_type": "code",
    "executionInfo": {
     "elapsed": 47218,
     "status": "ok",
     "timestamp": 1584717162230,
     "user": {
      "displayName": "Manuel López Martín",
      "photoUrl": "https://lh3.googleusercontent.com/a-/AOh14Gjkbx9ZcgNrx28G-E9vmuDH73kYDfRwYT7t4SrOSQytLxtAwwl3I1K9yrMCXDmpZDNRYJMtwAh1zUlDFBeKxUr27pGfkbEuB8jW7lZ493uXzPvtAaC789hDEYxeLTuYOFvHe-CvV2lEUxJ-VQLYi-j3sjekrCtwd-fTarbdYre3bTLHf9qgyLR3sZDRdiYD5IIGnePAsdQ9BIuGb6m4UTckK_xLzJgUTGemEM4_uRpl_eTir9imsyDARB5cNolutC5oZ0iMtKKJbCSYpV3aOTZ28OfpEdOfCEXKGAfl8VA5Pi5V-p60C5ZwEu856OwlJv7ZoHH2ZhQKmEYkYHTn7EyTdCrJ5Wg7VE_RH5I7zuIbBOsOgXRaR38zr9XRYFuL_zj2DYkQ4u95CqyClNNV6uRBFCj9FPpbqwjUT_2weo_47cJP73uX3TByD16ShG8kOrPjIxMg8KatQnF6UjA4iySodg_LXbsWXBNja5pnBt4EEep476uXgMytX0nLvN-7i4DeJINnM2Td0y7F5Bf9sVkAC5mRULjppb8fao84LSFAxoHLIXl4BvMY6tKT6ywy54zbmr99YPuUqXt2GZ0TsSBOPXlYUXz_jAsloMrqeSgxGDnsm1tBrvbECnnBELENi9r9PUE6lTJ5Fn3pXDYIJ2RJcGT9sebJo-QjsOlAl8nIbydH8wH_EqPmWIncWhFSfpv0mue8KLsNEE5QV6d5zV4CNioVdf34uezwiG4zeLzlJ0VZmf5ByQXWD1FoiZKC7vOBZw=s64",
      "userId": "11336038813033628796"
     },
     "user_tz": -60
    },
    "id": "Gz0isKqw288H",
    "outputId": "3767a7e6-b1e3-4a39-a8a9-7731e056ae7b"
   },
   "outputs": [
    {
     "data": {
      "image/png": "[encoded data removed]",
      "text/plain": [
       "<Figure size 432x288 with 1 Axes>"
      ]
     },
     "metadata": {
      "needs_background": "light"
     },
     "output_type": "display_data"
    }
   ],
   "source": [
    "plt.plot(range(num_sec),results_table.iloc[4,:], 'b') # green\n",
    "plt.title(\"SMAPE score vs. forecast time index\",fontsize=18)\n",
    "plt.xlabel(\"time\", fontsize=15)\n",
    "plt.ylabel(\"SMAPE\",fontsize=15);\n",
    "plt.show()"
   ]
  },
  {
   "cell_type": "code",
   "execution_count": 76,
   "metadata": {
    "colab": {
     "base_uri": "https://localhost:8080/",
     "height": 304
    },
    "colab_type": "code",
    "executionInfo": {
     "elapsed": 47208,
     "status": "ok",
     "timestamp": 1584717162231,
     "user": {
      "displayName": "Manuel López Martín",
      "photoUrl": "https://lh3.googleusercontent.com/a-/AOh14Gjkbx9ZcgNrx28G-E9vmuDH73kYDfRwYT7t4SrOSQytLxtAwwl3I1K9yrMCXDmpZDNRYJMtwAh1zUlDFBeKxUr27pGfkbEuB8jW7lZ493uXzPvtAaC789hDEYxeLTuYOFvHe-CvV2lEUxJ-VQLYi-j3sjekrCtwd-fTarbdYre3bTLHf9qgyLR3sZDRdiYD5IIGnePAsdQ9BIuGb6m4UTckK_xLzJgUTGemEM4_uRpl_eTir9imsyDARB5cNolutC5oZ0iMtKKJbCSYpV3aOTZ28OfpEdOfCEXKGAfl8VA5Pi5V-p60C5ZwEu856OwlJv7ZoHH2ZhQKmEYkYHTn7EyTdCrJ5Wg7VE_RH5I7zuIbBOsOgXRaR38zr9XRYFuL_zj2DYkQ4u95CqyClNNV6uRBFCj9FPpbqwjUT_2weo_47cJP73uX3TByD16ShG8kOrPjIxMg8KatQnF6UjA4iySodg_LXbsWXBNja5pnBt4EEep476uXgMytX0nLvN-7i4DeJINnM2Td0y7F5Bf9sVkAC5mRULjppb8fao84LSFAxoHLIXl4BvMY6tKT6ywy54zbmr99YPuUqXt2GZ0TsSBOPXlYUXz_jAsloMrqeSgxGDnsm1tBrvbECnnBELENi9r9PUE6lTJ5Fn3pXDYIJ2RJcGT9sebJo-QjsOlAl8nIbydH8wH_EqPmWIncWhFSfpv0mue8KLsNEE5QV6d5zV4CNioVdf34uezwiG4zeLzlJ0VZmf5ByQXWD1FoiZKC7vOBZw=s64",
      "userId": "11336038813033628796"
     },
     "user_tz": -60
    },
    "id": "FDnqNI56YSSf",
    "outputId": "7b7ebf84-40d2-4d69-b7d0-fc98c1d6e755"
   },
   "outputs": [
    {
     "data": {
      "image/png": "[encoded data removed]",
      "text/plain": [
       "<Figure size 432x288 with 1 Axes>"
      ]
     },
     "metadata": {
      "needs_background": "light"
     },
     "output_type": "display_data"
    }
   ],
   "source": [
    "plt.plot(range(num_sec),results_table.iloc[5,:], 'b') # green\n",
    "plt.title(\"RRMSE score vs. forecast time index\",fontsize=18)\n",
    "plt.xlabel(\"time\", fontsize=15)\n",
    "plt.ylabel(\"RRMSE\",fontsize=15);\n",
    "plt.show()"
   ]
  },
  {
   "cell_type": "markdown",
   "metadata": {},
   "source": [
    "## 5.4 Output values"
   ]
  },
  {
   "cell_type": "code",
   "execution_count": 77,
   "metadata": {},
   "outputs": [
    {
     "name": "stdout",
     "output_type": "stream",
     "text": [
      "36/36 [==============================] - 0s 1ms/step\n",
      "(180, 6, 20)\n",
      "(180, 6, 20)\n",
      "(180, 6)\n"
     ]
    }
   ],
   "source": [
    "Ytest_hat_fl = model.predict(test_generator, verbose=1) \n",
    "\n",
    "# Create the multidimensional arrays for the results and ground-truth values\n",
    "mat_pred = np.zeros((Ytest_fl[0].shape[0],p,Ytest_fl[0].shape[1]))\n",
    "mat_ground_truth = np.zeros((Ytest_fl[0].shape[0],p,Ytest_fl[0].shape[1]))\n",
    "mat_time_slice_index = np.zeros((Ytest_fl[0].shape[0],p),dtype=int)\n",
    "print(mat_pred.shape)\n",
    "print(mat_ground_truth.shape)\n",
    "print(mat_time_slice_index.shape)\n",
    "\n",
    "# Fill the output arrays\n",
    "for i in range(p):\n",
    "    for j in range(Ytest_fl[0].shape[0]):\n",
    "        mat_pred[j,i,:]=Ytest_hat_fl[i][j,:]\n",
    "        \n",
    "for i in range(p):\n",
    "    for j in range(Ytest_fl[0].shape[0]):\n",
    "        mat_ground_truth[j,i,:]=tensor.T[test_idxs[j]+k+i,:]\n",
    "\n",
    "for i in range(p):\n",
    "    for j in range(Ytest_fl[0].shape[0]):\n",
    "        mat_time_slice_index[j,i]=test_idxs[j]+k+i     \n",
    "  \n",
    "# Predicitions not scaled\n",
    "mat_pred = mat_pred * range_val + min_val\n"
   ]
  },
  {
   "cell_type": "code",
   "execution_count": 79,
   "metadata": {
    "scrolled": true
   },
   "outputs": [
    {
     "data": {
      "text/html": [
       "<div>\n",
       "<style scoped>\n",
       "    .dataframe tbody tr th:only-of-type {\n",
       "        vertical-align: middle;\n",
       "    }\n",
       "\n",
       "    .dataframe tbody tr th {\n",
       "        vertical-align: top;\n",
       "    }\n",
       "\n",
       "    .dataframe thead th {\n",
       "        text-align: right;\n",
       "    }\n",
       "</style>\n",
       "<table border=\"1\" class=\"dataframe\">\n",
       "  <thead>\n",
       "    <tr style=\"text-align: right;\">\n",
       "      <th></th>\n",
       "      <th>0</th>\n",
       "      <th>1</th>\n",
       "      <th>2</th>\n",
       "      <th>3</th>\n",
       "      <th>4</th>\n",
       "      <th>5</th>\n",
       "    </tr>\n",
       "  </thead>\n",
       "  <tbody>\n",
       "    <tr>\n",
       "      <th>0</th>\n",
       "      <td>-471.496986</td>\n",
       "      <td>-472.534036</td>\n",
       "      <td>-471.848552</td>\n",
       "      <td>-472.749320</td>\n",
       "      <td>-471.892269</td>\n",
       "      <td>-471.788204</td>\n",
       "    </tr>\n",
       "    <tr>\n",
       "      <th>1</th>\n",
       "      <td>-472.534036</td>\n",
       "      <td>-471.848552</td>\n",
       "      <td>-472.749320</td>\n",
       "      <td>-471.892269</td>\n",
       "      <td>-471.788204</td>\n",
       "      <td>-472.447265</td>\n",
       "    </tr>\n",
       "    <tr>\n",
       "      <th>2</th>\n",
       "      <td>-471.848552</td>\n",
       "      <td>-472.749320</td>\n",
       "      <td>-471.892269</td>\n",
       "      <td>-471.788204</td>\n",
       "      <td>-472.447265</td>\n",
       "      <td>-471.924983</td>\n",
       "    </tr>\n",
       "    <tr>\n",
       "      <th>3</th>\n",
       "      <td>-472.749320</td>\n",
       "      <td>-471.892269</td>\n",
       "      <td>-471.788204</td>\n",
       "      <td>-472.447265</td>\n",
       "      <td>-471.924983</td>\n",
       "      <td>-472.846218</td>\n",
       "    </tr>\n",
       "    <tr>\n",
       "      <th>4</th>\n",
       "      <td>-471.892269</td>\n",
       "      <td>-471.788204</td>\n",
       "      <td>-472.447265</td>\n",
       "      <td>-471.924983</td>\n",
       "      <td>-472.846218</td>\n",
       "      <td>-471.519833</td>\n",
       "    </tr>\n",
       "    <tr>\n",
       "      <th>...</th>\n",
       "      <td>...</td>\n",
       "      <td>...</td>\n",
       "      <td>...</td>\n",
       "      <td>...</td>\n",
       "      <td>...</td>\n",
       "      <td>...</td>\n",
       "    </tr>\n",
       "    <tr>\n",
       "      <th>175</th>\n",
       "      <td>-471.358914</td>\n",
       "      <td>-472.402244</td>\n",
       "      <td>-471.879936</td>\n",
       "      <td>-472.478993</td>\n",
       "      <td>-472.197641</td>\n",
       "      <td>-471.500800</td>\n",
       "    </tr>\n",
       "    <tr>\n",
       "      <th>176</th>\n",
       "      <td>-472.402244</td>\n",
       "      <td>-471.879936</td>\n",
       "      <td>-472.478993</td>\n",
       "      <td>-472.197641</td>\n",
       "      <td>-471.500800</td>\n",
       "      <td>-472.481238</td>\n",
       "    </tr>\n",
       "    <tr>\n",
       "      <th>177</th>\n",
       "      <td>-471.879936</td>\n",
       "      <td>-472.478993</td>\n",
       "      <td>-472.197641</td>\n",
       "      <td>-471.500800</td>\n",
       "      <td>-472.481238</td>\n",
       "      <td>-471.795742</td>\n",
       "    </tr>\n",
       "    <tr>\n",
       "      <th>178</th>\n",
       "      <td>-472.478993</td>\n",
       "      <td>-472.197641</td>\n",
       "      <td>-471.500800</td>\n",
       "      <td>-472.481238</td>\n",
       "      <td>-471.795742</td>\n",
       "      <td>-472.746209</td>\n",
       "    </tr>\n",
       "    <tr>\n",
       "      <th>179</th>\n",
       "      <td>-472.197641</td>\n",
       "      <td>-471.500800</td>\n",
       "      <td>-472.481238</td>\n",
       "      <td>-471.795742</td>\n",
       "      <td>-472.746209</td>\n",
       "      <td>-471.733611</td>\n",
       "    </tr>\n",
       "  </tbody>\n",
       "</table>\n",
       "<p>180 rows × 6 columns</p>\n",
       "</div>"
      ],
      "text/plain": [
       "              0           1           2           3           4           5\n",
       "0   -471.496986 -472.534036 -471.848552 -472.749320 -471.892269 -471.788204\n",
       "1   -472.534036 -471.848552 -472.749320 -471.892269 -471.788204 -472.447265\n",
       "2   -471.848552 -472.749320 -471.892269 -471.788204 -472.447265 -471.924983\n",
       "3   -472.749320 -471.892269 -471.788204 -472.447265 -471.924983 -472.846218\n",
       "4   -471.892269 -471.788204 -472.447265 -471.924983 -472.846218 -471.519833\n",
       "..          ...         ...         ...         ...         ...         ...\n",
       "175 -471.358914 -472.402244 -471.879936 -472.478993 -472.197641 -471.500800\n",
       "176 -472.402244 -471.879936 -472.478993 -472.197641 -471.500800 -472.481238\n",
       "177 -471.879936 -472.478993 -472.197641 -471.500800 -472.481238 -471.795742\n",
       "178 -472.478993 -472.197641 -471.500800 -472.481238 -471.795742 -472.746209\n",
       "179 -472.197641 -471.500800 -472.481238 -471.795742 -472.746209 -471.733611\n",
       "\n",
       "[180 rows x 6 columns]"
      ]
     },
     "execution_count": 79,
     "metadata": {},
     "output_type": "execute_result"
    }
   ],
   "source": [
    "pd.DataFrame(mat_ground_truth[:,:,0])"
   ]
  },
  {
   "cell_type": "code",
   "execution_count": 80,
   "metadata": {},
   "outputs": [
    {
     "data": {
      "text/html": [
       "<div>\n",
       "<style scoped>\n",
       "    .dataframe tbody tr th:only-of-type {\n",
       "        vertical-align: middle;\n",
       "    }\n",
       "\n",
       "    .dataframe tbody tr th {\n",
       "        vertical-align: top;\n",
       "    }\n",
       "\n",
       "    .dataframe thead th {\n",
       "        text-align: right;\n",
       "    }\n",
       "</style>\n",
       "<table border=\"1\" class=\"dataframe\">\n",
       "  <thead>\n",
       "    <tr style=\"text-align: right;\">\n",
       "      <th></th>\n",
       "      <th>0</th>\n",
       "      <th>1</th>\n",
       "      <th>2</th>\n",
       "      <th>3</th>\n",
       "      <th>4</th>\n",
       "      <th>5</th>\n",
       "    </tr>\n",
       "  </thead>\n",
       "  <tbody>\n",
       "    <tr>\n",
       "      <th>0</th>\n",
       "      <td>-474.531648</td>\n",
       "      <td>-473.177551</td>\n",
       "      <td>-472.972051</td>\n",
       "      <td>-473.892885</td>\n",
       "      <td>-472.591754</td>\n",
       "      <td>-472.067988</td>\n",
       "    </tr>\n",
       "    <tr>\n",
       "      <th>1</th>\n",
       "      <td>-473.407607</td>\n",
       "      <td>-473.156238</td>\n",
       "      <td>-473.916996</td>\n",
       "      <td>-474.033920</td>\n",
       "      <td>-472.965116</td>\n",
       "      <td>-473.681403</td>\n",
       "    </tr>\n",
       "    <tr>\n",
       "      <th>2</th>\n",
       "      <td>-472.249093</td>\n",
       "      <td>-473.908154</td>\n",
       "      <td>-473.279023</td>\n",
       "      <td>-471.757144</td>\n",
       "      <td>-473.395846</td>\n",
       "      <td>-473.117203</td>\n",
       "    </tr>\n",
       "    <tr>\n",
       "      <th>3</th>\n",
       "      <td>-473.672501</td>\n",
       "      <td>-471.352675</td>\n",
       "      <td>-474.130910</td>\n",
       "      <td>-470.815809</td>\n",
       "      <td>-472.923607</td>\n",
       "      <td>-473.677753</td>\n",
       "    </tr>\n",
       "    <tr>\n",
       "      <th>4</th>\n",
       "      <td>-473.740636</td>\n",
       "      <td>-472.404566</td>\n",
       "      <td>-473.466373</td>\n",
       "      <td>-472.094755</td>\n",
       "      <td>-474.335740</td>\n",
       "      <td>-471.921113</td>\n",
       "    </tr>\n",
       "    <tr>\n",
       "      <th>...</th>\n",
       "      <td>...</td>\n",
       "      <td>...</td>\n",
       "      <td>...</td>\n",
       "      <td>...</td>\n",
       "      <td>...</td>\n",
       "      <td>...</td>\n",
       "    </tr>\n",
       "    <tr>\n",
       "      <th>175</th>\n",
       "      <td>-474.442079</td>\n",
       "      <td>-473.086725</td>\n",
       "      <td>-472.776894</td>\n",
       "      <td>-473.684952</td>\n",
       "      <td>-473.367841</td>\n",
       "      <td>-471.934010</td>\n",
       "    </tr>\n",
       "    <tr>\n",
       "      <th>176</th>\n",
       "      <td>-473.655062</td>\n",
       "      <td>-472.751181</td>\n",
       "      <td>-473.934678</td>\n",
       "      <td>-473.969192</td>\n",
       "      <td>-472.818708</td>\n",
       "      <td>-473.635291</td>\n",
       "    </tr>\n",
       "    <tr>\n",
       "      <th>177</th>\n",
       "      <td>-472.693469</td>\n",
       "      <td>-474.091388</td>\n",
       "      <td>-473.337282</td>\n",
       "      <td>-472.686149</td>\n",
       "      <td>-473.384084</td>\n",
       "      <td>-473.186656</td>\n",
       "    </tr>\n",
       "    <tr>\n",
       "      <th>178</th>\n",
       "      <td>-473.200404</td>\n",
       "      <td>-471.758806</td>\n",
       "      <td>-474.089036</td>\n",
       "      <td>-470.789062</td>\n",
       "      <td>-473.004132</td>\n",
       "      <td>-473.894324</td>\n",
       "    </tr>\n",
       "    <tr>\n",
       "      <th>179</th>\n",
       "      <td>-473.851659</td>\n",
       "      <td>-472.147175</td>\n",
       "      <td>-473.679558</td>\n",
       "      <td>-471.412211</td>\n",
       "      <td>-474.353991</td>\n",
       "      <td>-471.672137</td>\n",
       "    </tr>\n",
       "  </tbody>\n",
       "</table>\n",
       "<p>180 rows × 6 columns</p>\n",
       "</div>"
      ],
      "text/plain": [
       "              0           1           2           3           4           5\n",
       "0   -474.531648 -473.177551 -472.972051 -473.892885 -472.591754 -472.067988\n",
       "1   -473.407607 -473.156238 -473.916996 -474.033920 -472.965116 -473.681403\n",
       "2   -472.249093 -473.908154 -473.279023 -471.757144 -473.395846 -473.117203\n",
       "3   -473.672501 -471.352675 -474.130910 -470.815809 -472.923607 -473.677753\n",
       "4   -473.740636 -472.404566 -473.466373 -472.094755 -474.335740 -471.921113\n",
       "..          ...         ...         ...         ...         ...         ...\n",
       "175 -474.442079 -473.086725 -472.776894 -473.684952 -473.367841 -471.934010\n",
       "176 -473.655062 -472.751181 -473.934678 -473.969192 -472.818708 -473.635291\n",
       "177 -472.693469 -474.091388 -473.337282 -472.686149 -473.384084 -473.186656\n",
       "178 -473.200404 -471.758806 -474.089036 -470.789062 -473.004132 -473.894324\n",
       "179 -473.851659 -472.147175 -473.679558 -471.412211 -474.353991 -471.672137\n",
       "\n",
       "[180 rows x 6 columns]"
      ]
     },
     "execution_count": 80,
     "metadata": {},
     "output_type": "execute_result"
    }
   ],
   "source": [
    "pd.DataFrame(mat_pred[:,:,0])"
   ]
  },
  {
   "cell_type": "markdown",
   "metadata": {},
   "source": [
    "### Codigo a meter por Rodrigo"
   ]
  },
  {
   "cell_type": "code",
   "execution_count": null,
   "metadata": {},
   "outputs": [],
   "source": []
  },
  {
   "cell_type": "code",
   "execution_count": null,
   "metadata": {},
   "outputs": [],
   "source": []
  },
  {
   "cell_type": "code",
   "execution_count": null,
   "metadata": {},
   "outputs": [],
   "source": []
  },
  {
   "cell_type": "code",
   "execution_count": null,
   "metadata": {},
   "outputs": [],
   "source": []
  },
  {
   "cell_type": "code",
   "execution_count": null,
   "metadata": {},
   "outputs": [],
   "source": []
  }
 ],
 "metadata": {
  "accelerator": "GPU",
  "colab": {
   "collapsed_sections": [
    "WYODGQkDj_kJ"
   ],
   "machine_shape": "hm",
   "name": "colab_DMD_UPM_CNN v9.4.ipynb",
   "provenance": [],
   "toc_visible": true
  },
  "kernelspec": {
   "display_name": "Python 3",
   "language": "python",
   "name": "python3"
  },
  "language_info": {
   "codemirror_mode": {
    "name": "ipython",
    "version": 3
   },
   "file_extension": ".py",
   "mimetype": "text/x-python",
   "name": "python",
   "nbconvert_exporter": "python",
   "pygments_lexer": "ipython3",
   "version": "3.6.7"
  }
 },
 "nbformat": 4,
 "nbformat_minor": 1
}
